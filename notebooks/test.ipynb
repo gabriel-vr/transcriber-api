{
 "cells": [
  {
   "cell_type": "markdown",
   "metadata": {},
   "source": [
    "# Imports and Configs"
   ]
  },
  {
   "cell_type": "code",
   "execution_count": 2,
   "metadata": {},
   "outputs": [
    {
     "name": "stderr",
     "output_type": "stream",
     "text": [
      "/home/gabriel_vr/Desktop/work/fator3/startup_manager/whisper-api/venv/lib/python3.8/site-packages/tqdm/auto.py:21: TqdmWarning: IProgress not found. Please update jupyter and ipywidgets. See https://ipywidgets.readthedocs.io/en/stable/user_install.html\n",
      "  from .autonotebook import tqdm as notebook_tqdm\n"
     ]
    }
   ],
   "source": [
    "import sys\n",
    "\n",
    "sys.path.append('..')\n",
    "from services.audio.audioSegmenter import AudioSegmenterService\n",
    "from services.diarization.pyannote import PyanotteDiarizeService\n",
    "from services.transcription.whisper import WhisperApi \n",
    "from tempfile import NamedTemporaryFile"
   ]
  },
  {
   "cell_type": "code",
   "execution_count": 3,
   "metadata": {},
   "outputs": [],
   "source": [
    "filepath = '/home/gabriel_vr/Downloads/O Maior Segredo da Nilce! - Hora de Pôr Café (Parte 67).mp4'"
   ]
  },
  {
   "cell_type": "markdown",
   "metadata": {},
   "source": [
    "# Tests"
   ]
  },
  {
   "cell_type": "markdown",
   "metadata": {},
   "source": [
    "## Downloanding and cuting audio"
   ]
  },
  {
   "cell_type": "code",
   "execution_count": 5,
   "metadata": {},
   "outputs": [
    {
     "name": "stderr",
     "output_type": "stream",
     "text": [
      "Exception ignored in: <function _TemporaryFileCloser.__del__ at 0x7f2c6bee7ee0>\n",
      "Traceback (most recent call last):\n",
      "  File \"/home/gabriel_vr/Desktop/work/fator3/startup_manager/whisper-api/venv/lib/python3.8/tempfile.py\", line 440, in __del__\n",
      "    self.close()\n",
      "  File \"/home/gabriel_vr/Desktop/work/fator3/startup_manager/whisper-api/venv/lib/python3.8/tempfile.py\", line 436, in close\n",
      "    unlink(self.name)\n",
      "FileNotFoundError: [Errno 2] No such file or directory: '/home/gabriel_vr/Desktop/work/fator3/startup_manager/whisper-api/notebooks/temp/tmp_sapbzhx.wav'\n",
      "Exception ignored in: <function _TemporaryFileCloser.__del__ at 0x7f2c6bee7ee0>\n",
      "Traceback (most recent call last):\n",
      "  File \"/home/gabriel_vr/Desktop/work/fator3/startup_manager/whisper-api/venv/lib/python3.8/tempfile.py\", line 440, in __del__\n",
      "    self.close()\n",
      "  File \"/home/gabriel_vr/Desktop/work/fator3/startup_manager/whisper-api/venv/lib/python3.8/tempfile.py\", line 436, in close\n",
      "    unlink(self.name)\n",
      "FileNotFoundError: [Errno 2] No such file or directory: '/home/gabriel_vr/Desktop/work/fator3/startup_manager/whisper-api/notebooks/temp/tmps31va_h5.wav'\n",
      "[debug] Command-line config: ['--enable-file-urls', '--force-overwrites', '-xv', '--ffmpeg-location', '/bin', '--audio-format', 'wav', '-o', '/home/gabriel_vr/Desktop/work/fator3/startup_manager/whisper-api/notebooks/temp/tmp229j_d35.wav', '--', 'file:///home/gabriel_vr/Downloads/O Maior Segredo da Nilce! - Hora de Pôr Café (Parte 67).mp4']\n",
      "[debug] Encodings: locale UTF-8, fs utf-8, pref UTF-8, out utf-8 (No ANSI), error utf-8 (No ANSI), screen utf-8 (No ANSI)\n",
      "[debug] yt-dlp version stable@2023.07.06 [b532a3481] (pip)\n",
      "[debug] Python 3.8.17 (CPython x86_64 64bit) - Linux-5.14.0-1059-oem-x86_64-with-glibc2.10 (OpenSSL 3.1.2 1 Aug 2023, glibc 2.31)\n",
      "[debug] exe versions: ffmpeg 4.2.7, ffprobe 4.2.7\n",
      "[debug] Optional libraries: Cryptodome-3.18.0, brotli-1.0.9, certifi-2023.07.22, mutagen-1.46.0, sqlite3-2.6.0, websockets-11.0.3\n",
      "[debug] Proxy map: {}\n",
      "[debug] Loaded 1855 extractors\n"
     ]
    },
    {
     "name": "stdout",
     "output_type": "stream",
     "text": [
      "[generic] Extracting URL: file:///home/gabriel_vr/Downloads/O Maior Segredo da Nilce! - Hora de Pôr Café (Parte 67).mp4\n",
      "[generic] O Maior Segredo da Nilce! - Hora de Pôr Café (Parte 67): Downloading webpage\n",
      "[redirect] Following redirect to file:///home/gabriel_vr/Downloads/O%20Maior%20Segredo%20da%20Nilce!%20-%20Hora%20de%20P%C3%B4r%20Caf%C3%A9%20(Parte%2067).mp4\n",
      "[generic] Extracting URL: file:///home/gabriel_vr/Downloads/O%20Maior%20Segredo%20da%20Nilce!%20-%20Hora%20de%20P%C3%B4r%20Caf%C3%A9%20(Parte%2067).mp4\n",
      "[generic] O Maior Segredo da Nilce! - Hora de Pôr Café (Parte 67): Downloading webpage\n",
      "[info] O Maior Segredo da Nilce! - Hora de Pôr Café (Parte 67): Downloading 1 format(s): mp4\n",
      "Deleting existing file /home/gabriel_vr/Desktop/work/fator3/startup_manager/whisper-api/notebooks/temp/tmp229j_d35.wav\n",
      "[download] Destination: /home/gabriel_vr/Desktop/work/fator3/startup_manager/whisper-api/notebooks/temp/tmp229j_d35.mp4\n",
      "[download] 100% of   43.88MiB in 00:00:00 at 636.98MiB/s   \n",
      "[ExtractAudio] Destination: /home/gabriel_vr/Desktop/work/fator3/startup_manager/whisper-api/notebooks/temp/tmp229j_d35.wav\n"
     ]
    },
    {
     "name": "stderr",
     "output_type": "stream",
     "text": [
      "[debug] Identified a direct video link\n",
      "[debug] Formats sorted by: hasvid, ie_pref, lang, quality, res, fps, hdr:12(7), vcodec:vp9.2(10), channels, acodec, size, br, asr, proto, vext, aext, hasaud, source, id\n",
      "[debug] Invoking http downloader on \"file:///home/gabriel_vr/Downloads/O%20Maior%20Segredo%20da%20Nilce!%20-%20Hora%20de%20P%C3%B4r%20Caf%C3%A9%20(Parte%2067).mp4\"\n",
      "[debug] ffmpeg command line: /bin/ffprobe -show_streams file:/home/gabriel_vr/Desktop/work/fator3/startup_manager/whisper-api/notebooks/temp/tmp229j_d35.mp4\n",
      "[debug] ffmpeg command line: /bin/ffmpeg -y -loglevel repeat+info -i file:/home/gabriel_vr/Desktop/work/fator3/startup_manager/whisper-api/notebooks/temp/tmp229j_d35.mp4 -vn -movflags +faststart file:/home/gabriel_vr/Desktop/work/fator3/startup_manager/whisper-api/notebooks/temp/tmp229j_d35.wav\n"
     ]
    },
    {
     "name": "stdout",
     "output_type": "stream",
     "text": [
      "Deleting original file /home/gabriel_vr/Desktop/work/fator3/startup_manager/whisper-api/notebooks/temp/tmp229j_d35.mp4 (pass -k to keep)\n"
     ]
    }
   ],
   "source": [
    "spacermillisecs = 2500\n",
    "\n",
    "tempAudio = NamedTemporaryFile(dir='./temp/',suffix='.wav')\n",
    "tempAudioCut = NamedTemporaryFile(dir='./temp/',suffix='.wav')\n",
    "\n",
    "\n",
    "#get file from web or localhost and extract audio\n",
    "AudioSegmenterService.convertFileFromWebOrLocalToAudio('file://' + filepath, tempAudio.name)\n",
    "\n",
    "#cut audio in x milliseconds\n",
    "AudioSegmenterService.cutAudio(tempAudio.name, tempAudioCut.name, 0, 60 * 1000 * 0.5)\n",
    "\n",
    "\n",
    "AudioSegmenterService.prependToAudio(tempAudioCut.name, spacermillisecs)"
   ]
  },
  {
   "cell_type": "markdown",
   "metadata": {},
   "source": [
    "## Getting speeches time and speakers from audio"
   ]
  },
  {
   "cell_type": "code",
   "execution_count": 6,
   "metadata": {},
   "outputs": [
    {
     "name": "stderr",
     "output_type": "stream",
     "text": [
      "torchvision is not available - cannot save figures\n",
      "Lightning automatically upgraded your loaded checkpoint from v1.5.4 to v2.0.8. To apply the upgrade to your files permanently, run `python -m pytorch_lightning.utilities.upgrade_checkpoint --file ../../../../../../.cache/torch/pyannote/models--pyannote--segmentation/snapshots/c4c8ceafcbb3a7a280c2d357aee9fbc9b0be7f9b/pytorch_model.bin`\n"
     ]
    },
    {
     "name": "stdout",
     "output_type": "stream",
     "text": [
      "Model was trained with pyannote.audio 0.0.1, yours is 2.1.1. Bad things might happen unless you revert pyannote.audio to 0.x.\n",
      "Model was trained with torch 1.10.0+cu102, yours is 2.0.1+cu117. Bad things might happen unless you revert torch to 1.x.\n"
     ]
    }
   ],
   "source": [
    "diarizer = PyanotteDiarizeService()\n",
    "speeches = diarizer.diarize(tempAudioCut.name)"
   ]
  },
  {
   "cell_type": "markdown",
   "metadata": {},
   "source": [
    "Adding time between speeches for better transcription"
   ]
  },
  {
   "cell_type": "code",
   "execution_count": 7,
   "metadata": {},
   "outputs": [
    {
     "data": {
      "text/plain": [
       "[2500, 6468, 15077, 23703, 40212]"
      ]
     },
     "execution_count": 7,
     "metadata": {},
     "output_type": "execute_result"
    }
   ],
   "source": [
    "tempAudioSegmented = NamedTemporaryFile(dir='./temp/',suffix='.wav')\n",
    "\n",
    "AudioHandler.addTimeBetweenSpeeches(tempAudioCut.name, tempAudioSegmented.name, spacermillisecs, speeches)"
   ]
  },
  {
   "cell_type": "markdown",
   "metadata": {},
   "source": [
    "## Transcribing audio using API "
   ]
  },
  {
   "cell_type": "code",
   "execution_count": 5,
   "metadata": {},
   "outputs": [
    {
     "ename": "NameError",
     "evalue": "name 'tempAudioSegmented' is not defined",
     "output_type": "error",
     "traceback": [
      "\u001b[0;31m---------------------------------------------------------------------------\u001b[0m",
      "\u001b[0;31mNameError\u001b[0m                                 Traceback (most recent call last)",
      "Cell \u001b[0;32mIn[5], line 1\u001b[0m\n\u001b[0;32m----> 1\u001b[0m transcription \u001b[39m=\u001b[39m WhisperApi()\u001b[39m.\u001b[39mtranscribeAudio(tempAudioSegmented\u001b[39m.\u001b[39mname)\n",
      "\u001b[0;31mNameError\u001b[0m: name 'tempAudioSegmented' is not defined"
     ]
    }
   ],
   "source": [
    "transcription = WhisperApi().transcribeAudio(tempAudioSegmented.name)"
   ]
  },
  {
   "cell_type": "code",
   "execution_count": 9,
   "metadata": {},
   "outputs": [
    {
     "name": "stdout",
     "output_type": "stream",
     "text": [
      "[{'start': 0.0, 'end': 12.578684807256236, 'text': 'Senhoras e senhores, essa é a hora, a hora que você quer!'}]\n"
     ]
    }
   ],
   "source": [
    "print([{'start': transc.start, 'end': transc.end, 'text': transc.text} for transc in transcription])"
   ]
  }
 ],
 "metadata": {
  "kernelspec": {
   "display_name": "Python 3",
   "language": "python",
   "name": "python3"
  },
  "language_info": {
   "codemirror_mode": {
    "name": "ipython",
    "version": 3
   },
   "file_extension": ".py",
   "mimetype": "text/x-python",
   "name": "python",
   "nbconvert_exporter": "python",
   "pygments_lexer": "ipython3",
   "version": "3.8.17"
  },
  "orig_nbformat": 4
 },
 "nbformat": 4,
 "nbformat_minor": 2
}
