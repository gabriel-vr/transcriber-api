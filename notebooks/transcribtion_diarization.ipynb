{
  "cells": [
    {
      "cell_type": "markdown",
      "metadata": {
        "id": "RQyROdrfsvk4"
      },
      "source": [
        "# Whisper's transcription plus Pyannote's Diarization \n",
        "\n",
        "Andrej Karpathy [suggested](https://twitter.com/karpathy/status/1574476200801538048?s=20&t=s5IMMXOYjBI6-91dib6w8g) training a classifier on top of  OpenAI [Whisper](https://openai.com/blog/whisper/) model features to identify the speaker, so we can visualize the speaker in the transcript. But, as [pointed out](https://twitter.com/tarantulae/status/1574493613362388992?s=20&t=s5IMMXOYjBI6-91dib6w8g) by Christian Perone, it seems that features from whisper wouldn't be that great for speaker recognition as its main objective is basically to ignore speaker differences.\n",
        "\n",
        "In the following, I use [**`pyannote-audio`**](https://github.com/pyannote/pyannote-audio), a speaker diarization toolkit by Hervé Bredin, to identify the speakers, and then match it with the transcriptions of Whispr. I do it on the first 30 minutes of  Lex's 2nd [interview](https://youtu.be/SGzMElJ11Cc) with Yann LeCun. Check the result [**here**](https://majdoddin.github.io/lexicap.html). \n",
        "\n",
        "It is tricky to match the transcriptions to diarization segemtns, specially when the speaker changes. To resolve it, Sarah Kaiser [suggested](https://github.com/openai/whisper/discussions/264#discussioncomment-3825375) runnnig the pyannote.audio first and  then just running whisper on the split-by-speaker chunks. \n",
        "For sake of performance (and transcription quality?), we attach the audio segements into a single audio file with a silent spacer as a seperator, and run whisper on it. Enjoy it!"
      ]
    },
    {
      "cell_type": "markdown",
      "metadata": {
        "id": "wtljXaTXnowa"
      },
      "source": [
        "# Preparing the audio file"
      ]
    },
    {
      "cell_type": "markdown",
      "metadata": {
        "id": "Ct4adIANpQvX"
      },
      "source": [
        " Installing `yt-dlp` and downloading the [video](https://)."
      ]
    },
    {
      "cell_type": "code",
      "execution_count": 2,
      "metadata": {},
      "outputs": [
        {
          "name": "stdout",
          "output_type": "stream",
          "text": [
            "Collecting https://github.com/pyannote/pyannote-audio/archive/refs/heads/develop.zip\n",
            "  Using cached https://github.com/pyannote/pyannote-audio/archive/refs/heads/develop.zip\n",
            "  Preparing metadata (setup.py) ... \u001b[?25ldone\n",
            "\u001b[?25hCollecting asteroid-filterbanks>=0.4 (from pyannote.audio==2.1.1)\n",
            "  Using cached asteroid_filterbanks-0.4.0-py3-none-any.whl (29 kB)\n",
            "Collecting einops>=0.6.0 (from pyannote.audio==2.1.1)\n",
            "  Using cached einops-0.6.1-py3-none-any.whl (42 kB)\n",
            "Collecting huggingface_hub>=0.13.0 (from pyannote.audio==2.1.1)\n",
            "  Obtaining dependency information for huggingface_hub>=0.13.0 from https://files.pythonhosted.org/packages/7f/c4/adcbe9a696c135578cabcbdd7331332daad4d49b7c43688bc2d36b3a47d2/huggingface_hub-0.16.4-py3-none-any.whl.metadata\n",
            "  Downloading huggingface_hub-0.16.4-py3-none-any.whl.metadata (12 kB)\n",
            "Collecting lightning>=2.0.1 (from pyannote.audio==2.1.1)\n",
            "  Obtaining dependency information for lightning>=2.0.1 from https://files.pythonhosted.org/packages/a6/a3/e3caca2bb110ad5f33b485d48a6b604d104842b922914c973c0231916131/lightning-2.0.8-py3-none-any.whl.metadata\n",
            "  Downloading lightning-2.0.8-py3-none-any.whl.metadata (41 kB)\n",
            "\u001b[2K     \u001b[90m━━━━━━━━━━━━━━━━━━━━━━━━━━━━━━━━━━━━━━━\u001b[0m \u001b[32m41.2/41.2 kB\u001b[0m \u001b[31m877.3 kB/s\u001b[0m eta \u001b[36m0:00:00\u001b[0m0:01\u001b[0m\n",
            "\u001b[?25hCollecting omegaconf<3.0,>=2.1 (from pyannote.audio==2.1.1)\n",
            "  Using cached omegaconf-2.3.0-py3-none-any.whl (79 kB)\n",
            "Collecting pyannote.core>=5.0.0 (from pyannote.audio==2.1.1)\n",
            "  Using cached pyannote.core-5.0.0-py3-none-any.whl (58 kB)\n",
            "Collecting pyannote.database>=5.0.1 (from pyannote.audio==2.1.1)\n",
            "  Using cached pyannote.database-5.0.1-py3-none-any.whl (48 kB)\n",
            "Collecting pyannote.metrics>=3.2 (from pyannote.audio==2.1.1)\n",
            "  Using cached pyannote.metrics-3.2.1-py3-none-any.whl (51 kB)\n",
            "Collecting pyannote.pipeline>=2.3 (from pyannote.audio==2.1.1)\n",
            "  Using cached pyannote.pipeline-2.3-py3-none-any.whl (30 kB)\n",
            "Collecting pytorch_metric_learning>=2.1.0 (from pyannote.audio==2.1.1)\n",
            "  Obtaining dependency information for pytorch_metric_learning>=2.1.0 from https://files.pythonhosted.org/packages/bd/92/368d0a2cae809df9fa775742092de5ef6d0dc4008a3d23ca9d9c1e80fb91/pytorch_metric_learning-2.3.0-py3-none-any.whl.metadata\n",
            "  Downloading pytorch_metric_learning-2.3.0-py3-none-any.whl.metadata (17 kB)\n",
            "Collecting rich>=12.0.0 (from pyannote.audio==2.1.1)\n",
            "  Obtaining dependency information for rich>=12.0.0 from https://files.pythonhosted.org/packages/8d/5f/21a93b2ec205f4b79853ff6e838e3c99064d5dbe85ec6b05967506f14af0/rich-13.5.2-py3-none-any.whl.metadata\n",
            "  Downloading rich-13.5.2-py3-none-any.whl.metadata (18 kB)\n",
            "Collecting semver>=3.0.0 (from pyannote.audio==2.1.1)\n",
            "  Obtaining dependency information for semver>=3.0.0 from https://files.pythonhosted.org/packages/d4/5d/f2b4fe45886238c405ad177ca43911cb1459d08003004da5c27495eb4216/semver-3.0.1-py3-none-any.whl.metadata\n",
            "  Downloading semver-3.0.1-py3-none-any.whl.metadata (5.5 kB)\n",
            "Collecting soundfile>=0.12.1 (from pyannote.audio==2.1.1)\n",
            "  Downloading soundfile-0.12.1-py2.py3-none-manylinux_2_31_x86_64.whl (1.2 MB)\n",
            "\u001b[2K     \u001b[90m━━━━━━━━━━━━━━━━━━━━━━━━━━━━━━━━━━━━━━━━\u001b[0m \u001b[32m1.2/1.2 MB\u001b[0m \u001b[31m2.9 MB/s\u001b[0m eta \u001b[36m0:00:00\u001b[0m00:01\u001b[0m00:01\u001b[0m\n",
            "\u001b[?25hCollecting speechbrain>=0.5.14 (from pyannote.audio==2.1.1)\n",
            "  Obtaining dependency information for speechbrain>=0.5.14 from https://files.pythonhosted.org/packages/bf/04/20276db9b28bcd2b6c284fb63e1f2d9fb09be9f2d083d11d6659d331057b/speechbrain-0.5.15-py3-none-any.whl.metadata\n",
            "  Downloading speechbrain-0.5.15-py3-none-any.whl.metadata (23 kB)\n",
            "Collecting tensorboardX>=2.6 (from pyannote.audio==2.1.1)\n",
            "  Obtaining dependency information for tensorboardX>=2.6 from https://files.pythonhosted.org/packages/44/71/f3e7c9b2ab67e28c572ab4e9d5fa3499e0d252650f96d8a3a03e26677f53/tensorboardX-2.6.2.2-py2.py3-none-any.whl.metadata\n",
            "  Downloading tensorboardX-2.6.2.2-py2.py3-none-any.whl.metadata (5.8 kB)\n",
            "Collecting torch>=2.0.0 (from pyannote.audio==2.1.1)\n",
            "  Using cached torch-2.0.1-cp38-cp38-manylinux1_x86_64.whl (619.9 MB)\n",
            "Collecting torch_audiomentations>=0.11.0 (from pyannote.audio==2.1.1)\n",
            "  Using cached torch_audiomentations-0.11.0-py3-none-any.whl (47 kB)\n",
            "Collecting torchaudio>=2.0.0 (from pyannote.audio==2.1.1)\n",
            "  Using cached torchaudio-2.0.2-cp38-cp38-manylinux1_x86_64.whl (4.4 MB)\n",
            "Collecting torchmetrics>=0.11.0 (from pyannote.audio==2.1.1)\n",
            "  Obtaining dependency information for torchmetrics>=0.11.0 from https://files.pythonhosted.org/packages/e3/86/47091c33ecf05f8826d134fd518485d4c68ca524c053b2fdd4e041c20547/torchmetrics-1.1.1-py3-none-any.whl.metadata\n",
            "  Downloading torchmetrics-1.1.1-py3-none-any.whl.metadata (21 kB)\n",
            "Requirement already satisfied: numpy in /home/gabriel_vr/.local/lib/python3.8/site-packages (from asteroid-filterbanks>=0.4->pyannote.audio==2.1.1) (1.24.2)\n",
            "Requirement already satisfied: typing-extensions in /home/gabriel_vr/.local/lib/python3.8/site-packages (from asteroid-filterbanks>=0.4->pyannote.audio==2.1.1) (4.5.0)\n",
            "Collecting filelock (from huggingface_hub>=0.13.0->pyannote.audio==2.1.1)\n",
            "  Obtaining dependency information for filelock from https://files.pythonhosted.org/packages/52/90/45223db4e1df30ff14e8aebf9a1bf0222da2e7b49e53692c968f36817812/filelock-3.12.3-py3-none-any.whl.metadata\n",
            "  Downloading filelock-3.12.3-py3-none-any.whl.metadata (2.7 kB)\n",
            "Collecting fsspec (from huggingface_hub>=0.13.0->pyannote.audio==2.1.1)\n",
            "  Obtaining dependency information for fsspec from https://files.pythonhosted.org/packages/e3/bd/4c0a4619494188a9db5d77e2100ab7d544a42e76b2447869d8e124e981d8/fsspec-2023.6.0-py3-none-any.whl.metadata\n",
            "  Downloading fsspec-2023.6.0-py3-none-any.whl.metadata (6.7 kB)\n",
            "Collecting requests (from huggingface_hub>=0.13.0->pyannote.audio==2.1.1)\n",
            "  Obtaining dependency information for requests from https://files.pythonhosted.org/packages/70/8e/0e2d847013cb52cd35b38c009bb167a1a26b2ce6cd6965bf26b47bc0bf44/requests-2.31.0-py3-none-any.whl.metadata\n",
            "  Downloading requests-2.31.0-py3-none-any.whl.metadata (4.6 kB)\n",
            "Requirement already satisfied: tqdm>=4.42.1 in /home/gabriel_vr/.local/lib/python3.8/site-packages (from huggingface_hub>=0.13.0->pyannote.audio==2.1.1) (4.65.0)\n",
            "Collecting pyyaml>=5.1 (from huggingface_hub>=0.13.0->pyannote.audio==2.1.1)\n",
            "  Obtaining dependency information for pyyaml>=5.1 from https://files.pythonhosted.org/packages/c8/6b/6600ac24725c7388255b2f5add93f91e58a5d7efaf4af244fdbcc11a541b/PyYAML-6.0.1-cp38-cp38-manylinux_2_17_x86_64.manylinux2014_x86_64.whl.metadata\n",
            "  Downloading PyYAML-6.0.1-cp38-cp38-manylinux_2_17_x86_64.manylinux2014_x86_64.whl.metadata (2.1 kB)\n",
            "Requirement already satisfied: packaging>=20.9 in /home/gabriel_vr/.local/lib/python3.8/site-packages (from huggingface_hub>=0.13.0->pyannote.audio==2.1.1) (23.1)\n",
            "Requirement already satisfied: Jinja2<5.0 in /home/gabriel_vr/.local/lib/python3.8/site-packages (from lightning>=2.0.1->pyannote.audio==2.1.1) (3.1.2)\n",
            "Collecting arrow<3.0,>=1.2.0 (from lightning>=2.0.1->pyannote.audio==2.1.1)\n",
            "  Using cached arrow-1.2.3-py3-none-any.whl (66 kB)\n",
            "Collecting backoff<4.0,>=2.2.1 (from lightning>=2.0.1->pyannote.audio==2.1.1)\n",
            "  Using cached backoff-2.2.1-py3-none-any.whl (15 kB)\n",
            "Collecting beautifulsoup4<6.0,>=4.8.0 (from lightning>=2.0.1->pyannote.audio==2.1.1)\n",
            "  Using cached beautifulsoup4-4.12.2-py3-none-any.whl (142 kB)\n",
            "Requirement already satisfied: click<10.0 in /home/gabriel_vr/.local/lib/python3.8/site-packages (from lightning>=2.0.1->pyannote.audio==2.1.1) (8.1.7)\n",
            "Collecting croniter<1.5.0,>=1.3.0 (from lightning>=2.0.1->pyannote.audio==2.1.1)\n",
            "  Obtaining dependency information for croniter<1.5.0,>=1.3.0 from https://files.pythonhosted.org/packages/f2/91/e5ae454da8200c6eb6cf94ca05d799b51e2cb2cc458a7737aebc0c5a21bb/croniter-1.4.1-py2.py3-none-any.whl.metadata\n",
            "  Downloading croniter-1.4.1-py2.py3-none-any.whl.metadata (24 kB)\n",
            "Collecting dateutils<2.0 (from lightning>=2.0.1->pyannote.audio==2.1.1)\n",
            "  Using cached dateutils-0.6.12-py2.py3-none-any.whl (5.7 kB)\n",
            "Collecting deepdiff<8.0,>=5.7.0 (from lightning>=2.0.1->pyannote.audio==2.1.1)\n",
            "  Obtaining dependency information for deepdiff<8.0,>=5.7.0 from https://files.pythonhosted.org/packages/fe/b3/81bb598d24f1a48eaceb32243a91016385c0599196a59eaff6cd29299334/deepdiff-6.3.1-py3-none-any.whl.metadata\n",
            "  Downloading deepdiff-6.3.1-py3-none-any.whl.metadata (5.9 kB)\n",
            "Collecting fastapi<2.0,>=0.92.0 (from lightning>=2.0.1->pyannote.audio==2.1.1)\n",
            "  Obtaining dependency information for fastapi<2.0,>=0.92.0 from https://files.pythonhosted.org/packages/89/e1/5391318b8b35eb4873ea504ca5181a5569d8e499a0920a61ba7e29e8fc2a/fastapi-0.103.0-py3-none-any.whl.metadata\n",
            "  Downloading fastapi-0.103.0-py3-none-any.whl.metadata (24 kB)\n",
            "Collecting inquirer<5.0,>=2.10.0 (from lightning>=2.0.1->pyannote.audio==2.1.1)\n",
            "  Using cached inquirer-3.1.3-py3-none-any.whl (18 kB)\n",
            "Collecting lightning-cloud>=0.5.37 (from lightning>=2.0.1->pyannote.audio==2.1.1)\n",
            "  Obtaining dependency information for lightning-cloud>=0.5.37 from https://files.pythonhosted.org/packages/03/2f/33b90917267b414ba46d8899920a0ac5b8f0686c5c4d1365b52cea7baccc/lightning_cloud-0.5.37-py3-none-any.whl.metadata\n",
            "  Downloading lightning_cloud-0.5.37-py3-none-any.whl.metadata (912 bytes)\n",
            "Collecting lightning-utilities<2.0,>=0.7.0 (from lightning>=2.0.1->pyannote.audio==2.1.1)\n",
            "  Obtaining dependency information for lightning-utilities<2.0,>=0.7.0 from https://files.pythonhosted.org/packages/46/ee/8641eeb6a062f383b7d6875604e1f3f83bd2c93a0b4dbcabd3150b32de6e/lightning_utilities-0.9.0-py3-none-any.whl.metadata\n",
            "  Downloading lightning_utilities-0.9.0-py3-none-any.whl.metadata (4.6 kB)\n",
            "Requirement already satisfied: psutil<7.0 in /home/gabriel_vr/.local/lib/python3.8/site-packages (from lightning>=2.0.1->pyannote.audio==2.1.1) (5.9.5)\n",
            "Collecting pydantic<2.2.0,>=1.7.4 (from lightning>=2.0.1->pyannote.audio==2.1.1)\n",
            "  Obtaining dependency information for pydantic<2.2.0,>=1.7.4 from https://files.pythonhosted.org/packages/87/80/52770e747e4bee5012e60b2684db36c8fdf010f8dadb4ded0efec808b07d/pydantic-2.1.1-py3-none-any.whl.metadata\n",
            "  Downloading pydantic-2.1.1-py3-none-any.whl.metadata (136 kB)\n",
            "\u001b[2K     \u001b[90m━━━━━━━━━━━━━━━━━━━━━━━━━━━━━━━━━━━━━\u001b[0m \u001b[32m136.5/136.5 kB\u001b[0m \u001b[31m436.4 kB/s\u001b[0m eta \u001b[36m0:00:00\u001b[0ma \u001b[36m0:00:01\u001b[0m\n",
            "\u001b[?25hCollecting python-multipart<2.0,>=0.0.5 (from lightning>=2.0.1->pyannote.audio==2.1.1)\n",
            "  Using cached python_multipart-0.0.6-py3-none-any.whl (45 kB)\n",
            "Collecting starlette (from lightning>=2.0.1->pyannote.audio==2.1.1)\n",
            "  Obtaining dependency information for starlette from https://files.pythonhosted.org/packages/c5/8c/38a89e8f477a57a506a5727fe5134b6043a9bc487835a5d52a56c457a1cf/starlette-0.31.1-py3-none-any.whl.metadata\n",
            "  Downloading starlette-0.31.1-py3-none-any.whl.metadata (5.8 kB)\n",
            "Collecting starsessions<2.0,>=1.2.1 (from lightning>=2.0.1->pyannote.audio==2.1.1)\n",
            "  Using cached starsessions-1.3.0-py3-none-any.whl (10 kB)\n",
            "Requirement already satisfied: traitlets<7.0,>=5.3.0 in /home/gabriel_vr/.local/lib/python3.8/site-packages (from lightning>=2.0.1->pyannote.audio==2.1.1) (5.9.0)\n",
            "Collecting urllib3<4.0 (from lightning>=2.0.1->pyannote.audio==2.1.1)\n",
            "  Obtaining dependency information for urllib3<4.0 from https://files.pythonhosted.org/packages/9b/81/62fd61001fa4b9d0df6e31d47ff49cfa9de4af03adecf339c7bc30656b37/urllib3-2.0.4-py3-none-any.whl.metadata\n",
            "  Downloading urllib3-2.0.4-py3-none-any.whl.metadata (6.6 kB)\n",
            "Collecting uvicorn<2.0 (from lightning>=2.0.1->pyannote.audio==2.1.1)\n",
            "  Obtaining dependency information for uvicorn<2.0 from https://files.pythonhosted.org/packages/79/96/b0882a1c3f7ef3dd86879e041212ae5b62b4bd352320889231cc735a8e8f/uvicorn-0.23.2-py3-none-any.whl.metadata\n",
            "  Downloading uvicorn-0.23.2-py3-none-any.whl.metadata (6.2 kB)\n",
            "Collecting websocket-client<3.0 (from lightning>=2.0.1->pyannote.audio==2.1.1)\n",
            "  Obtaining dependency information for websocket-client<3.0 from https://files.pythonhosted.org/packages/4b/4a/3176388095e5bae6e6a1fbee66c438809230ae0196e7de4af12c5e75c509/websocket_client-1.6.2-py3-none-any.whl.metadata\n",
            "  Downloading websocket_client-1.6.2-py3-none-any.whl.metadata (7.5 kB)\n",
            "Collecting websockets<13.0 (from lightning>=2.0.1->pyannote.audio==2.1.1)\n",
            "  Using cached websockets-11.0.3-cp38-cp38-manylinux_2_5_x86_64.manylinux1_x86_64.manylinux_2_17_x86_64.manylinux2014_x86_64.whl (130 kB)\n",
            "Collecting pytorch-lightning (from lightning>=2.0.1->pyannote.audio==2.1.1)\n",
            "  Obtaining dependency information for pytorch-lightning from https://files.pythonhosted.org/packages/57/8c/97edac337566f66b1aa5a08457ace7f27d0697a03626ac41713ff1ed3d5e/pytorch_lightning-2.0.8-py3-none-any.whl.metadata\n",
            "  Downloading pytorch_lightning-2.0.8-py3-none-any.whl.metadata (23 kB)\n",
            "Collecting antlr4-python3-runtime==4.9.* (from omegaconf<3.0,>=2.1->pyannote.audio==2.1.1)\n",
            "  Using cached antlr4-python3-runtime-4.9.3.tar.gz (117 kB)\n",
            "  Preparing metadata (setup.py) ... \u001b[?25ldone\n",
            "\u001b[?25hCollecting sortedcontainers>=2.0.4 (from pyannote.core>=5.0.0->pyannote.audio==2.1.1)\n",
            "  Using cached sortedcontainers-2.4.0-py2.py3-none-any.whl (29 kB)\n",
            "Requirement already satisfied: scipy>=1.1 in /home/gabriel_vr/.local/lib/python3.8/site-packages (from pyannote.core>=5.0.0->pyannote.audio==2.1.1) (1.10.1)\n",
            "Requirement already satisfied: pandas>=0.19 in /home/gabriel_vr/.local/lib/python3.8/site-packages (from pyannote.database>=5.0.1->pyannote.audio==2.1.1) (2.0.1)\n",
            "Collecting typer[all]>=0.2.1 (from pyannote.database>=5.0.1->pyannote.audio==2.1.1)\n",
            "  Using cached typer-0.9.0-py3-none-any.whl (45 kB)\n",
            "Requirement already satisfied: scikit-learn>=0.17.1 in /home/gabriel_vr/.local/lib/python3.8/site-packages (from pyannote.metrics>=3.2->pyannote.audio==2.1.1) (1.2.2)\n",
            "Collecting docopt>=0.6.2 (from pyannote.metrics>=3.2->pyannote.audio==2.1.1)\n",
            "  Using cached docopt-0.6.2.tar.gz (25 kB)\n",
            "  Preparing metadata (setup.py) ... \u001b[?25ldone\n",
            "\u001b[?25hCollecting tabulate>=0.7.7 (from pyannote.metrics>=3.2->pyannote.audio==2.1.1)\n",
            "  Using cached tabulate-0.9.0-py3-none-any.whl (35 kB)\n",
            "Requirement already satisfied: matplotlib>=2.0.0 in /home/gabriel_vr/.local/lib/python3.8/site-packages (from pyannote.metrics>=3.2->pyannote.audio==2.1.1) (3.7.1)\n",
            "Collecting sympy>=1.1 (from pyannote.metrics>=3.2->pyannote.audio==2.1.1)\n",
            "  Using cached sympy-1.12-py3-none-any.whl (5.7 MB)\n",
            "Collecting optuna>=1.4 (from pyannote.pipeline>=2.3->pyannote.audio==2.1.1)\n",
            "  Obtaining dependency information for optuna>=1.4 from https://files.pythonhosted.org/packages/69/60/87a06ef66b34cbe2f2eb0ab66f003664404a7f40c21403a69fad7e28a82b/optuna-3.3.0-py3-none-any.whl.metadata\n",
            "  Downloading optuna-3.3.0-py3-none-any.whl.metadata (17 kB)\n",
            "Collecting markdown-it-py>=2.2.0 (from rich>=12.0.0->pyannote.audio==2.1.1)\n",
            "  Obtaining dependency information for markdown-it-py>=2.2.0 from https://files.pythonhosted.org/packages/42/d7/1ec15b46af6af88f19b8e5ffea08fa375d433c998b8a7639e76935c14f1f/markdown_it_py-3.0.0-py3-none-any.whl.metadata\n",
            "  Downloading markdown_it_py-3.0.0-py3-none-any.whl.metadata (6.9 kB)\n",
            "Requirement already satisfied: pygments<3.0.0,>=2.13.0 in /home/gabriel_vr/.local/lib/python3.8/site-packages (from rich>=12.0.0->pyannote.audio==2.1.1) (2.15.1)\n",
            "Collecting cffi>=1.0 (from soundfile>=0.12.1->pyannote.audio==2.1.1)\n",
            "  Using cached cffi-1.15.1-cp38-cp38-manylinux_2_17_x86_64.manylinux2014_x86_64.whl (442 kB)\n",
            "Collecting hyperpyyaml (from speechbrain>=0.5.14->pyannote.audio==2.1.1)\n",
            "  Obtaining dependency information for hyperpyyaml from https://files.pythonhosted.org/packages/94/b1/fedad01d1641d787e85b7b6d8b1aef1833c7101a62d64c121f79c81491f1/HyperPyYAML-1.2.1-py3-none-any.whl.metadata\n",
            "  Downloading HyperPyYAML-1.2.1-py3-none-any.whl.metadata (7.7 kB)\n",
            "Requirement already satisfied: joblib in /home/gabriel_vr/.local/lib/python3.8/site-packages (from speechbrain>=0.5.14->pyannote.audio==2.1.1) (1.2.0)\n",
            "Collecting sentencepiece (from speechbrain>=0.5.14->pyannote.audio==2.1.1)\n",
            "  Using cached sentencepiece-0.1.99-cp38-cp38-manylinux_2_17_x86_64.manylinux2014_x86_64.whl (1.3 MB)\n",
            "Requirement already satisfied: protobuf>=3.20 in /home/gabriel_vr/.local/lib/python3.8/site-packages (from tensorboardX>=2.6->pyannote.audio==2.1.1) (4.23.3)\n",
            "Requirement already satisfied: networkx in /home/gabriel_vr/.local/lib/python3.8/site-packages (from torch>=2.0.0->pyannote.audio==2.1.1) (3.1)\n",
            "Collecting nvidia-cuda-nvrtc-cu11==11.7.99 (from torch>=2.0.0->pyannote.audio==2.1.1)\n",
            "  Using cached nvidia_cuda_nvrtc_cu11-11.7.99-2-py3-none-manylinux1_x86_64.whl (21.0 MB)\n",
            "Collecting nvidia-cuda-runtime-cu11==11.7.99 (from torch>=2.0.0->pyannote.audio==2.1.1)\n",
            "  Using cached nvidia_cuda_runtime_cu11-11.7.99-py3-none-manylinux1_x86_64.whl (849 kB)\n",
            "Collecting nvidia-cuda-cupti-cu11==11.7.101 (from torch>=2.0.0->pyannote.audio==2.1.1)\n",
            "  Using cached nvidia_cuda_cupti_cu11-11.7.101-py3-none-manylinux1_x86_64.whl (11.8 MB)\n",
            "Collecting nvidia-cudnn-cu11==8.5.0.96 (from torch>=2.0.0->pyannote.audio==2.1.1)\n",
            "  Using cached nvidia_cudnn_cu11-8.5.0.96-2-py3-none-manylinux1_x86_64.whl (557.1 MB)\n",
            "Collecting nvidia-cublas-cu11==11.10.3.66 (from torch>=2.0.0->pyannote.audio==2.1.1)\n",
            "  Using cached nvidia_cublas_cu11-11.10.3.66-py3-none-manylinux1_x86_64.whl (317.1 MB)\n",
            "Collecting nvidia-cufft-cu11==10.9.0.58 (from torch>=2.0.0->pyannote.audio==2.1.1)\n",
            "  Using cached nvidia_cufft_cu11-10.9.0.58-py3-none-manylinux1_x86_64.whl (168.4 MB)\n",
            "Collecting nvidia-curand-cu11==10.2.10.91 (from torch>=2.0.0->pyannote.audio==2.1.1)\n",
            "  Using cached nvidia_curand_cu11-10.2.10.91-py3-none-manylinux1_x86_64.whl (54.6 MB)\n",
            "Collecting nvidia-cusolver-cu11==11.4.0.1 (from torch>=2.0.0->pyannote.audio==2.1.1)\n",
            "  Using cached nvidia_cusolver_cu11-11.4.0.1-2-py3-none-manylinux1_x86_64.whl (102.6 MB)\n",
            "Collecting nvidia-cusparse-cu11==11.7.4.91 (from torch>=2.0.0->pyannote.audio==2.1.1)\n",
            "  Using cached nvidia_cusparse_cu11-11.7.4.91-py3-none-manylinux1_x86_64.whl (173.2 MB)\n",
            "Collecting nvidia-nccl-cu11==2.14.3 (from torch>=2.0.0->pyannote.audio==2.1.1)\n",
            "  Using cached nvidia_nccl_cu11-2.14.3-py3-none-manylinux1_x86_64.whl (177.1 MB)\n",
            "Collecting nvidia-nvtx-cu11==11.7.91 (from torch>=2.0.0->pyannote.audio==2.1.1)\n",
            "  Using cached nvidia_nvtx_cu11-11.7.91-py3-none-manylinux1_x86_64.whl (98 kB)\n",
            "Collecting triton==2.0.0 (from torch>=2.0.0->pyannote.audio==2.1.1)\n",
            "  Using cached triton-2.0.0-1-cp38-cp38-manylinux2014_x86_64.manylinux_2_17_x86_64.whl (63.2 MB)\n",
            "Requirement already satisfied: setuptools in ./venv/lib/python3.8/site-packages (from nvidia-cublas-cu11==11.10.3.66->torch>=2.0.0->pyannote.audio==2.1.1) (68.0.0)\n",
            "Requirement already satisfied: wheel in ./venv/lib/python3.8/site-packages (from nvidia-cublas-cu11==11.10.3.66->torch>=2.0.0->pyannote.audio==2.1.1) (0.38.4)\n",
            "Collecting cmake (from triton==2.0.0->torch>=2.0.0->pyannote.audio==2.1.1)\n",
            "  Obtaining dependency information for cmake from https://files.pythonhosted.org/packages/2e/51/3a4672a819b4532a378bfefad8f886cfe71057556e0d4eefb64523fd370a/cmake-3.27.2-py2.py3-none-manylinux2014_x86_64.manylinux_2_17_x86_64.whl.metadata\n",
            "  Downloading cmake-3.27.2-py2.py3-none-manylinux2014_x86_64.manylinux_2_17_x86_64.whl.metadata (6.7 kB)\n",
            "Collecting lit (from triton==2.0.0->torch>=2.0.0->pyannote.audio==2.1.1)\n",
            "  Using cached lit-16.0.6-py3-none-any.whl\n",
            "Collecting julius<0.3,>=0.2.3 (from torch_audiomentations>=0.11.0->pyannote.audio==2.1.1)\n",
            "  Using cached julius-0.2.7.tar.gz (59 kB)\n",
            "  Preparing metadata (setup.py) ... \u001b[?25ldone\n",
            "\u001b[?25hCollecting librosa>=0.6.0 (from torch_audiomentations>=0.11.0->pyannote.audio==2.1.1)\n",
            "  Obtaining dependency information for librosa>=0.6.0 from https://files.pythonhosted.org/packages/e2/a2/4f639c1168d7aada749a896afb4892a831e2041bebdcf636aebfe9e86556/librosa-0.10.1-py3-none-any.whl.metadata\n",
            "  Downloading librosa-0.10.1-py3-none-any.whl.metadata (8.3 kB)\n",
            "Collecting torch-pitch-shift>=1.2.2 (from torch_audiomentations>=0.11.0->pyannote.audio==2.1.1)\n",
            "  Using cached torch_pitch_shift-1.2.4-py3-none-any.whl (4.9 kB)\n",
            "Requirement already satisfied: python-dateutil>=2.7.0 in /home/gabriel_vr/.local/lib/python3.8/site-packages (from arrow<3.0,>=1.2.0->lightning>=2.0.1->pyannote.audio==2.1.1) (2.8.2)\n",
            "Collecting soupsieve>1.2 (from beautifulsoup4<6.0,>=4.8.0->lightning>=2.0.1->pyannote.audio==2.1.1)\n",
            "  Using cached soupsieve-2.4.1-py3-none-any.whl (36 kB)\n",
            "Collecting pycparser (from cffi>=1.0->soundfile>=0.12.1->pyannote.audio==2.1.1)\n",
            "  Using cached pycparser-2.21-py2.py3-none-any.whl (118 kB)\n",
            "Requirement already satisfied: pytz in /home/gabriel_vr/.local/lib/python3.8/site-packages (from dateutils<2.0->lightning>=2.0.1->pyannote.audio==2.1.1) (2023.3)\n",
            "Collecting ordered-set<4.2.0,>=4.0.2 (from deepdiff<8.0,>=5.7.0->lightning>=2.0.1->pyannote.audio==2.1.1)\n",
            "  Using cached ordered_set-4.1.0-py3-none-any.whl (7.6 kB)\n",
            "Collecting starlette (from lightning>=2.0.1->pyannote.audio==2.1.1)\n",
            "  Obtaining dependency information for starlette from https://files.pythonhosted.org/packages/58/f8/e2cca22387965584a409795913b774235752be4176d276714e15e1a58884/starlette-0.27.0-py3-none-any.whl.metadata\n",
            "  Downloading starlette-0.27.0-py3-none-any.whl.metadata (5.8 kB)\n",
            "Collecting typing-extensions (from asteroid-filterbanks>=0.4->pyannote.audio==2.1.1)\n",
            "  Obtaining dependency information for typing-extensions from https://files.pythonhosted.org/packages/ec/6b/63cc3df74987c36fe26157ee12e09e8f9db4de771e0f3404263117e75b95/typing_extensions-4.7.1-py3-none-any.whl.metadata\n",
            "  Downloading typing_extensions-4.7.1-py3-none-any.whl.metadata (3.1 kB)\n",
            "Collecting aiohttp!=4.0.0a0,!=4.0.0a1 (from fsspec->huggingface_hub>=0.13.0->pyannote.audio==2.1.1)\n",
            "  Obtaining dependency information for aiohttp!=4.0.0a0,!=4.0.0a1 from https://files.pythonhosted.org/packages/84/22/20c41a698eb5435ff7cd3bc6884542d2a40f3c91a221f713d77217facc39/aiohttp-3.8.5-cp38-cp38-manylinux_2_17_x86_64.manylinux2014_x86_64.whl.metadata\n",
            "  Downloading aiohttp-3.8.5-cp38-cp38-manylinux_2_17_x86_64.manylinux2014_x86_64.whl.metadata (7.7 kB)\n",
            "Collecting blessed>=1.19.0 (from inquirer<5.0,>=2.10.0->lightning>=2.0.1->pyannote.audio==2.1.1)\n",
            "  Using cached blessed-1.20.0-py2.py3-none-any.whl (58 kB)\n",
            "Collecting python-editor>=1.0.4 (from inquirer<5.0,>=2.10.0->lightning>=2.0.1->pyannote.audio==2.1.1)\n",
            "  Using cached python_editor-1.0.4-py3-none-any.whl (4.9 kB)\n",
            "Collecting readchar>=3.0.6 (from inquirer<5.0,>=2.10.0->lightning>=2.0.1->pyannote.audio==2.1.1)\n",
            "  Using cached readchar-4.0.5-py3-none-any.whl (8.5 kB)\n",
            "Requirement already satisfied: MarkupSafe>=2.0 in /home/gabriel_vr/.local/lib/python3.8/site-packages (from Jinja2<5.0->lightning>=2.0.1->pyannote.audio==2.1.1) (2.1.3)\n",
            "Collecting audioread>=2.1.9 (from librosa>=0.6.0->torch_audiomentations>=0.11.0->pyannote.audio==2.1.1)\n",
            "  Using cached audioread-3.0.0.tar.gz (377 kB)\n",
            "  Preparing metadata (setup.py) ... \u001b[?25ldone\n",
            "\u001b[?25hRequirement already satisfied: decorator>=4.3.0 in /home/gabriel_vr/.local/lib/python3.8/site-packages (from librosa>=0.6.0->torch_audiomentations>=0.11.0->pyannote.audio==2.1.1) (5.1.1)\n",
            "Collecting numba>=0.51.0 (from librosa>=0.6.0->torch_audiomentations>=0.11.0->pyannote.audio==2.1.1)\n",
            "  Obtaining dependency information for numba>=0.51.0 from https://files.pythonhosted.org/packages/e6/92/ec69774aea47013fff1dfcbec891b47ed4b6f7a5619e12a9f71a5078617b/numba-0.57.1-cp38-cp38-manylinux2014_x86_64.manylinux_2_17_x86_64.whl.metadata\n",
            "  Downloading numba-0.57.1-cp38-cp38-manylinux2014_x86_64.manylinux_2_17_x86_64.whl.metadata (2.7 kB)\n",
            "Collecting pooch>=1.0 (from librosa>=0.6.0->torch_audiomentations>=0.11.0->pyannote.audio==2.1.1)\n",
            "  Using cached pooch-1.7.0-py3-none-any.whl (60 kB)\n",
            "Collecting soxr>=0.3.2 (from librosa>=0.6.0->torch_audiomentations>=0.11.0->pyannote.audio==2.1.1)\n",
            "  Obtaining dependency information for soxr>=0.3.2 from https://files.pythonhosted.org/packages/a1/e6/9e489be17740fed23b014b3d4ed4d8353871d0215f377fb098d4a8411e7f/soxr-0.3.6-cp38-cp38-manylinux_2_17_x86_64.manylinux2014_x86_64.whl.metadata\n",
            "  Downloading soxr-0.3.6-cp38-cp38-manylinux_2_17_x86_64.manylinux2014_x86_64.whl.metadata (5.4 kB)\n",
            "Requirement already satisfied: lazy-loader>=0.1 in /home/gabriel_vr/.local/lib/python3.8/site-packages (from librosa>=0.6.0->torch_audiomentations>=0.11.0->pyannote.audio==2.1.1) (0.2)\n",
            "Collecting msgpack>=1.0 (from librosa>=0.6.0->torch_audiomentations>=0.11.0->pyannote.audio==2.1.1)\n",
            "  Using cached msgpack-1.0.5-cp38-cp38-manylinux_2_17_x86_64.manylinux2014_x86_64.whl (322 kB)\n",
            "Collecting pyjwt (from lightning-cloud>=0.5.37->lightning>=2.0.1->pyannote.audio==2.1.1)\n",
            "  Obtaining dependency information for pyjwt from https://files.pythonhosted.org/packages/2b/4f/e04a8067c7c96c364cef7ef73906504e2f40d690811c021e1a1901473a19/PyJWT-2.8.0-py3-none-any.whl.metadata\n",
            "  Downloading PyJWT-2.8.0-py3-none-any.whl.metadata (4.2 kB)\n",
            "Collecting six (from lightning-cloud>=0.5.37->lightning>=2.0.1->pyannote.audio==2.1.1)\n",
            "  Using cached six-1.16.0-py2.py3-none-any.whl (11 kB)\n",
            "Collecting mdurl~=0.1 (from markdown-it-py>=2.2.0->rich>=12.0.0->pyannote.audio==2.1.1)\n",
            "  Using cached mdurl-0.1.2-py3-none-any.whl (10.0 kB)\n",
            "Requirement already satisfied: contourpy>=1.0.1 in /home/gabriel_vr/.local/lib/python3.8/site-packages (from matplotlib>=2.0.0->pyannote.metrics>=3.2->pyannote.audio==2.1.1) (1.0.7)\n",
            "Requirement already satisfied: cycler>=0.10 in /home/gabriel_vr/.local/lib/python3.8/site-packages (from matplotlib>=2.0.0->pyannote.metrics>=3.2->pyannote.audio==2.1.1) (0.11.0)\n",
            "Requirement already satisfied: fonttools>=4.22.0 in /home/gabriel_vr/.local/lib/python3.8/site-packages (from matplotlib>=2.0.0->pyannote.metrics>=3.2->pyannote.audio==2.1.1) (4.39.3)\n",
            "Requirement already satisfied: kiwisolver>=1.0.1 in /home/gabriel_vr/.local/lib/python3.8/site-packages (from matplotlib>=2.0.0->pyannote.metrics>=3.2->pyannote.audio==2.1.1) (1.4.4)\n",
            "Requirement already satisfied: pillow>=6.2.0 in /home/gabriel_vr/.local/lib/python3.8/site-packages (from matplotlib>=2.0.0->pyannote.metrics>=3.2->pyannote.audio==2.1.1) (9.5.0)\n",
            "Requirement already satisfied: pyparsing>=2.3.1 in /home/gabriel_vr/.local/lib/python3.8/site-packages (from matplotlib>=2.0.0->pyannote.metrics>=3.2->pyannote.audio==2.1.1) (3.0.9)\n",
            "Requirement already satisfied: importlib-resources>=3.2.0 in /home/gabriel_vr/.local/lib/python3.8/site-packages (from matplotlib>=2.0.0->pyannote.metrics>=3.2->pyannote.audio==2.1.1) (5.12.0)\n",
            "Collecting alembic>=1.5.0 (from optuna>=1.4->pyannote.pipeline>=2.3->pyannote.audio==2.1.1)\n",
            "  Obtaining dependency information for alembic>=1.5.0 from https://files.pythonhosted.org/packages/a2/8b/46919127496036c8e990b2b236454a0d8655fd46e1df2fd35610a9cbc842/alembic-1.12.0-py3-none-any.whl.metadata\n",
            "  Downloading alembic-1.12.0-py3-none-any.whl.metadata (7.2 kB)\n",
            "Collecting cmaes>=0.10.0 (from optuna>=1.4->pyannote.pipeline>=2.3->pyannote.audio==2.1.1)\n",
            "  Obtaining dependency information for cmaes>=0.10.0 from https://files.pythonhosted.org/packages/f7/46/7d9544d453346f6c0c405916c95fdb653491ea2e9976cabb810ba2fe8cd4/cmaes-0.10.0-py3-none-any.whl.metadata\n",
            "  Downloading cmaes-0.10.0-py3-none-any.whl.metadata (19 kB)\n",
            "Collecting colorlog (from optuna>=1.4->pyannote.pipeline>=2.3->pyannote.audio==2.1.1)\n",
            "  Using cached colorlog-6.7.0-py2.py3-none-any.whl (11 kB)\n",
            "Requirement already satisfied: sqlalchemy>=1.3.0 in /home/gabriel_vr/.local/lib/python3.8/site-packages (from optuna>=1.4->pyannote.pipeline>=2.3->pyannote.audio==2.1.1) (2.0.20)\n",
            "Requirement already satisfied: tzdata>=2022.1 in /home/gabriel_vr/.local/lib/python3.8/site-packages (from pandas>=0.19->pyannote.database>=5.0.1->pyannote.audio==2.1.1) (2023.3)\n",
            "Collecting annotated-types>=0.4.0 (from pydantic<2.2.0,>=1.7.4->lightning>=2.0.1->pyannote.audio==2.1.1)\n",
            "  Obtaining dependency information for annotated-types>=0.4.0 from https://files.pythonhosted.org/packages/d8/f0/a2ee543a96cc624c35a9086f39b1ed2aa403c6d355dfe47a11ee5c64a164/annotated_types-0.5.0-py3-none-any.whl.metadata\n",
            "  Downloading annotated_types-0.5.0-py3-none-any.whl.metadata (11 kB)\n",
            "Collecting pydantic-core==2.4.0 (from pydantic<2.2.0,>=1.7.4->lightning>=2.0.1->pyannote.audio==2.1.1)\n",
            "  Obtaining dependency information for pydantic-core==2.4.0 from https://files.pythonhosted.org/packages/80/09/3dc9582c4ba0fa415d0a88379462f84c9352a779b27677340314425b1523/pydantic_core-2.4.0-cp38-cp38-manylinux_2_17_x86_64.manylinux2014_x86_64.whl.metadata\n",
            "  Downloading pydantic_core-2.4.0-cp38-cp38-manylinux_2_17_x86_64.manylinux2014_x86_64.whl.metadata (6.5 kB)\n",
            "Collecting charset-normalizer<4,>=2 (from requests->huggingface_hub>=0.13.0->pyannote.audio==2.1.1)\n",
            "  Obtaining dependency information for charset-normalizer<4,>=2 from https://files.pythonhosted.org/packages/cb/e7/5e43745003bf1f90668c7be23fc5952b3a2b9c2558f16749411c18039b36/charset_normalizer-3.2.0-cp38-cp38-manylinux_2_17_x86_64.manylinux2014_x86_64.whl.metadata\n",
            "  Downloading charset_normalizer-3.2.0-cp38-cp38-manylinux_2_17_x86_64.manylinux2014_x86_64.whl.metadata (31 kB)\n",
            "Collecting idna<4,>=2.5 (from requests->huggingface_hub>=0.13.0->pyannote.audio==2.1.1)\n",
            "  Using cached idna-3.4-py3-none-any.whl (61 kB)\n",
            "Collecting certifi>=2017.4.17 (from requests->huggingface_hub>=0.13.0->pyannote.audio==2.1.1)\n",
            "  Obtaining dependency information for certifi>=2017.4.17 from https://files.pythonhosted.org/packages/4c/dd/2234eab22353ffc7d94e8d13177aaa050113286e93e7b40eae01fbf7c3d9/certifi-2023.7.22-py3-none-any.whl.metadata\n",
            "  Downloading certifi-2023.7.22-py3-none-any.whl.metadata (2.2 kB)\n",
            "Requirement already satisfied: threadpoolctl>=2.0.0 in /home/gabriel_vr/.local/lib/python3.8/site-packages (from scikit-learn>=0.17.1->pyannote.metrics>=3.2->pyannote.audio==2.1.1) (3.1.0)\n",
            "Collecting anyio<5,>=3.4.0 (from starlette->lightning>=2.0.1->pyannote.audio==2.1.1)\n",
            "  Obtaining dependency information for anyio<5,>=3.4.0 from https://files.pythonhosted.org/packages/36/55/ad4de788d84a630656ece71059665e01ca793c04294c463fd84132f40fe6/anyio-4.0.0-py3-none-any.whl.metadata\n",
            "  Downloading anyio-4.0.0-py3-none-any.whl.metadata (4.5 kB)\n",
            "Requirement already satisfied: itsdangerous<3.0.0,>=2.0.1 in /home/gabriel_vr/.local/lib/python3.8/site-packages (from starsessions<2.0,>=1.2.1->lightning>=2.0.1->pyannote.audio==2.1.1) (2.1.2)\n",
            "Collecting mpmath>=0.19 (from sympy>=1.1->pyannote.metrics>=3.2->pyannote.audio==2.1.1)\n",
            "  Using cached mpmath-1.3.0-py3-none-any.whl (536 kB)\n",
            "Collecting primePy>=1.3 (from torch-pitch-shift>=1.2.2->torch_audiomentations>=0.11.0->pyannote.audio==2.1.1)\n",
            "  Using cached primePy-1.3-py3-none-any.whl (4.0 kB)\n",
            "Collecting colorama<0.5.0,>=0.4.3 (from typer[all]>=0.2.1->pyannote.database>=5.0.1->pyannote.audio==2.1.1)\n",
            "  Using cached colorama-0.4.6-py2.py3-none-any.whl (25 kB)\n",
            "Collecting shellingham<2.0.0,>=1.3.0 (from typer[all]>=0.2.1->pyannote.database>=5.0.1->pyannote.audio==2.1.1)\n",
            "  Obtaining dependency information for shellingham<2.0.0,>=1.3.0 from https://files.pythonhosted.org/packages/57/70/0265437683625b2e6491736706d3d679d90e2a26f6bff59f4e46e09872b9/shellingham-1.5.3-py2.py3-none-any.whl.metadata\n",
            "  Downloading shellingham-1.5.3-py2.py3-none-any.whl.metadata (3.4 kB)\n",
            "Collecting h11>=0.8 (from uvicorn<2.0->lightning>=2.0.1->pyannote.audio==2.1.1)\n",
            "  Using cached h11-0.14.0-py3-none-any.whl (58 kB)\n",
            "Collecting ruamel.yaml<=0.17.28,>=0.17.8 (from hyperpyyaml->speechbrain>=0.5.14->pyannote.audio==2.1.1)\n",
            "  Obtaining dependency information for ruamel.yaml<=0.17.28,>=0.17.8 from https://files.pythonhosted.org/packages/22/e8/3e4687ceedef0a650a9d33d3a0f87d5e2d1b9a5d50181b87f128fff53420/ruamel.yaml-0.17.28-py3-none-any.whl.metadata\n",
            "  Downloading ruamel.yaml-0.17.28-py3-none-any.whl.metadata (16 kB)\n",
            "Collecting attrs>=17.3.0 (from aiohttp!=4.0.0a0,!=4.0.0a1->fsspec->huggingface_hub>=0.13.0->pyannote.audio==2.1.1)\n",
            "  Using cached attrs-23.1.0-py3-none-any.whl (61 kB)\n",
            "Collecting multidict<7.0,>=4.5 (from aiohttp!=4.0.0a0,!=4.0.0a1->fsspec->huggingface_hub>=0.13.0->pyannote.audio==2.1.1)\n",
            "  Downloading multidict-6.0.4-cp38-cp38-manylinux_2_17_x86_64.manylinux2014_x86_64.whl (121 kB)\n",
            "\u001b[2K     \u001b[90m━━━━━━━━━━━━━━━━━━━━━━━━━━━━━━━━━━━━━━━\u001b[0m \u001b[32m121.3/121.3 kB\u001b[0m \u001b[31m4.9 MB/s\u001b[0m eta \u001b[36m0:00:00\u001b[0m\n",
            "\u001b[?25hCollecting async-timeout<5.0,>=4.0.0a3 (from aiohttp!=4.0.0a0,!=4.0.0a1->fsspec->huggingface_hub>=0.13.0->pyannote.audio==2.1.1)\n",
            "  Obtaining dependency information for async-timeout<5.0,>=4.0.0a3 from https://files.pythonhosted.org/packages/a7/fa/e01228c2938de91d47b307831c62ab9e4001e747789d0b05baf779a6488c/async_timeout-4.0.3-py3-none-any.whl.metadata\n",
            "  Downloading async_timeout-4.0.3-py3-none-any.whl.metadata (4.2 kB)\n",
            "Collecting yarl<2.0,>=1.0 (from aiohttp!=4.0.0a0,!=4.0.0a1->fsspec->huggingface_hub>=0.13.0->pyannote.audio==2.1.1)\n",
            "  Downloading yarl-1.9.2-cp38-cp38-manylinux_2_17_x86_64.manylinux2014_x86_64.whl (266 kB)\n",
            "\u001b[2K     \u001b[90m━━━━━━━━━━━━━━━━━━━━━━━━━━━━━━━━━━━━━━━\u001b[0m \u001b[32m266.9/266.9 kB\u001b[0m \u001b[31m2.3 MB/s\u001b[0m eta \u001b[36m0:00:00\u001b[0m00:01\u001b[0m00:01\u001b[0m\n",
            "\u001b[?25hCollecting frozenlist>=1.1.1 (from aiohttp!=4.0.0a0,!=4.0.0a1->fsspec->huggingface_hub>=0.13.0->pyannote.audio==2.1.1)\n",
            "  Obtaining dependency information for frozenlist>=1.1.1 from https://files.pythonhosted.org/packages/0b/36/c276486f89bee9098332710af2207344f360c6c6f104a4931a7566039b1d/frozenlist-1.4.0-cp38-cp38-manylinux_2_5_x86_64.manylinux1_x86_64.manylinux_2_17_x86_64.manylinux2014_x86_64.whl.metadata\n",
            "  Downloading frozenlist-1.4.0-cp38-cp38-manylinux_2_5_x86_64.manylinux1_x86_64.manylinux_2_17_x86_64.manylinux2014_x86_64.whl.metadata (5.2 kB)\n",
            "Collecting aiosignal>=1.1.2 (from aiohttp!=4.0.0a0,!=4.0.0a1->fsspec->huggingface_hub>=0.13.0->pyannote.audio==2.1.1)\n",
            "  Using cached aiosignal-1.3.1-py3-none-any.whl (7.6 kB)\n",
            "Collecting Mako (from alembic>=1.5.0->optuna>=1.4->pyannote.pipeline>=2.3->pyannote.audio==2.1.1)\n",
            "  Using cached Mako-1.2.4-py3-none-any.whl (78 kB)\n",
            "Requirement already satisfied: importlib-metadata in /home/gabriel_vr/.local/lib/python3.8/site-packages (from alembic>=1.5.0->optuna>=1.4->pyannote.pipeline>=2.3->pyannote.audio==2.1.1) (6.6.0)\n",
            "Collecting sniffio>=1.1 (from anyio<5,>=3.4.0->starlette->lightning>=2.0.1->pyannote.audio==2.1.1)\n",
            "  Using cached sniffio-1.3.0-py3-none-any.whl (10 kB)\n",
            "Collecting exceptiongroup>=1.0.2 (from anyio<5,>=3.4.0->starlette->lightning>=2.0.1->pyannote.audio==2.1.1)\n",
            "  Obtaining dependency information for exceptiongroup>=1.0.2 from https://files.pythonhosted.org/packages/ad/83/b71e58666f156a39fb29417e4c8ca4bc7400c0dd4ed9e8842ab54dc8c344/exceptiongroup-1.1.3-py3-none-any.whl.metadata\n",
            "  Downloading exceptiongroup-1.1.3-py3-none-any.whl.metadata (6.1 kB)\n",
            "Requirement already satisfied: wcwidth>=0.1.4 in /home/gabriel_vr/.local/lib/python3.8/site-packages (from blessed>=1.19.0->inquirer<5.0,>=2.10.0->lightning>=2.0.1->pyannote.audio==2.1.1) (0.2.6)\n",
            "Requirement already satisfied: zipp>=3.1.0 in /home/gabriel_vr/.local/lib/python3.8/site-packages (from importlib-resources>=3.2.0->matplotlib>=2.0.0->pyannote.metrics>=3.2->pyannote.audio==2.1.1) (3.15.0)\n",
            "Collecting llvmlite<0.41,>=0.40.0dev0 (from numba>=0.51.0->librosa>=0.6.0->torch_audiomentations>=0.11.0->pyannote.audio==2.1.1)\n",
            "  Obtaining dependency information for llvmlite<0.41,>=0.40.0dev0 from https://files.pythonhosted.org/packages/0e/36/9dd888e74f1fef4abffc9d421de22f729e2eb6a753e0df91a82a56ae9b08/llvmlite-0.40.1-cp38-cp38-manylinux_2_17_x86_64.manylinux2014_x86_64.whl.metadata\n",
            "  Downloading llvmlite-0.40.1-cp38-cp38-manylinux_2_17_x86_64.manylinux2014_x86_64.whl.metadata (4.7 kB)\n",
            "Requirement already satisfied: platformdirs>=2.5.0 in /home/gabriel_vr/.local/lib/python3.8/site-packages (from pooch>=1.0->librosa>=0.6.0->torch_audiomentations>=0.11.0->pyannote.audio==2.1.1) (3.3.0)\n",
            "Collecting ruamel.yaml.clib>=0.2.7 (from ruamel.yaml<=0.17.28,>=0.17.8->hyperpyyaml->speechbrain>=0.5.14->pyannote.audio==2.1.1)\n",
            "  Using cached ruamel.yaml.clib-0.2.7-cp38-cp38-manylinux_2_17_x86_64.manylinux2014_x86_64.manylinux_2_24_x86_64.whl (555 kB)\n",
            "Requirement already satisfied: greenlet!=0.4.17 in /home/gabriel_vr/.local/lib/python3.8/site-packages (from sqlalchemy>=1.3.0->optuna>=1.4->pyannote.pipeline>=2.3->pyannote.audio==2.1.1) (2.0.2)\n",
            "Using cached huggingface_hub-0.16.4-py3-none-any.whl (268 kB)\n",
            "Using cached lightning-2.0.8-py3-none-any.whl (1.9 MB)\n",
            "Using cached pytorch_metric_learning-2.3.0-py3-none-any.whl (115 kB)\n",
            "Using cached rich-13.5.2-py3-none-any.whl (239 kB)\n",
            "Using cached semver-3.0.1-py3-none-any.whl (17 kB)\n",
            "Using cached speechbrain-0.5.15-py3-none-any.whl (553 kB)\n",
            "Using cached tensorboardX-2.6.2.2-py2.py3-none-any.whl (101 kB)\n",
            "Downloading torchmetrics-1.1.1-py3-none-any.whl (763 kB)\n",
            "\u001b[2K   \u001b[90m━━━━━━━━━━━━━━━━━━━━━━━━━━━━━━━━━━━━━━━\u001b[0m \u001b[32m763.4/763.4 kB\u001b[0m \u001b[31m713.0 kB/s\u001b[0m eta \u001b[36m0:00:00\u001b[0ma \u001b[36m0:00:01\u001b[0m\n",
            "\u001b[?25hUsing cached croniter-1.4.1-py2.py3-none-any.whl (19 kB)\n",
            "Using cached deepdiff-6.3.1-py3-none-any.whl (70 kB)\n",
            "Using cached fastapi-0.103.0-py3-none-any.whl (66 kB)\n",
            "Using cached filelock-3.12.3-py3-none-any.whl (11 kB)\n",
            "Using cached fsspec-2023.6.0-py3-none-any.whl (163 kB)\n",
            "Using cached librosa-0.10.1-py3-none-any.whl (253 kB)\n",
            "Using cached lightning_cloud-0.5.37-py3-none-any.whl (596 kB)\n",
            "Using cached lightning_utilities-0.9.0-py3-none-any.whl (23 kB)\n",
            "Using cached markdown_it_py-3.0.0-py3-none-any.whl (87 kB)\n",
            "Using cached optuna-3.3.0-py3-none-any.whl (404 kB)\n",
            "Using cached pydantic-2.1.1-py3-none-any.whl (370 kB)\n",
            "Using cached pydantic_core-2.4.0-cp38-cp38-manylinux_2_17_x86_64.manylinux2014_x86_64.whl (1.9 MB)\n",
            "Using cached PyYAML-6.0.1-cp38-cp38-manylinux_2_17_x86_64.manylinux2014_x86_64.whl (736 kB)\n",
            "Using cached requests-2.31.0-py3-none-any.whl (62 kB)\n",
            "Using cached starlette-0.27.0-py3-none-any.whl (66 kB)\n",
            "Using cached typing_extensions-4.7.1-py3-none-any.whl (33 kB)\n",
            "Using cached urllib3-2.0.4-py3-none-any.whl (123 kB)\n",
            "Using cached uvicorn-0.23.2-py3-none-any.whl (59 kB)\n",
            "Using cached websocket_client-1.6.2-py3-none-any.whl (57 kB)\n",
            "Using cached HyperPyYAML-1.2.1-py3-none-any.whl (16 kB)\n",
            "Downloading pytorch_lightning-2.0.8-py3-none-any.whl (727 kB)\n",
            "\u001b[2K   \u001b[90m━━━━━━━━━━━━━━━━━━━━━━━━━━━━━━━━━━━━━━━━\u001b[0m \u001b[32m727.0/727.0 kB\u001b[0m \u001b[31m2.7 MB/s\u001b[0m eta \u001b[36m0:00:00\u001b[0ma \u001b[36m0:00:01\u001b[0m\n",
            "\u001b[?25hDownloading aiohttp-3.8.5-cp38-cp38-manylinux_2_17_x86_64.manylinux2014_x86_64.whl (1.1 MB)\n",
            "\u001b[2K   \u001b[90m━━━━━━━━━━━━━━━━━━━━━━━━━━━━━━━━━━━━━━━━\u001b[0m \u001b[32m1.1/1.1 MB\u001b[0m \u001b[31m2.7 MB/s\u001b[0m eta \u001b[36m0:00:00\u001b[0ma \u001b[36m0:00:01\u001b[0m\n",
            "\u001b[?25hUsing cached alembic-1.12.0-py3-none-any.whl (226 kB)\n",
            "Using cached annotated_types-0.5.0-py3-none-any.whl (11 kB)\n",
            "Using cached anyio-4.0.0-py3-none-any.whl (83 kB)\n",
            "Using cached certifi-2023.7.22-py3-none-any.whl (158 kB)\n",
            "Using cached charset_normalizer-3.2.0-cp38-cp38-manylinux_2_17_x86_64.manylinux2014_x86_64.whl (199 kB)\n",
            "Using cached cmaes-0.10.0-py3-none-any.whl (29 kB)\n",
            "Using cached numba-0.57.1-cp38-cp38-manylinux2014_x86_64.manylinux_2_17_x86_64.whl (3.6 MB)\n",
            "Using cached ruamel.yaml-0.17.28-py3-none-any.whl (109 kB)\n",
            "Using cached shellingham-1.5.3-py2.py3-none-any.whl (9.7 kB)\n",
            "Using cached soxr-0.3.6-cp38-cp38-manylinux_2_17_x86_64.manylinux2014_x86_64.whl (1.3 MB)\n",
            "Using cached cmake-3.27.2-py2.py3-none-manylinux2014_x86_64.manylinux_2_17_x86_64.whl (26.1 MB)\n",
            "Using cached PyJWT-2.8.0-py3-none-any.whl (22 kB)\n",
            "Using cached async_timeout-4.0.3-py3-none-any.whl (5.7 kB)\n",
            "Using cached exceptiongroup-1.1.3-py3-none-any.whl (14 kB)\n",
            "Downloading frozenlist-1.4.0-cp38-cp38-manylinux_2_5_x86_64.manylinux1_x86_64.manylinux_2_17_x86_64.manylinux2014_x86_64.whl (220 kB)\n",
            "\u001b[2K   \u001b[90m━━━━━━━━━━━━━━━━━━━━━━━━━━━━━━━━━━━━━━━━\u001b[0m \u001b[32m220.1/220.1 kB\u001b[0m \u001b[31m2.7 MB/s\u001b[0m eta \u001b[36m0:00:00\u001b[0m00:01\u001b[0m00:01\u001b[0m\n",
            "\u001b[?25hUsing cached llvmlite-0.40.1-cp38-cp38-manylinux_2_17_x86_64.manylinux2014_x86_64.whl (42.1 MB)\n",
            "Building wheels for collected packages: pyannote.audio, antlr4-python3-runtime, docopt, julius, audioread\n",
            "  Building wheel for pyannote.audio (setup.py) ... \u001b[?25ldone\n",
            "\u001b[?25h  Created wheel for pyannote.audio: filename=pyannote.audio-2.1.1-py2.py3-none-any.whl size=206976 sha256=981068e30d1b1ba54b0dcf750482056aa62e71c356ebd1db1d92070e99e20eaa\n",
            "  Stored in directory: /tmp/pip-ephem-wheel-cache-g9vzzsop/wheels/31/bf/56/ba5dccf0f5e3645685261f1cf8d9b6fbf30275f870fee51538\n",
            "  Building wheel for antlr4-python3-runtime (setup.py) ... \u001b[?25ldone\n",
            "\u001b[?25h  Created wheel for antlr4-python3-runtime: filename=antlr4_python3_runtime-4.9.3-py3-none-any.whl size=144554 sha256=678561f5baec92e9378f77443ae0eb5d92510188ea87ea5a136027732c080dbf\n",
            "  Stored in directory: /home/gabriel_vr/.cache/pip/wheels/b1/a3/c2/6df046c09459b73cc9bb6c4401b0be6c47048baf9a1617c485\n",
            "  Building wheel for docopt (setup.py) ... \u001b[?25ldone\n",
            "\u001b[?25h  Created wheel for docopt: filename=docopt-0.6.2-py2.py3-none-any.whl size=13705 sha256=9a5c18401d27df0a2cb1b87290054891e34348096b20bc6d1ff3920d6750b820\n",
            "  Stored in directory: /home/gabriel_vr/.cache/pip/wheels/56/ea/58/ead137b087d9e326852a851351d1debf4ada529b6ac0ec4e8c\n",
            "  Building wheel for julius (setup.py) ... \u001b[?25ldone\n",
            "\u001b[?25h  Created wheel for julius: filename=julius-0.2.7-py3-none-any.whl size=21879 sha256=fe1654dc27075ae28b3b13809e2bf57177d98290646367cf585c0a932e3eed3c\n",
            "  Stored in directory: /home/gabriel_vr/.cache/pip/wheels/85/89/4f/88596b58a42ee452100fe1cd6ac31265bb192e597cf85908da\n",
            "  Building wheel for audioread (setup.py) ... \u001b[?25ldone\n",
            "\u001b[?25h  Created wheel for audioread: filename=audioread-3.0.0-py3-none-any.whl size=23704 sha256=d4a3c5826ffc57e93cfbca47c55f0f7670af16760150b772df8573b84afe391f\n",
            "  Stored in directory: /home/gabriel_vr/.cache/pip/wheels/0a/ed/be/49df2538fca496690a024a4374455584d65c2afd6fc3d6e9c7\n",
            "Successfully built pyannote.audio antlr4-python3-runtime docopt julius audioread\n",
            "Installing collected packages: sortedcontainers, sentencepiece, python-editor, primePy, msgpack, mpmath, lit, docopt, cmake, antlr4-python3-runtime, websockets, websocket-client, urllib3, typing-extensions, tensorboardX, tabulate, sympy, soxr, soupsieve, sniffio, six, shellingham, semver, ruamel.yaml.clib, readchar, pyyaml, python-multipart, pyjwt, pycparser, ordered-set, nvidia-nvtx-cu11, nvidia-nccl-cu11, nvidia-cusparse-cu11, nvidia-curand-cu11, nvidia-cufft-cu11, nvidia-cuda-runtime-cu11, nvidia-cuda-nvrtc-cu11, nvidia-cuda-cupti-cu11, nvidia-cublas-cu11, multidict, mdurl, Mako, llvmlite, idna, h11, fsspec, frozenlist, exceptiongroup, einops, colorlog, colorama, cmaes, charset-normalizer, certifi, backoff, audioread, attrs, async-timeout, yarl, uvicorn, typer, ruamel.yaml, requests, pydantic-core, pyannote.core, omegaconf, nvidia-cusolver-cu11, nvidia-cudnn-cu11, numba, markdown-it-py, lightning-utilities, filelock, deepdiff, cffi, blessed, beautifulsoup4, anyio, annotated-types, aiosignal, starlette, soundfile, rich, pydantic, pooch, inquirer, hyperpyyaml, huggingface_hub, dateutils, croniter, arrow, alembic, aiohttp, starsessions, optuna, librosa, fastapi, pyannote.database, lightning-cloud, pyannote.pipeline, pyannote.metrics, triton, torch, torchmetrics, torchaudio, torch-pitch-shift, pytorch-lightning, julius, torch_audiomentations, speechbrain, pytorch_metric_learning, lightning, asteroid-filterbanks, pyannote.audio\n",
            "  Attempting uninstall: typing-extensions\n",
            "    Found existing installation: typing_extensions 4.5.0\n",
            "    Uninstalling typing_extensions-4.5.0:\n",
            "      Successfully uninstalled typing_extensions-4.5.0\n",
            "\u001b[31mERROR: pip's dependency resolver does not currently take into account all the packages that are installed. This behaviour is the source of the following dependency conflicts.\n",
            "ipython 8.12.0 requires pexpect>4.3; sys_platform != \"win32\", which is not installed.\n",
            "requests-oauthlib 1.3.1 requires oauthlib>=3.0.0, which is not installed.\n",
            "google-auth 2.20.0 requires urllib3<2.0, but you have urllib3 2.0.4 which is incompatible.\n",
            "tensorflow 2.12.0 requires numpy<1.24,>=1.22, but you have numpy 1.24.2 which is incompatible.\n",
            "tensorflow 2.12.0 requires wrapt<1.15,>=1.11.0, but you have wrapt 1.15.0 which is incompatible.\u001b[0m\u001b[31m\n",
            "\u001b[0mSuccessfully installed Mako-1.2.4 aiohttp-3.8.5 aiosignal-1.3.1 alembic-1.12.0 annotated-types-0.5.0 antlr4-python3-runtime-4.9.3 anyio-4.0.0 arrow-1.2.3 asteroid-filterbanks-0.4.0 async-timeout-4.0.3 attrs-23.1.0 audioread-3.0.0 backoff-2.2.1 beautifulsoup4-4.12.2 blessed-1.20.0 certifi-2023.7.22 cffi-1.15.1 charset-normalizer-3.2.0 cmaes-0.10.0 cmake-3.27.2 colorama-0.4.6 colorlog-6.7.0 croniter-1.4.1 dateutils-0.6.12 deepdiff-6.3.1 docopt-0.6.2 einops-0.6.1 exceptiongroup-1.1.3 fastapi-0.103.0 filelock-3.12.3 frozenlist-1.4.0 fsspec-2023.6.0 h11-0.14.0 huggingface_hub-0.16.4 hyperpyyaml-1.2.1 idna-3.4 inquirer-3.1.3 julius-0.2.7 librosa-0.10.1 lightning-2.0.8 lightning-cloud-0.5.37 lightning-utilities-0.9.0 lit-16.0.6 llvmlite-0.40.1 markdown-it-py-3.0.0 mdurl-0.1.2 mpmath-1.3.0 msgpack-1.0.5 multidict-6.0.4 numba-0.57.1 nvidia-cublas-cu11-11.10.3.66 nvidia-cuda-cupti-cu11-11.7.101 nvidia-cuda-nvrtc-cu11-11.7.99 nvidia-cuda-runtime-cu11-11.7.99 nvidia-cudnn-cu11-8.5.0.96 nvidia-cufft-cu11-10.9.0.58 nvidia-curand-cu11-10.2.10.91 nvidia-cusolver-cu11-11.4.0.1 nvidia-cusparse-cu11-11.7.4.91 nvidia-nccl-cu11-2.14.3 nvidia-nvtx-cu11-11.7.91 omegaconf-2.3.0 optuna-3.3.0 ordered-set-4.1.0 pooch-1.7.0 primePy-1.3 pyannote.audio-2.1.1 pyannote.core-5.0.0 pyannote.database-5.0.1 pyannote.metrics-3.2.1 pyannote.pipeline-2.3 pycparser-2.21 pydantic-2.1.1 pydantic-core-2.4.0 pyjwt-2.8.0 python-editor-1.0.4 python-multipart-0.0.6 pytorch-lightning-2.0.8 pytorch_metric_learning-2.3.0 pyyaml-6.0.1 readchar-4.0.5 requests-2.31.0 rich-13.5.2 ruamel.yaml-0.17.28 ruamel.yaml.clib-0.2.7 semver-3.0.1 sentencepiece-0.1.99 shellingham-1.5.3 six-1.16.0 sniffio-1.3.0 sortedcontainers-2.4.0 soundfile-0.12.1 soupsieve-2.4.1 soxr-0.3.6 speechbrain-0.5.15 starlette-0.27.0 starsessions-1.3.0 sympy-1.12 tabulate-0.9.0 tensorboardX-2.6.2.2 torch-2.0.1 torch-pitch-shift-1.2.4 torch_audiomentations-0.11.0 torchaudio-2.0.2 torchmetrics-1.1.1 triton-2.0.0 typer-0.9.0 typing-extensions-4.7.1 urllib3-2.0.4 uvicorn-0.23.2 websocket-client-1.6.2 websockets-11.0.3 yarl-1.9.2\n"
          ]
        }
      ],
      "source": [
        "# install from develop branch\n",
        "!pip install  https://github.com/pyannote/pyannote-audio/archive/refs/heads/develop.zip"
      ]
    },
    {
      "cell_type": "code",
      "execution_count": 6,
      "metadata": {
        "colab": {
          "base_uri": "https://localhost:8080/"
        },
        "id": "TL7fC4aZdpyH",
        "outputId": "b1e04802-27db-4ca5-bbd1-97d0375825d6"
      },
      "outputs": [
        {
          "name": "stdout",
          "output_type": "stream",
          "text": [
            "Collecting yt-dlp\n",
            "  Obtaining dependency information for yt-dlp from https://files.pythonhosted.org/packages/5c/da/ef08140cea3392288a8f6cd60f6f12510a4c5776eead53e90151f139af19/yt_dlp-2023.7.6-py2.py3-none-any.whl.metadata\n",
            "  Downloading yt_dlp-2023.7.6-py2.py3-none-any.whl.metadata (157 kB)\n",
            "\u001b[2K     \u001b[90m━━━━━━━━━━━━━━━━━━━━━━━━━━━━━━━━━━━━━━━\u001b[0m \u001b[32m158.0/158.0 kB\u001b[0m \u001b[31m1.9 MB/s\u001b[0m eta \u001b[36m0:00:00\u001b[0ma \u001b[36m0:00:01\u001b[0m\n",
            "\u001b[?25hCollecting mutagen (from yt-dlp)\n",
            "  Using cached mutagen-1.46.0-py3-none-any.whl (193 kB)\n",
            "Collecting pycryptodomex (from yt-dlp)\n",
            "  Obtaining dependency information for pycryptodomex from https://files.pythonhosted.org/packages/45/09/ce11344724e674957402b5f3c0d663388f755ecd1c864f0c405b5f959bd8/pycryptodomex-3.18.0-cp35-abi3-manylinux_2_17_x86_64.manylinux2014_x86_64.whl.metadata\n",
            "  Downloading pycryptodomex-3.18.0-cp35-abi3-manylinux_2_17_x86_64.manylinux2014_x86_64.whl.metadata (3.4 kB)\n",
            "Requirement already satisfied: websockets in ./venv/lib/python3.8/site-packages (from yt-dlp) (11.0.3)\n",
            "Requirement already satisfied: certifi in ./venv/lib/python3.8/site-packages (from yt-dlp) (2023.7.22)\n",
            "Collecting brotli (from yt-dlp)\n",
            "  Using cached Brotli-1.0.9-cp38-cp38-manylinux1_x86_64.whl (357 kB)\n",
            "Using cached yt_dlp-2023.7.6-py2.py3-none-any.whl (3.0 MB)\n",
            "Using cached pycryptodomex-3.18.0-cp35-abi3-manylinux_2_17_x86_64.manylinux2014_x86_64.whl (2.1 MB)\n",
            "Installing collected packages: brotli, pycryptodomex, mutagen, yt-dlp\n",
            "Successfully installed brotli-1.0.9 mutagen-1.46.0 pycryptodomex-3.18.0 yt-dlp-2023.7.6\n"
          ]
        }
      ],
      "source": [
        "!pip install -U yt-dlp"
      ]
    },
    {
      "cell_type": "code",
      "execution_count": 4,
      "metadata": {
        "id": "KsedMPN-daEX"
      },
      "outputs": [],
      "source": [
        "!wget -O - -q  https://github.com/yt-dlp/FFmpeg-Builds/releases/download/latest/ffmpeg-master-latest-linux64-gpl.tar.xz | xz -qdc| tar -x"
      ]
    },
    {
      "cell_type": "code",
      "execution_count": 1,
      "metadata": {},
      "outputs": [],
      "source": [
        "from tempfile import NamedTemporaryFile\n"
      ]
    },
    {
      "cell_type": "code",
      "execution_count": 2,
      "metadata": {},
      "outputs": [],
      "source": [
        "import subprocess\n",
        "\n",
        "def convertFileFromWebOrLocalToAudio(url, output):\n",
        "    subprocess.run(['yt-dlp',\n",
        "                    '--enable-file-urls',\n",
        "                    '--force-overwrites', \n",
        "                    '-xv', '--ffmpeg-location',  \n",
        "                    'ffmpeg-master-latest-linux64-gpl/bin',  \n",
        "                    '--audio-format',  \n",
        "                    'wav',   \n",
        "                    '-o',  \n",
        "                    output,  \n",
        "                    '--',  \n",
        "                    url])\n"
      ]
    },
    {
      "cell_type": "code",
      "execution_count": 3,
      "metadata": {},
      "outputs": [],
      "source": [
        "temp = NamedTemporaryFile(suffix='.wav', dir='./temp/')\n",
        "tempCut = NamedTemporaryFile(suffix='.wav', dir='./temp/')\n",
        "tempSegmented = NamedTemporaryFile(suffix='.wav', dir='./temp/')\n",
        "\n",
        "\n"
      ]
    },
    {
      "cell_type": "code",
      "execution_count": 64,
      "metadata": {},
      "outputs": [
        {
          "name": "stdout",
          "output_type": "stream",
          "text": [
            "/home/gabriel_vr/Desktop/work/fator3/startup_manager/whisper-api/temp/tmpv6p3r266.wav\n"
          ]
        }
      ],
      "source": [
        "print(temp.name)"
      ]
    },
    {
      "cell_type": "code",
      "execution_count": 4,
      "metadata": {},
      "outputs": [
        {
          "name": "stderr",
          "output_type": "stream",
          "text": [
            "[debug] Command-line config: ['--enable-file-urls', '--force-overwrites', '-xv', '--ffmpeg-location', 'ffmpeg-master-latest-linux64-gpl/bin', '--audio-format', 'wav', '-o', '/home/gabriel_vr/Desktop/work/fator3/startup_manager/whisper-api/temp/tmpu5ndqx45.wav', '--', 'file:///home/gabriel_vr/Downloads/O Maior Segredo da Nilce! - Hora de Pôr Café (Parte 67).mp4']\n",
            "[debug] Encodings: locale UTF-8, fs utf-8, pref UTF-8, out utf-8 (No ANSI), error utf-8 (No ANSI), screen utf-8 (No ANSI)\n",
            "[debug] yt-dlp version stable@2023.07.06 [b532a3481] (pip)\n",
            "[debug] Python 3.8.17 (CPython x86_64 64bit) - Linux-5.14.0-1059-oem-x86_64-with-glibc2.10 (OpenSSL 3.1.2 1 Aug 2023, glibc 2.31)\n",
            "[debug] exe versions: ffmpeg N-111869-g7aa71ab5c0-20230831 (setts), ffprobe N-111869-g7aa71ab5c0-20230831\n",
            "[debug] Optional libraries: Cryptodome-3.18.0, brotli-1.0.9, certifi-2023.07.22, mutagen-1.46.0, sqlite3-2.6.0, websockets-11.0.3\n",
            "[debug] Proxy map: {}\n",
            "[debug] Loaded 1855 extractors\n"
          ]
        },
        {
          "name": "stdout",
          "output_type": "stream",
          "text": [
            "[generic] Extracting URL: file:///home/gabriel_vr/Downloads/O Maior Segredo da Nilce! - Hora de Pôr Café (Parte 67).mp4\n",
            "[generic] O Maior Segredo da Nilce! - Hora de Pôr Café (Parte 67): Downloading webpage\n",
            "[redirect] Following redirect to file:///home/gabriel_vr/Downloads/O%20Maior%20Segredo%20da%20Nilce!%20-%20Hora%20de%20P%C3%B4r%20Caf%C3%A9%20(Parte%2067).mp4\n",
            "[generic] Extracting URL: file:///home/gabriel_vr/Downloads/O%20Maior%20Segredo%20da%20Nilce!%20-%20Hora%20de%20P%C3%B4r%20Caf%C3%A9%20(Parte%2067).mp4\n",
            "[generic] O Maior Segredo da Nilce! - Hora de Pôr Café (Parte 67): Downloading webpage\n",
            "[info] O Maior Segredo da Nilce! - Hora de Pôr Café (Parte 67): Downloading 1 format(s): mp4\n",
            "Deleting existing file /home/gabriel_vr/Desktop/work/fator3/startup_manager/whisper-api/temp/tmpu5ndqx45.wav\n",
            "[download] Destination: /home/gabriel_vr/Desktop/work/fator3/startup_manager/whisper-api/temp/tmpu5ndqx45.mp4\n",
            "[download] 100% of   43.88MiB in 00:00:00 at 509.56MiB/s   \n",
            "[ExtractAudio] Destination: /home/gabriel_vr/Desktop/work/fator3/startup_manager/whisper-api/temp/tmpu5ndqx45.wav\n"
          ]
        },
        {
          "name": "stderr",
          "output_type": "stream",
          "text": [
            "[debug] Identified a direct video link\n",
            "[debug] Formats sorted by: hasvid, ie_pref, lang, quality, res, fps, hdr:12(7), vcodec:vp9.2(10), channels, acodec, size, br, asr, proto, vext, aext, hasaud, source, id\n",
            "[debug] Invoking http downloader on \"file:///home/gabriel_vr/Downloads/O%20Maior%20Segredo%20da%20Nilce!%20-%20Hora%20de%20P%C3%B4r%20Caf%C3%A9%20(Parte%2067).mp4\"\n",
            "[debug] ffmpeg command line: ffmpeg-master-latest-linux64-gpl/bin/ffprobe -show_streams file:/home/gabriel_vr/Desktop/work/fator3/startup_manager/whisper-api/temp/tmpu5ndqx45.mp4\n",
            "[debug] ffmpeg command line: ffmpeg-master-latest-linux64-gpl/bin/ffmpeg -y -loglevel repeat+info -i file:/home/gabriel_vr/Desktop/work/fator3/startup_manager/whisper-api/temp/tmpu5ndqx45.mp4 -vn -movflags +faststart file:/home/gabriel_vr/Desktop/work/fator3/startup_manager/whisper-api/temp/tmpu5ndqx45.wav\n"
          ]
        },
        {
          "name": "stdout",
          "output_type": "stream",
          "text": [
            "Deleting original file /home/gabriel_vr/Desktop/work/fator3/startup_manager/whisper-api/temp/tmpu5ndqx45.mp4 (pass -k to keep)\n"
          ]
        }
      ],
      "source": [
        "convertFileFromWebOrLocalToAudio('file:///home/gabriel_vr/Downloads/O Maior Segredo da Nilce! - Hora de Pôr Café (Parte 67).mp4', temp.name)\n"
      ]
    },
    {
      "cell_type": "markdown",
      "metadata": {
        "id": "Gzp4EVzWpd5I"
      },
      "source": [
        "\n",
        "Cutting the first 20 minutes of the video for further process.\n"
      ]
    },
    {
      "cell_type": "code",
      "execution_count": 7,
      "metadata": {
        "colab": {
          "base_uri": "https://localhost:8080/"
        },
        "id": "ZqznOE7Kw725",
        "outputId": "73877474-b03c-43cf-825b-2cea28ff0c3f"
      },
      "outputs": [
        {
          "name": "stdout",
          "output_type": "stream",
          "text": [
            "Collecting pydub\n",
            "  Using cached pydub-0.25.1-py2.py3-none-any.whl (32 kB)\n",
            "Installing collected packages: pydub\n",
            "Successfully installed pydub-0.25.1\n"
          ]
        }
      ],
      "source": [
        "!pip install pydub"
      ]
    },
    {
      "cell_type": "code",
      "execution_count": 5,
      "metadata": {
        "colab": {
          "base_uri": "https://localhost:8080/"
        },
        "id": "LlB5gZnswvL1",
        "outputId": "085f2142-68da-4a37-b5e1-b24988619276"
      },
      "outputs": [],
      "source": [
        "from pydub import AudioSegment\n",
        "\n",
        "\n",
        "def cutAudio(path, pathDest, begin, end):\n",
        "    newAudio = AudioSegment.from_wav(path)\n",
        "    a = newAudio[begin:end]\n",
        "    a.export(pathDest, format=\"wav\") \n"
      ]
    },
    {
      "cell_type": "code",
      "execution_count": 6,
      "metadata": {},
      "outputs": [],
      "source": [
        "t1 = 0 * 1000 #Works in milliseconds\n",
        "t2 = 1 * 60 * 1000\n",
        "cutAudio(temp.name, tempCut.name, t1, t2)"
      ]
    },
    {
      "cell_type": "markdown",
      "metadata": {
        "id": "q7qMLTISFE6M"
      },
      "source": [
        "`pyannote.audio` seems to miss the first 0.5 seconds of the audio, and, therefore, we prepend a spcacer."
      ]
    },
    {
      "cell_type": "code",
      "execution_count": 7,
      "metadata": {},
      "outputs": [],
      "source": [
        "from pydub import AudioSegment\n",
        "def prependToAudio(path,time):\n",
        "    audio = AudioSegment.from_wav(path)\n",
        "    spacer = AudioSegment.silent(duration=time)\n",
        "    audio = spacer.append(audio, crossfade=0)\n",
        "    audio.export(path, format='wav')\n",
        "\n"
      ]
    },
    {
      "cell_type": "code",
      "execution_count": 8,
      "metadata": {
        "colab": {
          "base_uri": "https://localhost:8080/"
        },
        "id": "MaRDsBV1CWi8",
        "outputId": "e8b7eb9d-0908-4c87-f969-bb780e7e1d19"
      },
      "outputs": [],
      "source": [
        "spacermilli = 2500\n",
        "prependToAudio(tempCut,spacermilli)"
      ]
    },
    {
      "cell_type": "markdown",
      "metadata": {
        "id": "mb5eEOKUooju"
      },
      "source": [
        "# Pyannote's Diarization"
      ]
    },
    {
      "cell_type": "markdown",
      "metadata": {
        "id": "nxNf1l8Ye_U9"
      },
      "source": [
        "[`pyannote.audio`](https://github.com/pyannote/pyannote-audio) is an open-source toolkit written in Python for **speaker diarization**. \n",
        "\n",
        "Based on [`PyTorch`](https://pytorch.org) machine learning framework, it provides a set of trainable end-to-end neural building blocks that can be combined and jointly optimized to build speaker diarization pipelines. \n",
        "\n",
        "`pyannote.audio` also comes with pretrained [models](https://huggingface.co/models?other=pyannote-audio-model) and [pipelines](https://huggingface.co/models?other=pyannote-audio-pipeline) covering a wide range of domains for voice activity detection, speaker segmentation, overlapped speech detection, speaker embedding reaching state-of-the-art performance for most of them. "
      ]
    },
    {
      "cell_type": "markdown",
      "metadata": {
        "id": "S8Ak_OQwqd-3"
      },
      "source": [
        "Installing Pyannote and running it on the video to generate the diarizations."
      ]
    },
    {
      "cell_type": "code",
      "execution_count": 3,
      "metadata": {
        "colab": {
          "base_uri": "https://localhost:8080/",
          "height": 1000
        },
        "id": "vJGyKTQJqdzq",
        "outputId": "a910865e-252a-4609-f998-32f6d9d59300"
      },
      "outputs": [
        {
          "name": "stdout",
          "output_type": "stream",
          "text": [
            "Requirement already satisfied: pyannote.audio in ./venv/lib/python3.10/site-packages (2.1.1)\n",
            "Requirement already satisfied: pyannote.database<5.0,>=4.1.1 in ./venv/lib/python3.10/site-packages (from pyannote.audio) (4.1.3)\n",
            "Requirement already satisfied: torchmetrics<1.0,>=0.6 in ./venv/lib/python3.10/site-packages (from pyannote.audio) (0.11.4)\n",
            "Requirement already satisfied: singledispatchmethod in ./venv/lib/python3.10/site-packages (from pyannote.audio) (1.0)\n",
            "Collecting torchaudio<1.0,>=0.10\n",
            "  Using cached torchaudio-0.13.1-cp310-cp310-manylinux1_x86_64.whl (4.2 MB)\n",
            "Requirement already satisfied: semver<3.0,>=2.10.2 in ./venv/lib/python3.10/site-packages (from pyannote.audio) (2.13.0)\n",
            "Requirement already satisfied: pytorch-metric-learning<2.0,>=1.0.0 in ./venv/lib/python3.10/site-packages (from pyannote.audio) (1.7.3)\n",
            "Requirement already satisfied: pyannote.pipeline<3.0,>=2.3 in ./venv/lib/python3.10/site-packages (from pyannote.audio) (2.3)\n",
            "Requirement already satisfied: pyannote.metrics<4.0,>=3.2 in ./venv/lib/python3.10/site-packages (from pyannote.audio) (3.2.1)\n",
            "Requirement already satisfied: pytorch-lightning<1.7,>=1.5.4 in ./venv/lib/python3.10/site-packages (from pyannote.audio) (1.6.5)\n",
            "Requirement already satisfied: asteroid-filterbanks<0.5,>=0.4 in ./venv/lib/python3.10/site-packages (from pyannote.audio) (0.4.0)\n",
            "Requirement already satisfied: typing-extensions in ./venv/lib/python3.10/site-packages (from pyannote.audio) (4.7.1)\n",
            "Requirement already satisfied: speechbrain<0.6,>=0.5.12 in ./venv/lib/python3.10/site-packages (from pyannote.audio) (0.5.15)\n",
            "Requirement already satisfied: huggingface-hub>=0.8.1 in ./venv/lib/python3.10/site-packages (from pyannote.audio) (0.16.4)\n",
            "Requirement already satisfied: omegaconf<3.0,>=2.1 in ./venv/lib/python3.10/site-packages (from pyannote.audio) (2.3.0)\n",
            "Requirement already satisfied: hmmlearn<0.3,>=0.2.7 in ./venv/lib/python3.10/site-packages (from pyannote.audio) (0.2.8)\n",
            "Requirement already satisfied: torch-audiomentations>=0.11.0 in ./venv/lib/python3.10/site-packages (from pyannote.audio) (0.11.0)\n",
            "Requirement already satisfied: einops<0.4.0,>=0.3 in ./venv/lib/python3.10/site-packages (from pyannote.audio) (0.3.2)\n",
            "Requirement already satisfied: backports.cached-property in ./venv/lib/python3.10/site-packages (from pyannote.audio) (1.0.2)\n",
            "Requirement already satisfied: pyannote.core<5.0,>=4.4 in ./venv/lib/python3.10/site-packages (from pyannote.audio) (4.5)\n",
            "Requirement already satisfied: torch>=1.9 in ./venv/lib/python3.10/site-packages (from pyannote.audio) (2.0.1)\n",
            "Requirement already satisfied: soundfile<0.11,>=0.10.2 in ./venv/lib/python3.10/site-packages (from pyannote.audio) (0.10.3.post1)\n",
            "Collecting networkx<3.0,>=2.6\n",
            "  Using cached networkx-2.8.8-py3-none-any.whl (2.0 MB)\n",
            "Requirement already satisfied: numpy in ./venv/lib/python3.10/site-packages (from asteroid-filterbanks<0.5,>=0.4->pyannote.audio) (1.25.2)\n",
            "Requirement already satisfied: scipy>=0.19 in ./venv/lib/python3.10/site-packages (from hmmlearn<0.3,>=0.2.7->pyannote.audio) (1.11.2)\n",
            "Requirement already satisfied: scikit-learn>=0.16 in ./venv/lib/python3.10/site-packages (from hmmlearn<0.3,>=0.2.7->pyannote.audio) (1.3.0)\n",
            "Requirement already satisfied: fsspec in ./venv/lib/python3.10/site-packages (from huggingface-hub>=0.8.1->pyannote.audio) (2023.6.0)\n",
            "Requirement already satisfied: pyyaml>=5.1 in ./venv/lib/python3.10/site-packages (from huggingface-hub>=0.8.1->pyannote.audio) (6.0.1)\n",
            "Requirement already satisfied: filelock in ./venv/lib/python3.10/site-packages (from huggingface-hub>=0.8.1->pyannote.audio) (3.12.3)\n",
            "Requirement already satisfied: packaging>=20.9 in ./venv/lib/python3.10/site-packages (from huggingface-hub>=0.8.1->pyannote.audio) (22.0)\n",
            "Requirement already satisfied: requests in ./venv/lib/python3.10/site-packages (from huggingface-hub>=0.8.1->pyannote.audio) (2.31.0)\n",
            "Requirement already satisfied: tqdm>=4.42.1 in ./venv/lib/python3.10/site-packages (from huggingface-hub>=0.8.1->pyannote.audio) (4.66.1)\n",
            "Requirement already satisfied: antlr4-python3-runtime==4.9.* in ./venv/lib/python3.10/site-packages (from omegaconf<3.0,>=2.1->pyannote.audio) (4.9.3)\n",
            "Requirement already satisfied: sortedcontainers>=2.0.4 in ./venv/lib/python3.10/site-packages (from pyannote.core<5.0,>=4.4->pyannote.audio) (2.4.0)\n",
            "Requirement already satisfied: simplejson>=3.8.1 in ./venv/lib/python3.10/site-packages (from pyannote.core<5.0,>=4.4->pyannote.audio) (3.19.1)\n",
            "Requirement already satisfied: typer[all]>=0.2.1 in ./venv/lib/python3.10/site-packages (from pyannote.database<5.0,>=4.1.1->pyannote.audio) (0.9.0)\n",
            "Requirement already satisfied: pandas>=0.19 in ./venv/lib/python3.10/site-packages (from pyannote.database<5.0,>=4.1.1->pyannote.audio) (2.1.0)\n",
            "Requirement already satisfied: tabulate>=0.7.7 in ./venv/lib/python3.10/site-packages (from pyannote.metrics<4.0,>=3.2->pyannote.audio) (0.9.0)\n",
            "Requirement already satisfied: docopt>=0.6.2 in ./venv/lib/python3.10/site-packages (from pyannote.metrics<4.0,>=3.2->pyannote.audio) (0.6.2)\n",
            "Requirement already satisfied: sympy>=1.1 in ./venv/lib/python3.10/site-packages (from pyannote.metrics<4.0,>=3.2->pyannote.audio) (1.12)\n",
            "Requirement already satisfied: matplotlib>=2.0.0 in ./venv/lib/python3.10/site-packages (from pyannote.metrics<4.0,>=3.2->pyannote.audio) (3.7.2)\n",
            "Requirement already satisfied: optuna>=1.4 in ./venv/lib/python3.10/site-packages (from pyannote.pipeline<3.0,>=2.3->pyannote.audio) (3.3.0)\n",
            "Requirement already satisfied: pyDeprecate>=0.3.1 in ./venv/lib/python3.10/site-packages (from pytorch-lightning<1.7,>=1.5.4->pyannote.audio) (0.3.2)\n",
            "Requirement already satisfied: protobuf<=3.20.1 in ./venv/lib/python3.10/site-packages (from pytorch-lightning<1.7,>=1.5.4->pyannote.audio) (3.20.1)\n",
            "Requirement already satisfied: tensorboard>=2.2.0 in ./venv/lib/python3.10/site-packages (from pytorch-lightning<1.7,>=1.5.4->pyannote.audio) (2.14.0)\n",
            "Requirement already satisfied: cffi>=1.0 in ./venv/lib/python3.10/site-packages (from soundfile<0.11,>=0.10.2->pyannote.audio) (1.15.1)\n",
            "Requirement already satisfied: sentencepiece in ./venv/lib/python3.10/site-packages (from speechbrain<0.6,>=0.5.12->pyannote.audio) (0.1.99)\n",
            "Requirement already satisfied: joblib in ./venv/lib/python3.10/site-packages (from speechbrain<0.6,>=0.5.12->pyannote.audio) (1.3.2)\n",
            "Requirement already satisfied: hyperpyyaml in ./venv/lib/python3.10/site-packages (from speechbrain<0.6,>=0.5.12->pyannote.audio) (1.2.1)\n",
            "Requirement already satisfied: jinja2 in ./venv/lib/python3.10/site-packages (from torch>=1.9->pyannote.audio) (3.1.2)\n",
            "Requirement already satisfied: julius<0.3,>=0.2.3 in ./venv/lib/python3.10/site-packages (from torch-audiomentations>=0.11.0->pyannote.audio) (0.2.7)\n",
            "Requirement already satisfied: librosa>=0.6.0 in ./venv/lib/python3.10/site-packages (from torch-audiomentations>=0.11.0->pyannote.audio) (0.9.2)\n",
            "Requirement already satisfied: torch-pitch-shift>=1.2.2 in ./venv/lib/python3.10/site-packages (from torch-audiomentations>=0.11.0->pyannote.audio) (1.2.4)\n",
            "Collecting torch>=1.9\n",
            "  Using cached torch-1.13.1-cp310-cp310-manylinux1_x86_64.whl (887.5 MB)\n",
            "^C\n",
            "\u001b[31mERROR: Operation cancelled by user\u001b[0m\u001b[31m\n",
            "\u001b[0m"
          ]
        }
      ],
      "source": [
        "!pip install   pyannote.audio"
      ]
    },
    {
      "cell_type": "code",
      "execution_count": 9,
      "metadata": {
        "colab": {
          "base_uri": "https://localhost:8080/",
          "height": 273,
          "referenced_widgets": [
            "546a16efa53e462f88890ebe3977a3bc",
            "1f7c6499be4846e1bc674761f3b875f2",
            "268c730678bb4af6baf7bb4f185ddb1e",
            "350678a2f548480b9d6acceda5d78949",
            "8f9cafa27efc43c4bb3f566f87df523c",
            "e4802c94ccaf404180f3760e3b859a3a",
            "71d0b4b532e649829bc813d0f09b2c3b",
            "5fb9f7acb4c7491a986f6d674f467028",
            "40efa9c5b79e40cab21dcdcf98533caa",
            "766c1a1b8c1248e79dfa03ec89dbc4dd",
            "15e62f4a65104bdea233a96c4dbb6db8",
            "327bebaf45eb46b289615c8deb29a69d",
            "a6919e4b1e2c4510958bf343ef2524a8",
            "309cc6bf3b1e41b1a558fbdb3745c301",
            "ec474373198046d299e09b4823a2766d",
            "88186bbd5a1c4425b254d608ca85cd8a",
            "458d4d31cd87402c97c4038553c06574",
            "d6d8814501a34ef391c565ba4748e365",
            "a9a5de2de75643048ba821d73a00d5c7",
            "51422049fa5846bb9e009b530f0a7526",
            "ae3785b55e8c4b7e963dc357fb255f05",
            "7e8227f2dac34d83a3c670e4d4e0a249",
            "fe9e7728c09946c5908d7502c3f77432",
            "b67a926cc4904c2f84efd509098e103c",
            "fd98d75dc2424c2faecfb4b5f6a94aa2",
            "187e2d909bfc4a41b2502b964a03fcad",
            "bf18adc120174a8bb6cd6f09d853911f",
            "0c4de4008c2e45e5a31d21cdb954f0f2",
            "28ef8f3ac2e44445ac9e40d140e513d3",
            "d137a72df0a849a8913fd62924c1848a",
            "105cf78a882a4cc3bbdaaa2b80217110",
            "b2791832f51f4794acfdbded875bc9b5",
            "28c4d707b0764f51ba2d06eeed5dad96",
            "0b616fa3a46a4502b14f93270fcb1ca7",
            "fd8fd5f045414ab199d3f37c9397ad54",
            "9652595d01cc478c952a368a1f86940d",
            "3a648dda02c9485e8e975e7a1ad2c27e",
            "eb2e878c6f0d413b9e82b93b6057e66f",
            "a6df649cf752475c9540bf1ba2fc7199",
            "e491634079f44e65a6edb5d799a2b74e",
            "c9389e064ac54435a3fd356b13b86f4e",
            "098d718a941542b99b772068e442e9fa",
            "4a1e581661b84dc6b9c52c1c6efa006b",
            "3d1b76d21f6349ccbeefd795974321f7",
            "bbacac6c5aff4686a31130560e9cf86b",
            "ade8c72f0eb64de58c4a1351c0b5cdbd",
            "ea54cd59edc64f95958f62a9b6e182c9",
            "5a1b7cd142e94f22a9abc9e64b11d633",
            "9403474d6e774f4dbb36c843620ba666",
            "68eb916bf9494da6a1740e404da1c602",
            "1c72713c82fa4ab89cb8fbe84089828f",
            "a730cdaad4e24736b872723240a094dd",
            "a0b10ced5ddc47b5867d864bcc786e0e",
            "7c74e70870304e83826f2a322341a000",
            "5a98ade616cd441da36ed51b85f4b61c",
            "36ecee3e086a4a34bd6f6fe435b20a6e",
            "f638d0f51ac548e8a36a0b8858082e29",
            "41359dbbceea458b9137b8cb8fb2e7e1",
            "a9b8f75e82274a4e8cfa1026fe8408de",
            "b71b33109b124e30b0004634467e64dc",
            "32792ea893a140dab321565df126e461",
            "e9b04004efb944c6ad7d53763d426626",
            "5d5fa4a478844c798c91a274361cda2b",
            "323bd202a5a540b4b8805b88138468ad",
            "0831e94760fa421384e2b33c97532d09",
            "b7073c903e1e4701b68516dc8a867fc1",
            "28e3b80e86634a32aaef5b67345c217c",
            "3a1c92eec125401ca3184d713b27f4a5",
            "500472e00812437390d5caf9bc0ee67b",
            "41aa0f5eaddd4907802992b380e85ded",
            "030169a7a2594b5a8646f327a0566dfe",
            "55d89d284453466c8013f2a884d55426",
            "47506b0858534c6ebc53e8e500ef56b6",
            "feaf363bb8c548fcae1cd13fd1074581",
            "fc80e8542e34422b86874eee0b20b3f8",
            "b8cdfacd7bee4c398fc513ed2a3311e3",
            "85c433e956794588b166c9ed6fa68c20",
            "36c91974947c4bf7aef8585de061a5a7",
            "a7d1f042f6124c51aa69ac6985e7c83c",
            "3fbcb6d197ab4c44930a2e15e439459b",
            "6b7194d233cd47428f58bf987f9712fe",
            "135ef8a71e4041ad80129cc5dbc51354",
            "5d46ef19e68c4974a5001a48121047f3",
            "65b31b2e94b04dd39298f004f9493e29",
            "e73e393e01f4487d86dfbe5e401b4c09",
            "a93270536a094ed694b825ea38aa36a2",
            "dbbb60965fb24cd9b2dc1ea510e7e480",
            "d06a71fe937b4ee1a44764f020bf3d57"
          ]
        },
        "id": "jKG14DGYbwku",
        "outputId": "799c6a8b-16b1-49a7-b87a-ad6d340cf375"
      },
      "outputs": [
        {
          "name": "stderr",
          "output_type": "stream",
          "text": [
            "/home/gabriel_vr/Desktop/work/fator3/startup_manager/whisper-api/venv/lib/python3.8/site-packages/tqdm/auto.py:21: TqdmWarning: IProgress not found. Please update jupyter and ipywidgets. See https://ipywidgets.readthedocs.io/en/stable/user_install.html\n",
            "  from .autonotebook import tqdm as notebook_tqdm\n"
          ]
        }
      ],
      "source": [
        "from pyannote.audio import Pipeline\n",
        "\n",
        "def diarizeAudio(path):\n",
        "    pipeline = Pipeline.from_pretrained('pyannote/speaker-diarization', use_auth_token='')\n",
        "    dz = pipeline(path)  \n",
        "    return dz"
      ]
    },
    {
      "cell_type": "code",
      "execution_count": 10,
      "metadata": {
        "id": "yA4xiEefft9Z"
      },
      "outputs": [
        {
          "name": "stderr",
          "output_type": "stream",
          "text": [
            "torchvision is not available - cannot save figures\n",
            "Lightning automatically upgraded your loaded checkpoint from v1.5.4 to v2.0.8. To apply the upgrade to your files permanently, run `python -m pytorch_lightning.utilities.upgrade_checkpoint --file ../../../../../.cache/torch/pyannote/models--pyannote--segmentation/snapshots/c4c8ceafcbb3a7a280c2d357aee9fbc9b0be7f9b/pytorch_model.bin`\n"
          ]
        },
        {
          "name": "stdout",
          "output_type": "stream",
          "text": [
            "Model was trained with pyannote.audio 0.0.1, yours is 2.1.1. Bad things might happen unless you revert pyannote.audio to 0.x.\n",
            "Model was trained with torch 1.10.0+cu102, yours is 2.0.1+cu117. Bad things might happen unless you revert torch to 1.x.\n"
          ]
        }
      ],
      "source": [
        "diarization = diarizeAudio(tempCut.name)"
      ]
    },
    {
      "cell_type": "code",
      "execution_count": 20,
      "metadata": {
        "colab": {
          "base_uri": "https://localhost:8080/"
        },
        "id": "GHIY2MB3Vz3e",
        "outputId": "11faa3bf-cd94-4753-dffb-1be3c061f8b4"
      },
      "outputs": [
        {
          "name": "stdout",
          "output_type": "stream",
          "text": [
            "(<Segment(3.02901, 4.49659)>, 'G', 'SPEAKER_01')\n",
            "(<Segment(4.88908, 10.9983)>, 'A', 'SPEAKER_00')\n",
            "(<Segment(11.8686, 17.9949)>, 'H', 'SPEAKER_01')\n",
            "(<Segment(17.9949, 31.3225)>, 'B', 'SPEAKER_00')\n",
            "(<Segment(31.3225, 32.9949)>, 'I', 'SPEAKER_01')\n",
            "(<Segment(33.5239, 35.4693)>, 'C', 'SPEAKER_00')\n",
            "(<Segment(36.4761, 42.0051)>, 'J', 'SPEAKER_01')\n",
            "(<Segment(42.0051, 47.6024)>, 'D', 'SPEAKER_00')\n",
            "(<Segment(49.4283, 50.9983)>, 'E', 'SPEAKER_00')\n",
            "(<Segment(50.9983, 56.3396)>, 'K', 'SPEAKER_01')\n"
          ]
        }
      ],
      "source": [
        "print(*list(diarization.itertracks(yield_label = True))[:10], sep=\"\\n\")"
      ]
    },
    {
      "cell_type": "code",
      "execution_count": 74,
      "metadata": {},
      "outputs": [
        {
          "data": {
            "text/plain": [
              "2.5511945392491473"
            ]
          },
          "execution_count": 74,
          "metadata": {},
          "output_type": "execute_result"
        }
      ],
      "source": [
        "list(diarization.itertracks(yield_label = True))[0][0].start"
      ]
    },
    {
      "cell_type": "code",
      "execution_count": 75,
      "metadata": {
        "id": "KPGOaVpOH7pZ"
      },
      "outputs": [],
      "source": [
        "def millisec(timeStr):\n",
        "  spl = timeStr.split(\":\")\n",
        "  s = (int)((int(spl[0]) * 60 * 60 + int(spl[1]) * 60 + float(spl[2]) )* 1000)\n",
        "  return s"
      ]
    },
    {
      "cell_type": "code",
      "execution_count": 18,
      "metadata": {},
      "outputs": [],
      "source": [
        "def getSpeeches(diarization, spacer=0.0):\n",
        "    speeches = []\n",
        "    for speech in list(diarization.itertracks(yield_label = True)):\n",
        "        start = round(speech[0].start, 3)\n",
        "        end = round(speech[0].end, 3)\n",
        "        speaker = speech[2]\n",
        "        speeches.append({\n",
        "            \"start\": start,\n",
        "            \"end\": end,\n",
        "            \"speaker\": speaker\n",
        "        })\n",
        "    return speeches"
      ]
    },
    {
      "cell_type": "code",
      "execution_count": 19,
      "metadata": {},
      "outputs": [],
      "source": [
        "speeches = getSpeeches(diarization, spacermilli)"
      ]
    },
    {
      "cell_type": "code",
      "execution_count": 21,
      "metadata": {},
      "outputs": [
        {
          "name": "stdout",
          "output_type": "stream",
          "text": [
            "[{'start': 3.029, 'end': 4.497, 'speaker': 'SPEAKER_01'}, {'start': 4.889, 'end': 10.998, 'speaker': 'SPEAKER_00'}, {'start': 11.869, 'end': 17.995, 'speaker': 'SPEAKER_01'}, {'start': 17.995, 'end': 31.323, 'speaker': 'SPEAKER_00'}, {'start': 31.323, 'end': 32.995, 'speaker': 'SPEAKER_01'}, {'start': 33.524, 'end': 35.469, 'speaker': 'SPEAKER_00'}, {'start': 36.476, 'end': 42.005, 'speaker': 'SPEAKER_01'}, {'start': 42.005, 'end': 47.602, 'speaker': 'SPEAKER_00'}, {'start': 49.428, 'end': 50.998, 'speaker': 'SPEAKER_00'}, {'start': 50.998, 'end': 56.34, 'speaker': 'SPEAKER_01'}, {'start': 58.746, 'end': 62.5, 'speaker': 'SPEAKER_00'}, {'start': 59.138, 'end': 60.862, 'speaker': 'SPEAKER_01'}]\n"
          ]
        }
      ],
      "source": [
        "print(speeches)"
      ]
    },
    {
      "cell_type": "code",
      "execution_count": 42,
      "metadata": {
        "colab": {
          "base_uri": "https://localhost:8080/"
        },
        "id": "5uIUo68M0g7j",
        "outputId": "b957f4eb-9c00-45e9-a738-c5f3a37f6539"
      },
      "outputs": [
        {
          "name": "stdout",
          "output_type": "stream",
          "text": [
            "2551 4001\n",
            "4377 10503\n",
            "11373 17005\n",
            "[551, 2001, 'SPEAKER_02']\n",
            "[2377, 8503, 'SPEAKER_00']\n",
            "[9373, 15005, 'SPEAKER_01']\n"
          ]
        }
      ],
      "source": [
        "import re\n",
        "dz = open('diarization.txt').read().splitlines()\n",
        "dzList = []\n",
        "for l in dz:\n",
        "  start, end =  tuple(re.findall('[0-9]+:[0-9]+:[0-9]+\\.[0-9]+', string=l))\n",
        "  print(millisec(start), millisec(end))\n",
        "  start = millisec(start) - spacermilli\n",
        "  end = millisec(end)  - spacermilli\n",
        "  speaker = re.findall('SPEAKER_\\d+', string=l)\n",
        "  if(len(speaker) == 0):\n",
        "    speaker = ['Speaker not identified']\n",
        "  dzList.append([start, end, speaker[0]])\n",
        "\n",
        "print(*dzList[:10], sep='\\n')"
      ]
    },
    {
      "cell_type": "markdown",
      "metadata": {
        "id": "Wp36eMedRkR0"
      },
      "source": [
        "# Preparing audio file from the diarization"
      ]
    },
    {
      "cell_type": "markdown",
      "metadata": {
        "id": "VEEuVPj6H0J_"
      },
      "source": [
        "Attaching audio segements according to the diarization, with a spacer as the delimiter."
      ]
    },
    {
      "cell_type": "code",
      "execution_count": 22,
      "metadata": {},
      "outputs": [],
      "source": [
        "def addTimeBetweenSpeeches(path, pathOutput, time, speeches):\n",
        "    segments = []\n",
        "    spacer = AudioSegment.silent(duration=time)\n",
        "    sounds = spacer\n",
        "    audio = AudioSegment.from_wav(path)\n",
        "\n",
        "    for speech in speeches:\n",
        "        start = speech[\"start\"]\n",
        "        end =  speech[\"end\"]\n",
        "        \n",
        "        segments.append(len(sounds))\n",
        "        sounds = sounds.append(audio[start*1000:end*1000], crossfade=0)\n",
        "        sounds = sounds.append(spacer, crossfade=0)\n",
        "\n",
        "        sounds.export(pathOutput, format=\"wav\") #Exports to a wav file in the current path.\n",
        "    return segments\n",
        "\n"
      ]
    },
    {
      "cell_type": "code",
      "execution_count": 23,
      "metadata": {},
      "outputs": [],
      "source": [
        "segments = addTimeBetweenSpeeches(tempCut.name, tempSegmented.name, spacermilli, speeches)"
      ]
    },
    {
      "cell_type": "code",
      "execution_count": 24,
      "metadata": {
        "colab": {
          "base_uri": "https://localhost:8080/"
        },
        "id": "cacmB1ggm51s",
        "outputId": "4ac0d27a-d215-4ba6-8704-7cdfa4416412"
      },
      "outputs": [
        {
          "data": {
            "text/plain": [
              "[2500, 6468, 15077, 23703, 39530, 43702, 48147, 56176]"
            ]
          },
          "execution_count": 24,
          "metadata": {},
          "output_type": "execute_result"
        }
      ],
      "source": [
        "segments[:8]"
      ]
    },
    {
      "cell_type": "markdown",
      "metadata": {
        "id": "rv2GYZCsLKBJ"
      },
      "source": [
        "Freeing up some memory"
      ]
    },
    {
      "cell_type": "markdown",
      "metadata": {
        "id": "AmxtB0k4n8lY"
      },
      "source": [
        "# Whisper's Transcriptions"
      ]
    },
    {
      "cell_type": "markdown",
      "metadata": {
        "id": "swPVuqWaakkH"
      },
      "source": [
        "Installing Open AI whisper.\n",
        "\n",
        "**Important:** There is a version conflict with pyannote.audio resulting in an error (see this RP). Our workaround is to first run Pyannote and then whisper. You can safely ignore the error.\n"
      ]
    },
    {
      "cell_type": "code",
      "execution_count": 21,
      "metadata": {
        "colab": {
          "base_uri": "https://localhost:8080/",
          "height": 927
        },
        "id": "kUd7I__FUZVc",
        "outputId": "fa0da6d8-a6c4-4fd7-9878-300264bb89b7"
      },
      "outputs": [
        {
          "name": "stdout",
          "output_type": "stream",
          "text": [
            "Collecting git+https://github.com/openai/whisper.git\n",
            "  Cloning https://github.com/openai/whisper.git to /tmp/pip-req-build-tjegbnxt\n",
            "  Running command git clone --filter=blob:none --quiet https://github.com/openai/whisper.git /tmp/pip-req-build-tjegbnxt\n",
            "  Resolved https://github.com/openai/whisper.git to commit e8622f9afc4eba139bf796c210f5c01081000472\n",
            "  Installing build dependencies ... \u001b[?25ldone\n",
            "\u001b[?25h  Getting requirements to build wheel ... \u001b[?25ldone\n",
            "\u001b[?25h  Preparing metadata (pyproject.toml) ... \u001b[?25ldone\n",
            "\u001b[?25hRequirement already satisfied: triton==2.0.0 in ./venv/lib/python3.8/site-packages (from openai-whisper==20230314) (2.0.0)\n",
            "Requirement already satisfied: numba in ./venv/lib/python3.8/site-packages (from openai-whisper==20230314) (0.57.1)\n",
            "Requirement already satisfied: numpy in /home/gabriel_vr/.local/lib/python3.8/site-packages (from openai-whisper==20230314) (1.24.2)\n",
            "Requirement already satisfied: torch in ./venv/lib/python3.8/site-packages (from openai-whisper==20230314) (2.0.1)\n",
            "Requirement already satisfied: tqdm in /home/gabriel_vr/.local/lib/python3.8/site-packages (from openai-whisper==20230314) (4.65.0)\n",
            "Collecting more-itertools (from openai-whisper==20230314)\n",
            "  Obtaining dependency information for more-itertools from https://files.pythonhosted.org/packages/5a/cb/6dce742ea14e47d6f565589e859ad225f2a5de576d7696e0623b784e226b/more_itertools-10.1.0-py3-none-any.whl.metadata\n",
            "  Downloading more_itertools-10.1.0-py3-none-any.whl.metadata (33 kB)\n",
            "Collecting tiktoken==0.3.3 (from openai-whisper==20230314)\n",
            "  Using cached tiktoken-0.3.3-cp38-cp38-manylinux_2_17_x86_64.manylinux2014_x86_64.whl (1.7 MB)\n",
            "Collecting regex>=2022.1.18 (from tiktoken==0.3.3->openai-whisper==20230314)\n",
            "  Obtaining dependency information for regex>=2022.1.18 from https://files.pythonhosted.org/packages/1f/5c/374ac3fa3c7ed9a967ad273a5e841897ef6b10aa6aad938ff10717a3e2a3/regex-2023.8.8-cp38-cp38-manylinux_2_17_x86_64.manylinux2014_x86_64.whl.metadata\n",
            "  Downloading regex-2023.8.8-cp38-cp38-manylinux_2_17_x86_64.manylinux2014_x86_64.whl.metadata (40 kB)\n",
            "\u001b[2K     \u001b[90m━━━━━━━━━━━━━━━━━━━━━━━━━━━━━━━━━━━━━━━━\u001b[0m \u001b[32m40.9/40.9 kB\u001b[0m \u001b[31m2.0 MB/s\u001b[0m eta \u001b[36m0:00:00\u001b[0m\n",
            "\u001b[?25hRequirement already satisfied: requests>=2.26.0 in ./venv/lib/python3.8/site-packages (from tiktoken==0.3.3->openai-whisper==20230314) (2.31.0)\n",
            "Requirement already satisfied: cmake in ./venv/lib/python3.8/site-packages (from triton==2.0.0->openai-whisper==20230314) (3.27.2)\n",
            "Requirement already satisfied: filelock in ./venv/lib/python3.8/site-packages (from triton==2.0.0->openai-whisper==20230314) (3.12.3)\n",
            "Requirement already satisfied: lit in ./venv/lib/python3.8/site-packages (from triton==2.0.0->openai-whisper==20230314) (16.0.6)\n",
            "Requirement already satisfied: llvmlite<0.41,>=0.40.0dev0 in ./venv/lib/python3.8/site-packages (from numba->openai-whisper==20230314) (0.40.1)\n",
            "Requirement already satisfied: importlib-metadata in /home/gabriel_vr/.local/lib/python3.8/site-packages (from numba->openai-whisper==20230314) (6.6.0)\n",
            "Requirement already satisfied: typing-extensions in ./venv/lib/python3.8/site-packages (from torch->openai-whisper==20230314) (4.7.1)\n",
            "Requirement already satisfied: sympy in ./venv/lib/python3.8/site-packages (from torch->openai-whisper==20230314) (1.12)\n",
            "Requirement already satisfied: networkx in /home/gabriel_vr/.local/lib/python3.8/site-packages (from torch->openai-whisper==20230314) (3.1)\n",
            "Requirement already satisfied: jinja2 in /home/gabriel_vr/.local/lib/python3.8/site-packages (from torch->openai-whisper==20230314) (3.1.2)\n",
            "Requirement already satisfied: nvidia-cuda-nvrtc-cu11==11.7.99 in ./venv/lib/python3.8/site-packages (from torch->openai-whisper==20230314) (11.7.99)\n",
            "Requirement already satisfied: nvidia-cuda-runtime-cu11==11.7.99 in ./venv/lib/python3.8/site-packages (from torch->openai-whisper==20230314) (11.7.99)\n",
            "Requirement already satisfied: nvidia-cuda-cupti-cu11==11.7.101 in ./venv/lib/python3.8/site-packages (from torch->openai-whisper==20230314) (11.7.101)\n",
            "Requirement already satisfied: nvidia-cudnn-cu11==8.5.0.96 in ./venv/lib/python3.8/site-packages (from torch->openai-whisper==20230314) (8.5.0.96)\n",
            "Requirement already satisfied: nvidia-cublas-cu11==11.10.3.66 in ./venv/lib/python3.8/site-packages (from torch->openai-whisper==20230314) (11.10.3.66)\n",
            "Requirement already satisfied: nvidia-cufft-cu11==10.9.0.58 in ./venv/lib/python3.8/site-packages (from torch->openai-whisper==20230314) (10.9.0.58)\n",
            "Requirement already satisfied: nvidia-curand-cu11==10.2.10.91 in ./venv/lib/python3.8/site-packages (from torch->openai-whisper==20230314) (10.2.10.91)\n",
            "Requirement already satisfied: nvidia-cusolver-cu11==11.4.0.1 in ./venv/lib/python3.8/site-packages (from torch->openai-whisper==20230314) (11.4.0.1)\n",
            "Requirement already satisfied: nvidia-cusparse-cu11==11.7.4.91 in ./venv/lib/python3.8/site-packages (from torch->openai-whisper==20230314) (11.7.4.91)\n",
            "Requirement already satisfied: nvidia-nccl-cu11==2.14.3 in ./venv/lib/python3.8/site-packages (from torch->openai-whisper==20230314) (2.14.3)\n",
            "Requirement already satisfied: nvidia-nvtx-cu11==11.7.91 in ./venv/lib/python3.8/site-packages (from torch->openai-whisper==20230314) (11.7.91)\n",
            "Requirement already satisfied: setuptools in ./venv/lib/python3.8/site-packages (from nvidia-cublas-cu11==11.10.3.66->torch->openai-whisper==20230314) (68.0.0)\n",
            "Requirement already satisfied: wheel in ./venv/lib/python3.8/site-packages (from nvidia-cublas-cu11==11.10.3.66->torch->openai-whisper==20230314) (0.38.4)\n",
            "Requirement already satisfied: charset-normalizer<4,>=2 in ./venv/lib/python3.8/site-packages (from requests>=2.26.0->tiktoken==0.3.3->openai-whisper==20230314) (3.2.0)\n",
            "Requirement already satisfied: idna<4,>=2.5 in ./venv/lib/python3.8/site-packages (from requests>=2.26.0->tiktoken==0.3.3->openai-whisper==20230314) (3.4)\n",
            "Requirement already satisfied: urllib3<3,>=1.21.1 in ./venv/lib/python3.8/site-packages (from requests>=2.26.0->tiktoken==0.3.3->openai-whisper==20230314) (2.0.4)\n",
            "Requirement already satisfied: certifi>=2017.4.17 in ./venv/lib/python3.8/site-packages (from requests>=2.26.0->tiktoken==0.3.3->openai-whisper==20230314) (2023.7.22)\n",
            "Requirement already satisfied: zipp>=0.5 in /home/gabriel_vr/.local/lib/python3.8/site-packages (from importlib-metadata->numba->openai-whisper==20230314) (3.15.0)\n",
            "Requirement already satisfied: MarkupSafe>=2.0 in /home/gabriel_vr/.local/lib/python3.8/site-packages (from jinja2->torch->openai-whisper==20230314) (2.1.3)\n",
            "Requirement already satisfied: mpmath>=0.19 in ./venv/lib/python3.8/site-packages (from sympy->torch->openai-whisper==20230314) (1.3.0)\n",
            "Using cached more_itertools-10.1.0-py3-none-any.whl (55 kB)\n",
            "Using cached regex-2023.8.8-cp38-cp38-manylinux_2_17_x86_64.manylinux2014_x86_64.whl (774 kB)\n",
            "Building wheels for collected packages: openai-whisper\n",
            "  Building wheel for openai-whisper (pyproject.toml) ... \u001b[?25ldone\n",
            "\u001b[?25h  Created wheel for openai-whisper: filename=openai_whisper-20230314-py3-none-any.whl size=798395 sha256=4d5c8a37c13cb93ae7a8aaf450569d9be61e342b043add7eb35c48940811f4ae\n",
            "  Stored in directory: /tmp/pip-ephem-wheel-cache-iup5lus1/wheels/a7/70/18/b7693c07b1d18b3dafb328f5d0496aa0d41a9c09ef332fd8e6\n",
            "Successfully built openai-whisper\n",
            "Installing collected packages: regex, more-itertools, tiktoken, openai-whisper\n",
            "Successfully installed more-itertools-10.1.0 openai-whisper-20230314 regex-2023.8.8 tiktoken-0.3.3\n"
          ]
        }
      ],
      "source": [
        "!pip install git+https://github.com/openai/whisper.git "
      ]
    },
    {
      "cell_type": "markdown",
      "metadata": {
        "id": "8AleOXL7p7aM"
      },
      "source": [
        "Running Open AI whisper on the prepared audio file. [link text](https://) It writes the transcription into a file."
      ]
    },
    {
      "cell_type": "code",
      "execution_count": 43,
      "metadata": {},
      "outputs": [],
      "source": [
        "import whisper\n",
        "def transcribeAudio(path):\n",
        "    model = whisper.load_model('large')\n",
        "    result = model.transcribe(path)\n",
        "    return result['segments']\n"
      ]
    },
    {
      "cell_type": "code",
      "execution_count": 44,
      "metadata": {},
      "outputs": [
        {
          "data": {
            "text/plain": [
              "['tiny.en',\n",
              " 'tiny',\n",
              " 'base.en',\n",
              " 'base',\n",
              " 'small.en',\n",
              " 'small',\n",
              " 'medium.en',\n",
              " 'medium',\n",
              " 'large-v1',\n",
              " 'large-v2',\n",
              " 'large']"
            ]
          },
          "execution_count": 44,
          "metadata": {},
          "output_type": "execute_result"
        }
      ],
      "source": [
        "whisper.available_models()"
      ]
    },
    {
      "cell_type": "code",
      "execution_count": 45,
      "metadata": {},
      "outputs": [],
      "source": [
        "transcription = transcribeAudio(tempSegmented.name)"
      ]
    },
    {
      "cell_type": "code",
      "execution_count": 46,
      "metadata": {},
      "outputs": [
        {
          "name": "stdout",
          "output_type": "stream",
          "text": [
            "[    0  3968 12577 21203 37030 41202 45647 53676 61773 65843 73685 79939]\n"
          ]
        }
      ],
      "source": [
        "import numpy as np\n",
        "print(np.array(segments) - spacermilli)"
      ]
    },
    {
      "cell_type": "code",
      "execution_count": 47,
      "metadata": {},
      "outputs": [
        {
          "name": "stdout",
          "output_type": "stream",
          "text": [
            "[{'id': 0, 'seek': 0, 'start': 0.0, 'end': 2.0, 'text': ' Senhoras e senhores', 'tokens': [50364, 43792, 296, 308, 3151, 39356, 50464], 'temperature': 0.0, 'avg_logprob': -0.3690617991759714, 'compression_ratio': 2.5522388059701493, 'no_speech_prob': 0.6564409732818604}, {'id': 1, 'seek': 0, 'start': 2.0, 'end': 4.0, 'text': ' Senhoras e senhores', 'tokens': [50464, 43792, 296, 308, 3151, 39356, 50564], 'temperature': 0.0, 'avg_logprob': -0.3690617991759714, 'compression_ratio': 2.5522388059701493, 'no_speech_prob': 0.6564409732818604}, {'id': 2, 'seek': 0, 'start': 4.0, 'end': 6.0, 'text': ' Essa é a hora', 'tokens': [50564, 22818, 1136, 257, 15098, 50664], 'temperature': 0.0, 'avg_logprob': -0.3690617991759714, 'compression_ratio': 2.5522388059701493, 'no_speech_prob': 0.6564409732818604}, {'id': 3, 'seek': 0, 'start': 6.0, 'end': 8.0, 'text': ' A hora que você quer', 'tokens': [50664, 316, 15098, 631, 2723, 7083, 50764], 'temperature': 0.0, 'avg_logprob': -0.3690617991759714, 'compression_ratio': 2.5522388059701493, 'no_speech_prob': 0.6564409732818604}, {'id': 4, 'seek': 0, 'start': 8.0, 'end': 10.0, 'text': ' Essa é a hora', 'tokens': [50764, 22818, 1136, 257, 15098, 50864], 'temperature': 0.0, 'avg_logprob': -0.3690617991759714, 'compression_ratio': 2.5522388059701493, 'no_speech_prob': 0.6564409732818604}, {'id': 5, 'seek': 0, 'start': 10.0, 'end': 12.0, 'text': ' A hora de porra', 'tokens': [50864, 316, 15098, 368, 1515, 424, 50964], 'temperature': 0.0, 'avg_logprob': -0.3690617991759714, 'compression_ratio': 2.5522388059701493, 'no_speech_prob': 0.6564409732818604}, {'id': 6, 'seek': 0, 'start': 12.0, 'end': 14.0, 'text': ' Uma categoria que vocês sugeriram', 'tokens': [50964, 21939, 4847, 8172, 631, 10522, 459, 1321, 40359, 51064], 'temperature': 0.0, 'avg_logprob': -0.3690617991759714, 'compression_ratio': 2.5522388059701493, 'no_speech_prob': 0.6564409732818604}, {'id': 7, 'seek': 0, 'start': 14.0, 'end': 16.0, 'text': ' Piores nomes pra se dar pra bebês', 'tokens': [51064, 430, 1973, 279, 5369, 279, 3206, 369, 4072, 3206, 35348, 11987, 51164], 'temperature': 0.0, 'avg_logprob': -0.3690617991759714, 'compression_ratio': 2.5522388059701493, 'no_speech_prob': 0.6564409732818604}, {'id': 8, 'seek': 0, 'start': 16.0, 'end': 18.0, 'text': ' Nascidos durante a pandemia', 'tokens': [51164, 426, 4806, 7895, 14427, 257, 33245, 51264], 'temperature': 0.0, 'avg_logprob': -0.3690617991759714, 'compression_ratio': 2.5522388059701493, 'no_speech_prob': 0.6564409732818604}, {'id': 9, 'seek': 0, 'start': 18.0, 'end': 20.0, 'text': ' Nascidos durante a pandemia', 'tokens': [51264, 426, 4806, 7895, 14427, 257, 33245, 51364], 'temperature': 0.0, 'avg_logprob': -0.3690617991759714, 'compression_ratio': 2.5522388059701493, 'no_speech_prob': 0.6564409732818604}, {'id': 10, 'seek': 0, 'start': 20.0, 'end': 22.0, 'text': ' Nascidos durante a pandemia', 'tokens': [51364, 426, 4806, 7895, 14427, 257, 33245, 51464], 'temperature': 0.0, 'avg_logprob': -0.3690617991759714, 'compression_ratio': 2.5522388059701493, 'no_speech_prob': 0.6564409732818604}, {'id': 11, 'seek': 0, 'start': 22.0, 'end': 24.0, 'text': ' Nascido durante a pandemia', 'tokens': [51464, 426, 4806, 2925, 14427, 257, 33245, 51564], 'temperature': 0.0, 'avg_logprob': -0.3690617991759714, 'compression_ratio': 2.5522388059701493, 'no_speech_prob': 0.6564409732818604}, {'id': 12, 'seek': 0, 'start': 24.0, 'end': 26.0, 'text': ' Nascido durante a pandemia', 'tokens': [51564, 426, 4806, 2925, 14427, 257, 33245, 51664], 'temperature': 0.0, 'avg_logprob': -0.3690617991759714, 'compression_ratio': 2.5522388059701493, 'no_speech_prob': 0.6564409732818604}, {'id': 13, 'seek': 0, 'start': 26.0, 'end': 28.0, 'text': ' Nascido durante a pandemia', 'tokens': [51664, 426, 4806, 2925, 14427, 257, 33245, 51764], 'temperature': 0.0, 'avg_logprob': -0.3690617991759714, 'compression_ratio': 2.5522388059701493, 'no_speech_prob': 0.6564409732818604}, {'id': 14, 'seek': 2800, 'start': 28.0, 'end': 30.0, 'text': ' Pandemila', 'tokens': [50364, 16995, 443, 7371, 50464], 'temperature': 0.0, 'avg_logprob': -0.2686704288829457, 'compression_ratio': 1.4420289855072463, 'no_speech_prob': 0.76392662525177}, {'id': 15, 'seek': 2800, 'start': 30.0, 'end': 32.0, 'text': ' Pandemila', 'tokens': [50464, 16995, 443, 7371, 50564], 'temperature': 0.0, 'avg_logprob': -0.2686704288829457, 'compression_ratio': 1.4420289855072463, 'no_speech_prob': 0.76392662525177}, {'id': 16, 'seek': 2800, 'start': 32.0, 'end': 34.0, 'text': ' José Bento', 'tokens': [50564, 508, 329, 526, 363, 15467, 50664], 'temperature': 0.0, 'avg_logprob': -0.2686704288829457, 'compression_ratio': 1.4420289855072463, 'no_speech_prob': 0.76392662525177}, {'id': 17, 'seek': 2800, 'start': 34.0, 'end': 36.0, 'text': ' Virulento', 'tokens': [50664, 7566, 425, 15467, 50764], 'temperature': 0.0, 'avg_logprob': -0.2686704288829457, 'compression_ratio': 1.4420289855072463, 'no_speech_prob': 0.76392662525177}, {'id': 18, 'seek': 2800, 'start': 36.0, 'end': 38.0, 'text': ' Mascarine', 'tokens': [50764, 5224, 6166, 533, 50864], 'temperature': 0.0, 'avg_logprob': -0.2686704288829457, 'compression_ratio': 1.4420289855072463, 'no_speech_prob': 0.76392662525177}, {'id': 19, 'seek': 2800, 'start': 38.0, 'end': 40.0, 'text': ' Mascarine', 'tokens': [50864, 5224, 6166, 533, 50964], 'temperature': 0.0, 'avg_logprob': -0.2686704288829457, 'compression_ratio': 1.4420289855072463, 'no_speech_prob': 0.76392662525177}, {'id': 20, 'seek': 2800, 'start': 40.0, 'end': 42.0, 'text': ' Mascarine', 'tokens': [50964, 5224, 6166, 533, 51064], 'temperature': 0.0, 'avg_logprob': -0.2686704288829457, 'compression_ratio': 1.4420289855072463, 'no_speech_prob': 0.76392662525177}, {'id': 21, 'seek': 2800, 'start': 42.0, 'end': 44.0, 'text': ' Nossa agora que eu entendi', 'tokens': [51064, 36016, 9851, 631, 2228, 948, 13021, 51164], 'temperature': 0.0, 'avg_logprob': -0.2686704288829457, 'compression_ratio': 1.4420289855072463, 'no_speech_prob': 0.76392662525177}, {'id': 22, 'seek': 2800, 'start': 44.0, 'end': 46.0, 'text': ' Demorei um pouquinho', 'tokens': [51164, 4686, 418, 72, 1105, 31114, 51264], 'temperature': 0.0, 'avg_logprob': -0.2686704288829457, 'compression_ratio': 1.4420289855072463, 'no_speech_prob': 0.76392662525177}, {'id': 23, 'seek': 2800, 'start': 46.0, 'end': 48.0, 'text': ' Tem um que mandou um monte', 'tokens': [51264, 8095, 1105, 631, 7411, 263, 1105, 35437, 51364], 'temperature': 0.0, 'avg_logprob': -0.2686704288829457, 'compression_ratio': 1.4420289855072463, 'no_speech_prob': 0.76392662525177}, {'id': 24, 'seek': 2800, 'start': 48.0, 'end': 50.0, 'text': ' E a Ederson', 'tokens': [51364, 462, 257, 3977, 3953, 51464], 'temperature': 0.0, 'avg_logprob': -0.2686704288829457, 'compression_ratio': 1.4420289855072463, 'no_speech_prob': 0.76392662525177}, {'id': 25, 'seek': 2800, 'start': 50.0, 'end': 52.0, 'text': ' Papelson e Jenison', 'tokens': [51464, 15919, 20471, 308, 9228, 2770, 51564], 'temperature': 0.0, 'avg_logprob': -0.2686704288829457, 'compression_ratio': 1.4420289855072463, 'no_speech_prob': 0.76392662525177}, {'id': 26, 'seek': 2800, 'start': 52.0, 'end': 54.0, 'text': ' Alcolino19', 'tokens': [51564, 967, 8768, 2982, 3405, 51664], 'temperature': 0.0, 'avg_logprob': -0.2686704288829457, 'compression_ratio': 1.4420289855072463, 'no_speech_prob': 0.76392662525177}, {'id': 27, 'seek': 2800, 'start': 54.0, 'end': 56.0, 'text': ' Alcojelson', 'tokens': [51664, 967, 1291, 73, 20471, 51764], 'temperature': 0.0, 'avg_logprob': -0.2686704288829457, 'compression_ratio': 1.4420289855072463, 'no_speech_prob': 0.76392662525177}, {'id': 28, 'seek': 5600, 'start': 56.0, 'end': 58.0, 'text': ' Alcojelson', 'tokens': [50364, 967, 1291, 73, 20471, 50464], 'temperature': 0.0, 'avg_logprob': -0.24844480696178617, 'compression_ratio': 1.355421686746988, 'no_speech_prob': 0.026599500328302383}, {'id': 29, 'seek': 5600, 'start': 58.0, 'end': 60.0, 'text': ' Piores nomes pra bebês numa pandemia', 'tokens': [50464, 430, 1004, 495, 5369, 279, 3206, 35348, 11987, 29080, 33245, 50564], 'temperature': 0.0, 'avg_logprob': -0.24844480696178617, 'compression_ratio': 1.355421686746988, 'no_speech_prob': 0.026599500328302383}, {'id': 30, 'seek': 5600, 'start': 60.0, 'end': 62.0, 'text': ' Esse tem dramatização como nos velhos tempos', 'tokens': [50564, 18814, 1383, 42749, 27467, 2617, 3269, 14610, 17631, 18274, 329, 50664], 'temperature': 0.0, 'avg_logprob': -0.24844480696178617, 'compression_ratio': 1.355421686746988, 'no_speech_prob': 0.026599500328302383}, {'id': 31, 'seek': 5600, 'start': 64.0, 'end': 66.0, 'text': ' A irmã se chama Rosélia', 'tokens': [50764, 316, 33842, 1046, 369, 40954, 11144, 8025, 654, 50864], 'temperature': 0.0, 'avg_logprob': -0.24844480696178617, 'compression_ratio': 1.355421686746988, 'no_speech_prob': 0.026599500328302383}, {'id': 32, 'seek': 5600, 'start': 68.0, 'end': 70.0, 'text': ' Sua tia ama rosas', 'tokens': [50964, 2746, 64, 256, 654, 10889, 18953, 296, 51064], 'temperature': 0.0, 'avg_logprob': -0.24844480696178617, 'compression_ratio': 1.355421686746988, 'no_speech_prob': 0.026599500328302383}, {'id': 33, 'seek': 5600, 'start': 70.0, 'end': 72.0, 'text': ' E é uma mãe', 'tokens': [51064, 462, 1136, 2772, 29392, 51164], 'temperature': 0.0, 'avg_logprob': -0.24844480696178617, 'compression_ratio': 1.355421686746988, 'no_speech_prob': 0.026599500328302383}, {'id': 34, 'seek': 5600, 'start': 72.0, 'end': 74.0, 'text': ' Chega de perguntas vacineio', 'tokens': [51164, 3351, 3680, 368, 31060, 296, 2842, 533, 1004, 51264], 'temperature': 0.0, 'avg_logprob': -0.24844480696178617, 'compression_ratio': 1.355421686746988, 'no_speech_prob': 0.026599500328302383}, {'id': 35, 'seek': 5600, 'start': 76.0, 'end': 78.0, 'text': ' Vacineio', 'tokens': [51364, 44442, 533, 1004, 51464], 'temperature': 0.0, 'avg_logprob': -0.24844480696178617, 'compression_ratio': 1.355421686746988, 'no_speech_prob': 0.026599500328302383}, {'id': 36, 'seek': 5600, 'start': 78.0, 'end': 80.0, 'text': ' Pode mandar a AstraZeneca', 'tokens': [51464, 39168, 48689, 257, 45242, 57, 44852, 51564], 'temperature': 0.0, 'avg_logprob': -0.24844480696178617, 'compression_ratio': 1.355421686746988, 'no_speech_prob': 0.026599500328302383}, {'id': 37, 'seek': 5600, 'start': 82.0, 'end': 84.0, 'text': ' Vacineio', 'tokens': [51664, 44442, 533, 1004, 51764], 'temperature': 0.0, 'avg_logprob': -0.24844480696178617, 'compression_ratio': 1.355421686746988, 'no_speech_prob': 0.026599500328302383}, {'id': 38, 'seek': 8600, 'start': 86.0, 'end': 88.0, 'text': ' Vacineio', 'tokens': [50364, 44442, 533, 1004, 50464], 'temperature': 0.0, 'avg_logprob': -0.12460340393914117, 'compression_ratio': 6.25, 'no_speech_prob': 0.6369035243988037}, {'id': 39, 'seek': 8600, 'start': 88.0, 'end': 90.0, 'text': ' Vacineio', 'tokens': [50464, 44442, 533, 1004, 50564], 'temperature': 0.0, 'avg_logprob': -0.12460340393914117, 'compression_ratio': 6.25, 'no_speech_prob': 0.6369035243988037}, {'id': 40, 'seek': 8600, 'start': 90.0, 'end': 92.0, 'text': ' Vacineio', 'tokens': [50564, 44442, 533, 1004, 50664], 'temperature': 0.0, 'avg_logprob': -0.12460340393914117, 'compression_ratio': 6.25, 'no_speech_prob': 0.6369035243988037}, {'id': 41, 'seek': 8600, 'start': 92.0, 'end': 94.0, 'text': ' Vacineio', 'tokens': [50664, 44442, 533, 1004, 50764], 'temperature': 0.0, 'avg_logprob': -0.12460340393914117, 'compression_ratio': 6.25, 'no_speech_prob': 0.6369035243988037}, {'id': 42, 'seek': 8600, 'start': 94.0, 'end': 96.0, 'text': ' Vacineio', 'tokens': [50764, 44442, 533, 1004, 50864], 'temperature': 0.0, 'avg_logprob': -0.12460340393914117, 'compression_ratio': 6.25, 'no_speech_prob': 0.6369035243988037}, {'id': 43, 'seek': 8600, 'start': 96.0, 'end': 98.0, 'text': ' Vacineio', 'tokens': [50864, 44442, 533, 1004, 50964], 'temperature': 0.0, 'avg_logprob': -0.12460340393914117, 'compression_ratio': 6.25, 'no_speech_prob': 0.6369035243988037}, {'id': 44, 'seek': 8600, 'start': 98.0, 'end': 100.0, 'text': ' Vacineio', 'tokens': [50964, 44442, 533, 1004, 51064], 'temperature': 0.0, 'avg_logprob': -0.12460340393914117, 'compression_ratio': 6.25, 'no_speech_prob': 0.6369035243988037}, {'id': 45, 'seek': 8600, 'start': 100.0, 'end': 102.0, 'text': ' Vacineio', 'tokens': [51064, 44442, 533, 1004, 51164], 'temperature': 0.0, 'avg_logprob': -0.12460340393914117, 'compression_ratio': 6.25, 'no_speech_prob': 0.6369035243988037}, {'id': 46, 'seek': 8600, 'start': 102.0, 'end': 104.0, 'text': ' Vacineio', 'tokens': [51164, 44442, 533, 1004, 51264], 'temperature': 0.0, 'avg_logprob': -0.12460340393914117, 'compression_ratio': 6.25, 'no_speech_prob': 0.6369035243988037}, {'id': 47, 'seek': 8600, 'start': 104.0, 'end': 106.0, 'text': ' Vacineio', 'tokens': [51264, 44442, 533, 1004, 51364], 'temperature': 0.0, 'avg_logprob': -0.12460340393914117, 'compression_ratio': 6.25, 'no_speech_prob': 0.6369035243988037}, {'id': 48, 'seek': 8600, 'start': 106.0, 'end': 108.0, 'text': ' Vacineio', 'tokens': [51364, 44442, 533, 1004, 51464], 'temperature': 0.0, 'avg_logprob': -0.12460340393914117, 'compression_ratio': 6.25, 'no_speech_prob': 0.6369035243988037}, {'id': 49, 'seek': 8600, 'start': 108.0, 'end': 110.0, 'text': ' Vacineio', 'tokens': [51464, 44442, 533, 1004, 51564], 'temperature': 0.0, 'avg_logprob': -0.12460340393914117, 'compression_ratio': 6.25, 'no_speech_prob': 0.6369035243988037}, {'id': 50, 'seek': 8600, 'start': 110.0, 'end': 112.0, 'text': ' Vacineio', 'tokens': [51564, 44442, 533, 1004, 51664], 'temperature': 0.0, 'avg_logprob': -0.12460340393914117, 'compression_ratio': 6.25, 'no_speech_prob': 0.6369035243988037}, {'id': 51, 'seek': 8600, 'start': 112.0, 'end': 114.0, 'text': ' Vacineio', 'tokens': [51664, 44442, 533, 1004, 51764], 'temperature': 0.0, 'avg_logprob': -0.12460340393914117, 'compression_ratio': 6.25, 'no_speech_prob': 0.6369035243988037}]\n"
          ]
        }
      ],
      "source": [
        "print(transcription)"
      ]
    },
    {
      "cell_type": "code",
      "execution_count": 49,
      "metadata": {},
      "outputs": [],
      "source": [
        "import math\n",
        "def attachTranscriptionToSpeech(transcription, speeches, segments):\n",
        "    segmentIdx = 0\n",
        "    transcribedSegmentIdx = 0\n",
        "    for segmentIdx in range(len(segments)):\n",
        "        #startTime = segments[segmentIdx] - spacermilli\n",
        "        endTime = segments[segmentIdx + 1] - spacermilli if  segmentIdx < len(segments) - 1 else math.inf\n",
        "        text = []\n",
        "        #print(int(transcription[transcribedSegmentIdx]['start'] * 1000), int(transcription[transcribedSegmentIdx]['end'] * 1000) )\n",
        "        while(transcribedSegmentIdx < len(transcription) and int(transcription[transcribedSegmentIdx]['start'] * 1000) <= endTime):\n",
        "            text.append(transcription[transcribedSegmentIdx]['text'])\n",
        "            transcribedSegmentIdx+=1\n",
        "        speeches[segmentIdx]['text'] = \"\".join(text)"
      ]
    },
    {
      "cell_type": "code",
      "execution_count": 50,
      "metadata": {},
      "outputs": [],
      "source": [
        "attachTranscriptionToSpeech(transcription, speeches, segments)"
      ]
    },
    {
      "cell_type": "code",
      "execution_count": 51,
      "metadata": {},
      "outputs": [
        {
          "name": "stdout",
          "output_type": "stream",
          "text": [
            "[{'start': 3.029, 'end': 4.497, 'speaker': 'SPEAKER_01', 'text': ' Senhoras e senhores Senhoras e senhores'}, {'start': 4.889, 'end': 10.998, 'speaker': 'SPEAKER_00', 'text': ' Essa é a hora A hora que você quer Essa é a hora A hora de porra Uma categoria que vocês sugeriram'}, {'start': 11.869, 'end': 17.995, 'speaker': 'SPEAKER_01', 'text': ' Piores nomes pra se dar pra bebês Nascidos durante a pandemia Nascidos durante a pandemia Nascidos durante a pandemia'}, {'start': 17.995, 'end': 31.323, 'speaker': 'SPEAKER_00', 'text': ' Nascido durante a pandemia Nascido durante a pandemia Nascido durante a pandemia Pandemila Pandemila José Bento Virulento Mascarine'}, {'start': 31.323, 'end': 32.995, 'speaker': 'SPEAKER_01', 'text': ' Mascarine Mascarine'}, {'start': 33.524, 'end': 35.469, 'speaker': 'SPEAKER_00', 'text': ' Nossa agora que eu entendi Demorei um pouquinho'}, {'start': 36.476, 'end': 42.005, 'speaker': 'SPEAKER_01', 'text': ' Tem um que mandou um monte E a Ederson Papelson e Jenison Alcolino19'}, {'start': 42.005, 'end': 47.602, 'speaker': 'SPEAKER_00', 'text': ' Alcojelson Alcojelson Piores nomes pra bebês numa pandemia Esse tem dramatização como nos velhos tempos'}, {'start': 49.428, 'end': 50.998, 'speaker': 'SPEAKER_00', 'text': ' A irmã se chama Rosélia'}, {'start': 50.998, 'end': 56.34, 'speaker': 'SPEAKER_01', 'text': ' Sua tia ama rosas E é uma mãe Chega de perguntas vacineio'}, {'start': 58.746, 'end': 62.5, 'speaker': 'SPEAKER_00', 'text': ' Vacineio Pode mandar a AstraZeneca'}, {'start': 59.138, 'end': 60.862, 'speaker': 'SPEAKER_01', 'text': ' Vacineio Vacineio Vacineio Vacineio Vacineio Vacineio Vacineio Vacineio Vacineio Vacineio Vacineio Vacineio Vacineio Vacineio Vacineio'}]\n"
          ]
        }
      ],
      "source": [
        "print(speeches)"
      ]
    },
    {
      "cell_type": "code",
      "execution_count": 53,
      "metadata": {},
      "outputs": [
        {
          "data": {
            "text/plain": [
              "1793"
            ]
          },
          "execution_count": 53,
          "metadata": {},
          "output_type": "execute_result"
        }
      ],
      "source": [
        "import json\n",
        "f = open('speech.json','w')\n",
        "f.write(json.dumps(speeches))"
      ]
    },
    {
      "cell_type": "code",
      "execution_count": 29,
      "metadata": {},
      "outputs": [
        {
          "name": "stdout",
          "output_type": "stream",
          "text": [
            "[{'start': 3.524, 'end': 4.991, 'speaker': 'SPEAKER_00', 'text': ' Muitas vezes eu não consigo me sentir bem. Senhoras e senhores.'}, {'start': 5.401, 'end': 11.493, 'speaker': 'SPEAKER_01', 'text': ' Essa é a hora, a hora que você quer. Essa é a hora, a hora de...'}, {'start': 12.346, 'end': 17.995, 'speaker': 'SPEAKER_00', 'text': ' Uma categoria que vocês sugeriram, piores nomes pra se dar pra bebês nascidos durante a pandemia.'}, {'start': 17.995, 'end': 31.493, 'speaker': 'SPEAKER_02', 'text': ' Deve ter nascido muitos, né? Porque o povo ficou em casa. Piores nomes. Pandemila. Pandemila. José Bento virulento.'}, {'start': 31.493, 'end': 33.2, 'speaker': 'SPEAKER_00', 'text': ' Mascarini.'}, {'start': 34.036, 'end': 35.725, 'speaker': 'SPEAKER_02', 'text': ' Nossa, agora eu entendi. Demorou.'}, {'start': 36.971, 'end': 42.739, 'speaker': 'SPEAKER_00', 'text': ' Tem um que mandou um monte. E a Ederson? Papelson Higienison. Alcolino 19.'}, {'start': 42.739, 'end': 48.183, 'speaker': 'SPEAKER_02', 'text': ' Alcoogelson. Piores nomes para bebês numa pandemia. Esse tem dramatização, como nos velhos tempos.'}, {'start': 49.991, 'end': 51.493, 'speaker': 'SPEAKER_02', 'text': ' Mas se chama Rosélia?'}, {'start': 51.493, 'end': 56.937, 'speaker': 'SPEAKER_00', 'text': ' Sua tia ama rosas. E eu mamãe? Chega de perguntas, vacinei um dia.'}, {'start': 59.241, 'end': 62.005, 'speaker': 'SPEAKER_02', 'text': ' Vacinei-de! Pode mandar...'}, {'start': 59.906, 'end': 61.323, 'speaker': 'SPEAKER_00', 'text': ' VACINEI-DE!'}]\n"
          ]
        }
      ],
      "source": [
        "print(speeches)"
      ]
    },
    {
      "cell_type": "markdown",
      "metadata": {
        "id": "HNauX5fXqODD"
      },
      "source": [
        "Reading the transcription file."
      ]
    },
    {
      "cell_type": "code",
      "execution_count": 24,
      "metadata": {
        "colab": {
          "base_uri": "https://localhost:8080/"
        },
        "id": "aEPsEuS2k4yf",
        "outputId": "6e4b76b7-2113-4370-d080-d6c8c7baf003"
      },
      "outputs": [
        {
          "name": "stdout",
          "output_type": "stream",
          "text": [
            "Collecting webvtt-py\n",
            "  Downloading webvtt_py-0.4.6-py3-none-any.whl (16 kB)\n",
            "Requirement already satisfied: docopt in ./venv/lib/python3.8/site-packages (from webvtt-py) (0.6.2)\n",
            "Installing collected packages: webvtt-py\n",
            "Successfully installed webvtt-py-0.4.6\n"
          ]
        }
      ],
      "source": [
        "!pip install -U webvtt-py"
      ]
    },
    {
      "cell_type": "code",
      "execution_count": 31,
      "metadata": {
        "colab": {
          "base_uri": "https://localhost:8080/"
        },
        "id": "uNh_GUpNkyxT",
        "outputId": "7614fc86-b575-42e5-93a1-1629789108cb"
      },
      "outputs": [
        {
          "name": "stdout",
          "output_type": "stream",
          "text": [
            "[0, 5320, 'e aí senhoras e senhores']\n",
            "[5320, 14760, 'essa é a hora a hora que você quer essa é a hora hora de uma categoria que']\n",
            "[14760, 19640, 'vocês sugeriram piores nomes para se dar para bebês nascidos durante a']\n"
          ]
        }
      ],
      "source": [
        "import webvtt\n",
        "\n",
        "captions = [[(int)(millisec(caption.start)), (int)(millisec(caption.end)),  caption.text] for caption in webvtt.read('dz.vtt')]\n",
        "print(*captions[:8], sep='\\n')"
      ]
    },
    {
      "cell_type": "code",
      "execution_count": 40,
      "metadata": {},
      "outputs": [
        {
          "name": "stdout",
          "output_type": "stream",
          "text": [
            "[551, 2001, 'SPEAKER_02']\n",
            "[2377, 8503, 'SPEAKER_00']\n",
            "[9373, 15005, 'SPEAKER_01']\n"
          ]
        }
      ],
      "source": [
        "print(*dzList, sep='\\n')"
      ]
    },
    {
      "cell_type": "markdown",
      "metadata": {
        "id": "u_UyWQMXpB3N"
      },
      "source": [
        "# Matching the Transcriptions and the Diarizations"
      ]
    },
    {
      "cell_type": "markdown",
      "metadata": {
        "id": "KndDYy_xMpMq"
      },
      "source": [
        "Matching each trainscrition line to some diarizations, and generating the HTML file. To get the correct timing, we should take care of the parts in original audio that were in no diarization segment."
      ]
    },
    {
      "cell_type": "code",
      "execution_count": 27,
      "metadata": {
        "id": "vKdx9Hwg630K"
      },
      "outputs": [],
      "source": [
        "preS = '<!DOCTYPE html>\\n<html lang=\"en\">\\n  <head>\\n    <meta charset=\"UTF-8\">\\n    <meta name=\"viewport\" content=\"width=device-width, initial-scale=1.0\">\\n    <meta http-equiv=\"X-UA-Compatible\" content=\"ie=edge\">\\n    <title>Lexicap</title>\\n    <style>\\n        body {\\n            font-family: sans-serif;\\n            font-size: 18px;\\n            color: #111;\\n            padding: 0 0 1em 0;\\n        }\\n        .l {\\n          color: #050;\\n        }\\n        .s {\\n            display: inline-block;\\n        }\\n        .e {\\n            display: inline-block;\\n        }\\n        .t {\\n            display: inline-block;\\n        }\\n        #player {\\n\\t\\tposition: sticky;\\n\\t\\ttop: 20px;\\n\\t\\tfloat: right;\\n\\t}\\n    </style>\\n  </head>\\n  <body>\\n    <h2>Yann LeCun: Dark Matter of Intelligence and Self-Supervised Learning | Lex Fridman Podcast #258</h2>\\n  <div  id=\"player\"></div>\\n    <script>\\n      var tag = document.createElement(\\'script\\');\\n      tag.src = \"https://www.youtube.com/iframe_api\";\\n      var firstScriptTag = document.getElementsByTagName(\\'script\\')[0];\\n      firstScriptTag.parentNode.insertBefore(tag, firstScriptTag);\\n      var player;\\n      function onYouTubeIframeAPIReady() {\\n        player = new YT.Player(\\'player\\', {\\n          height: \\'210\\',\\n          width: \\'340\\',\\n          videoId: \\'SGzMElJ11Cc\\',\\n        });\\n      }\\n      function setCurrentTime(timepoint) {\\n        player.seekTo(timepoint);\\n   player.playVideo();\\n   }\\n    </script><br>\\n'\n",
        "postS = '\\t</body>\\n</html>'"
      ]
    },
    {
      "cell_type": "code",
      "execution_count": 32,
      "metadata": {},
      "outputs": [
        {
          "name": "stdout",
          "output_type": "stream",
          "text": [
            "[2000, 5450, 13576]\n"
          ]
        }
      ],
      "source": [
        "print(segments)"
      ]
    },
    {
      "cell_type": "code",
      "execution_count": 49,
      "metadata": {
        "colab": {
          "base_uri": "https://localhost:8080/"
        },
        "id": "vqO6Nd6YfZYa",
        "outputId": "fce0a6b9-c28f-43f9-afd6-cb55998cd965"
      },
      "outputs": [
        {
          "name": "stdout",
          "output_type": "stream",
          "text": [
            "segment 2000\n",
            "caption [0, 5320, 'e aí senhoras e senhores']\n",
            "diarization [551, 2001, 'SPEAKER_02']\n",
            "0 00:00:0.00 - 01:28:41.00: e aí senhoras e senhores\n",
            "segment 13576\n",
            "caption [14760, 19640, 'vocês sugeriram piores nomes para se dar para bebês nascidos durante a']\n",
            "diarization [9373, 15005, 'SPEAKER_01']\n",
            "0 00:00:10.56 - 05:51:9.00: vocês sugeriram piores nomes para se dar para bebês nascidos durante a\n"
          ]
        }
      ],
      "source": [
        "from datetime import timedelta\n",
        "\n",
        "html = list(preS)\n",
        "\n",
        "for i in range(len(segments)):\n",
        "  idx = 0\n",
        "  #print(segments[i])\n",
        "  for idx in range(len(captions)):\n",
        "    #print(captions[idx])\n",
        "    if captions[idx][0] >= (segments[i] - spacermilli):\n",
        "      break;\n",
        "  \n",
        "  while (idx < (len(captions))) and ((i == len(segments) - 1) or (captions[idx][1] < segments[i+1])):\n",
        "    c = captions[idx]  \n",
        "    print('segment', segments[i])\n",
        "    print('caption', c)\n",
        "    print('diarization', dzList[i])\n",
        "    \n",
        "    start = dzList[i][0] + (c[0] -segments[i])\n",
        "    end = dzList[i][1] + (c[1] -segments[i])\n",
        "\n",
        "    if start < 0: \n",
        "      start = 0\n",
        "    idx += 1\n",
        "\n",
        "    start = start / 1000.0\n",
        "    startStr = '{0:02d}:{1:02d}:{2:02.2f}'.format((int)(start // 3600), \n",
        "                                            (int)(start % 3600 // 60), \n",
        "                                            start % 60)\n",
        "    endStr = '{0:02d}:{1:02d}:{2:02.2f}'.format((int)(end // 3600), \n",
        "                                            (int)(end % 3600 // 60), \n",
        "                                            end % 60)\n",
        "    \n",
        "    print('{} {} - {}: {}'.format(dz[i][2], startStr, endStr, c[2]))\n"
      ]
    },
    {
      "cell_type": "code",
      "execution_count": 50,
      "metadata": {},
      "outputs": [
        {
          "name": "stdout",
          "output_type": "stream",
          "text": [
            "[2000, 5450, 13576]\n"
          ]
        }
      ],
      "source": [
        "print(segments)"
      ]
    }
  ],
  "metadata": {
    "accelerator": "GPU",
    "colab": {
      "collapsed_sections": [],
      "provenance": []
    },
    "gpuClass": "standard",
    "kernelspec": {
      "display_name": "Python 3",
      "name": "python3"
    },
    "language_info": {
      "codemirror_mode": {
        "name": "ipython",
        "version": 3
      },
      "file_extension": ".py",
      "mimetype": "text/x-python",
      "name": "python",
      "nbconvert_exporter": "python",
      "pygments_lexer": "ipython3",
      "version": "3.8.17"
    },
    "widgets": {
      "application/vnd.jupyter.widget-state+json": {
        "030169a7a2594b5a8646f327a0566dfe": {
          "model_module": "@jupyter-widgets/base",
          "model_module_version": "1.2.0",
          "model_name": "LayoutModel",
          "state": {
            "_model_module": "@jupyter-widgets/base",
            "_model_module_version": "1.2.0",
            "_model_name": "LayoutModel",
            "_view_count": null,
            "_view_module": "@jupyter-widgets/base",
            "_view_module_version": "1.2.0",
            "_view_name": "LayoutView",
            "align_content": null,
            "align_items": null,
            "align_self": null,
            "border": null,
            "bottom": null,
            "display": null,
            "flex": null,
            "flex_flow": null,
            "grid_area": null,
            "grid_auto_columns": null,
            "grid_auto_flow": null,
            "grid_auto_rows": null,
            "grid_column": null,
            "grid_gap": null,
            "grid_row": null,
            "grid_template_areas": null,
            "grid_template_columns": null,
            "grid_template_rows": null,
            "height": null,
            "justify_content": null,
            "justify_items": null,
            "left": null,
            "margin": null,
            "max_height": null,
            "max_width": null,
            "min_height": null,
            "min_width": null,
            "object_fit": null,
            "object_position": null,
            "order": null,
            "overflow": null,
            "overflow_x": null,
            "overflow_y": null,
            "padding": null,
            "right": null,
            "top": null,
            "visibility": null,
            "width": null
          }
        },
        "0831e94760fa421384e2b33c97532d09": {
          "model_module": "@jupyter-widgets/base",
          "model_module_version": "1.2.0",
          "model_name": "LayoutModel",
          "state": {
            "_model_module": "@jupyter-widgets/base",
            "_model_module_version": "1.2.0",
            "_model_name": "LayoutModel",
            "_view_count": null,
            "_view_module": "@jupyter-widgets/base",
            "_view_module_version": "1.2.0",
            "_view_name": "LayoutView",
            "align_content": null,
            "align_items": null,
            "align_self": null,
            "border": null,
            "bottom": null,
            "display": null,
            "flex": null,
            "flex_flow": null,
            "grid_area": null,
            "grid_auto_columns": null,
            "grid_auto_flow": null,
            "grid_auto_rows": null,
            "grid_column": null,
            "grid_gap": null,
            "grid_row": null,
            "grid_template_areas": null,
            "grid_template_columns": null,
            "grid_template_rows": null,
            "height": null,
            "justify_content": null,
            "justify_items": null,
            "left": null,
            "margin": null,
            "max_height": null,
            "max_width": null,
            "min_height": null,
            "min_width": null,
            "object_fit": null,
            "object_position": null,
            "order": null,
            "overflow": null,
            "overflow_x": null,
            "overflow_y": null,
            "padding": null,
            "right": null,
            "top": null,
            "visibility": null,
            "width": null
          }
        },
        "098d718a941542b99b772068e442e9fa": {
          "model_module": "@jupyter-widgets/controls",
          "model_module_version": "1.5.0",
          "model_name": "ProgressStyleModel",
          "state": {
            "_model_module": "@jupyter-widgets/controls",
            "_model_module_version": "1.5.0",
            "_model_name": "ProgressStyleModel",
            "_view_count": null,
            "_view_module": "@jupyter-widgets/base",
            "_view_module_version": "1.2.0",
            "_view_name": "StyleView",
            "bar_color": null,
            "description_width": ""
          }
        },
        "0b616fa3a46a4502b14f93270fcb1ca7": {
          "model_module": "@jupyter-widgets/controls",
          "model_module_version": "1.5.0",
          "model_name": "HBoxModel",
          "state": {
            "_dom_classes": [],
            "_model_module": "@jupyter-widgets/controls",
            "_model_module_version": "1.5.0",
            "_model_name": "HBoxModel",
            "_view_count": null,
            "_view_module": "@jupyter-widgets/controls",
            "_view_module_version": "1.5.0",
            "_view_name": "HBoxView",
            "box_style": "",
            "children": [
              "IPY_MODEL_fd8fd5f045414ab199d3f37c9397ad54",
              "IPY_MODEL_9652595d01cc478c952a368a1f86940d",
              "IPY_MODEL_3a648dda02c9485e8e975e7a1ad2c27e"
            ],
            "layout": "IPY_MODEL_eb2e878c6f0d413b9e82b93b6057e66f"
          }
        },
        "0c4de4008c2e45e5a31d21cdb954f0f2": {
          "model_module": "@jupyter-widgets/base",
          "model_module_version": "1.2.0",
          "model_name": "LayoutModel",
          "state": {
            "_model_module": "@jupyter-widgets/base",
            "_model_module_version": "1.2.0",
            "_model_name": "LayoutModel",
            "_view_count": null,
            "_view_module": "@jupyter-widgets/base",
            "_view_module_version": "1.2.0",
            "_view_name": "LayoutView",
            "align_content": null,
            "align_items": null,
            "align_self": null,
            "border": null,
            "bottom": null,
            "display": null,
            "flex": null,
            "flex_flow": null,
            "grid_area": null,
            "grid_auto_columns": null,
            "grid_auto_flow": null,
            "grid_auto_rows": null,
            "grid_column": null,
            "grid_gap": null,
            "grid_row": null,
            "grid_template_areas": null,
            "grid_template_columns": null,
            "grid_template_rows": null,
            "height": null,
            "justify_content": null,
            "justify_items": null,
            "left": null,
            "margin": null,
            "max_height": null,
            "max_width": null,
            "min_height": null,
            "min_width": null,
            "object_fit": null,
            "object_position": null,
            "order": null,
            "overflow": null,
            "overflow_x": null,
            "overflow_y": null,
            "padding": null,
            "right": null,
            "top": null,
            "visibility": null,
            "width": null
          }
        },
        "105cf78a882a4cc3bbdaaa2b80217110": {
          "model_module": "@jupyter-widgets/controls",
          "model_module_version": "1.5.0",
          "model_name": "ProgressStyleModel",
          "state": {
            "_model_module": "@jupyter-widgets/controls",
            "_model_module_version": "1.5.0",
            "_model_name": "ProgressStyleModel",
            "_view_count": null,
            "_view_module": "@jupyter-widgets/base",
            "_view_module_version": "1.2.0",
            "_view_name": "StyleView",
            "bar_color": null,
            "description_width": ""
          }
        },
        "135ef8a71e4041ad80129cc5dbc51354": {
          "model_module": "@jupyter-widgets/base",
          "model_module_version": "1.2.0",
          "model_name": "LayoutModel",
          "state": {
            "_model_module": "@jupyter-widgets/base",
            "_model_module_version": "1.2.0",
            "_model_name": "LayoutModel",
            "_view_count": null,
            "_view_module": "@jupyter-widgets/base",
            "_view_module_version": "1.2.0",
            "_view_name": "LayoutView",
            "align_content": null,
            "align_items": null,
            "align_self": null,
            "border": null,
            "bottom": null,
            "display": null,
            "flex": null,
            "flex_flow": null,
            "grid_area": null,
            "grid_auto_columns": null,
            "grid_auto_flow": null,
            "grid_auto_rows": null,
            "grid_column": null,
            "grid_gap": null,
            "grid_row": null,
            "grid_template_areas": null,
            "grid_template_columns": null,
            "grid_template_rows": null,
            "height": null,
            "justify_content": null,
            "justify_items": null,
            "left": null,
            "margin": null,
            "max_height": null,
            "max_width": null,
            "min_height": null,
            "min_width": null,
            "object_fit": null,
            "object_position": null,
            "order": null,
            "overflow": null,
            "overflow_x": null,
            "overflow_y": null,
            "padding": null,
            "right": null,
            "top": null,
            "visibility": null,
            "width": null
          }
        },
        "15e62f4a65104bdea233a96c4dbb6db8": {
          "model_module": "@jupyter-widgets/controls",
          "model_module_version": "1.5.0",
          "model_name": "DescriptionStyleModel",
          "state": {
            "_model_module": "@jupyter-widgets/controls",
            "_model_module_version": "1.5.0",
            "_model_name": "DescriptionStyleModel",
            "_view_count": null,
            "_view_module": "@jupyter-widgets/base",
            "_view_module_version": "1.2.0",
            "_view_name": "StyleView",
            "description_width": ""
          }
        },
        "187e2d909bfc4a41b2502b964a03fcad": {
          "model_module": "@jupyter-widgets/controls",
          "model_module_version": "1.5.0",
          "model_name": "HTMLModel",
          "state": {
            "_dom_classes": [],
            "_model_module": "@jupyter-widgets/controls",
            "_model_module_version": "1.5.0",
            "_model_name": "HTMLModel",
            "_view_count": null,
            "_view_module": "@jupyter-widgets/controls",
            "_view_module_version": "1.5.0",
            "_view_name": "HTMLView",
            "description": "",
            "description_tooltip": null,
            "layout": "IPY_MODEL_b2791832f51f4794acfdbded875bc9b5",
            "placeholder": "​",
            "style": "IPY_MODEL_28c4d707b0764f51ba2d06eeed5dad96",
            "value": " 318/318 [00:00&lt;00:00, 12.0kB/s]"
          }
        },
        "1c72713c82fa4ab89cb8fbe84089828f": {
          "model_module": "@jupyter-widgets/controls",
          "model_module_version": "1.5.0",
          "model_name": "DescriptionStyleModel",
          "state": {
            "_model_module": "@jupyter-widgets/controls",
            "_model_module_version": "1.5.0",
            "_model_name": "DescriptionStyleModel",
            "_view_count": null,
            "_view_module": "@jupyter-widgets/base",
            "_view_module_version": "1.2.0",
            "_view_name": "StyleView",
            "description_width": ""
          }
        },
        "1f7c6499be4846e1bc674761f3b875f2": {
          "model_module": "@jupyter-widgets/controls",
          "model_module_version": "1.5.0",
          "model_name": "HTMLModel",
          "state": {
            "_dom_classes": [],
            "_model_module": "@jupyter-widgets/controls",
            "_model_module_version": "1.5.0",
            "_model_name": "HTMLModel",
            "_view_count": null,
            "_view_module": "@jupyter-widgets/controls",
            "_view_module_version": "1.5.0",
            "_view_name": "HTMLView",
            "description": "",
            "description_tooltip": null,
            "layout": "IPY_MODEL_e4802c94ccaf404180f3760e3b859a3a",
            "placeholder": "​",
            "style": "IPY_MODEL_71d0b4b532e649829bc813d0f09b2c3b",
            "value": "Downloading: 100%"
          }
        },
        "268c730678bb4af6baf7bb4f185ddb1e": {
          "model_module": "@jupyter-widgets/controls",
          "model_module_version": "1.5.0",
          "model_name": "FloatProgressModel",
          "state": {
            "_dom_classes": [],
            "_model_module": "@jupyter-widgets/controls",
            "_model_module_version": "1.5.0",
            "_model_name": "FloatProgressModel",
            "_view_count": null,
            "_view_module": "@jupyter-widgets/controls",
            "_view_module_version": "1.5.0",
            "_view_name": "ProgressView",
            "bar_style": "success",
            "description": "",
            "description_tooltip": null,
            "layout": "IPY_MODEL_5fb9f7acb4c7491a986f6d674f467028",
            "max": 598,
            "min": 0,
            "orientation": "horizontal",
            "style": "IPY_MODEL_40efa9c5b79e40cab21dcdcf98533caa",
            "value": 598
          }
        },
        "28c4d707b0764f51ba2d06eeed5dad96": {
          "model_module": "@jupyter-widgets/controls",
          "model_module_version": "1.5.0",
          "model_name": "DescriptionStyleModel",
          "state": {
            "_model_module": "@jupyter-widgets/controls",
            "_model_module_version": "1.5.0",
            "_model_name": "DescriptionStyleModel",
            "_view_count": null,
            "_view_module": "@jupyter-widgets/base",
            "_view_module_version": "1.2.0",
            "_view_name": "StyleView",
            "description_width": ""
          }
        },
        "28e3b80e86634a32aaef5b67345c217c": {
          "model_module": "@jupyter-widgets/controls",
          "model_module_version": "1.5.0",
          "model_name": "HBoxModel",
          "state": {
            "_dom_classes": [],
            "_model_module": "@jupyter-widgets/controls",
            "_model_module_version": "1.5.0",
            "_model_name": "HBoxModel",
            "_view_count": null,
            "_view_module": "@jupyter-widgets/controls",
            "_view_module_version": "1.5.0",
            "_view_name": "HBoxView",
            "box_style": "",
            "children": [
              "IPY_MODEL_3a1c92eec125401ca3184d713b27f4a5",
              "IPY_MODEL_500472e00812437390d5caf9bc0ee67b",
              "IPY_MODEL_41aa0f5eaddd4907802992b380e85ded"
            ],
            "layout": "IPY_MODEL_030169a7a2594b5a8646f327a0566dfe"
          }
        },
        "28ef8f3ac2e44445ac9e40d140e513d3": {
          "model_module": "@jupyter-widgets/controls",
          "model_module_version": "1.5.0",
          "model_name": "DescriptionStyleModel",
          "state": {
            "_model_module": "@jupyter-widgets/controls",
            "_model_module_version": "1.5.0",
            "_model_name": "DescriptionStyleModel",
            "_view_count": null,
            "_view_module": "@jupyter-widgets/base",
            "_view_module_version": "1.2.0",
            "_view_name": "StyleView",
            "description_width": ""
          }
        },
        "309cc6bf3b1e41b1a558fbdb3745c301": {
          "model_module": "@jupyter-widgets/controls",
          "model_module_version": "1.5.0",
          "model_name": "FloatProgressModel",
          "state": {
            "_dom_classes": [],
            "_model_module": "@jupyter-widgets/controls",
            "_model_module_version": "1.5.0",
            "_model_name": "FloatProgressModel",
            "_view_count": null,
            "_view_module": "@jupyter-widgets/controls",
            "_view_module_version": "1.5.0",
            "_view_name": "ProgressView",
            "bar_style": "success",
            "description": "",
            "description_tooltip": null,
            "layout": "IPY_MODEL_a9a5de2de75643048ba821d73a00d5c7",
            "max": 17719103,
            "min": 0,
            "orientation": "horizontal",
            "style": "IPY_MODEL_51422049fa5846bb9e009b530f0a7526",
            "value": 17719103
          }
        },
        "323bd202a5a540b4b8805b88138468ad": {
          "model_module": "@jupyter-widgets/controls",
          "model_module_version": "1.5.0",
          "model_name": "ProgressStyleModel",
          "state": {
            "_model_module": "@jupyter-widgets/controls",
            "_model_module_version": "1.5.0",
            "_model_name": "ProgressStyleModel",
            "_view_count": null,
            "_view_module": "@jupyter-widgets/base",
            "_view_module_version": "1.2.0",
            "_view_name": "StyleView",
            "bar_color": null,
            "description_width": ""
          }
        },
        "32792ea893a140dab321565df126e461": {
          "model_module": "@jupyter-widgets/base",
          "model_module_version": "1.2.0",
          "model_name": "LayoutModel",
          "state": {
            "_model_module": "@jupyter-widgets/base",
            "_model_module_version": "1.2.0",
            "_model_name": "LayoutModel",
            "_view_count": null,
            "_view_module": "@jupyter-widgets/base",
            "_view_module_version": "1.2.0",
            "_view_name": "LayoutView",
            "align_content": null,
            "align_items": null,
            "align_self": null,
            "border": null,
            "bottom": null,
            "display": null,
            "flex": null,
            "flex_flow": null,
            "grid_area": null,
            "grid_auto_columns": null,
            "grid_auto_flow": null,
            "grid_auto_rows": null,
            "grid_column": null,
            "grid_gap": null,
            "grid_row": null,
            "grid_template_areas": null,
            "grid_template_columns": null,
            "grid_template_rows": null,
            "height": null,
            "justify_content": null,
            "justify_items": null,
            "left": null,
            "margin": null,
            "max_height": null,
            "max_width": null,
            "min_height": null,
            "min_width": null,
            "object_fit": null,
            "object_position": null,
            "order": null,
            "overflow": null,
            "overflow_x": null,
            "overflow_y": null,
            "padding": null,
            "right": null,
            "top": null,
            "visibility": null,
            "width": null
          }
        },
        "327bebaf45eb46b289615c8deb29a69d": {
          "model_module": "@jupyter-widgets/controls",
          "model_module_version": "1.5.0",
          "model_name": "HBoxModel",
          "state": {
            "_dom_classes": [],
            "_model_module": "@jupyter-widgets/controls",
            "_model_module_version": "1.5.0",
            "_model_name": "HBoxModel",
            "_view_count": null,
            "_view_module": "@jupyter-widgets/controls",
            "_view_module_version": "1.5.0",
            "_view_name": "HBoxView",
            "box_style": "",
            "children": [
              "IPY_MODEL_a6919e4b1e2c4510958bf343ef2524a8",
              "IPY_MODEL_309cc6bf3b1e41b1a558fbdb3745c301",
              "IPY_MODEL_ec474373198046d299e09b4823a2766d"
            ],
            "layout": "IPY_MODEL_88186bbd5a1c4425b254d608ca85cd8a"
          }
        },
        "350678a2f548480b9d6acceda5d78949": {
          "model_module": "@jupyter-widgets/controls",
          "model_module_version": "1.5.0",
          "model_name": "HTMLModel",
          "state": {
            "_dom_classes": [],
            "_model_module": "@jupyter-widgets/controls",
            "_model_module_version": "1.5.0",
            "_model_name": "HTMLModel",
            "_view_count": null,
            "_view_module": "@jupyter-widgets/controls",
            "_view_module_version": "1.5.0",
            "_view_name": "HTMLView",
            "description": "",
            "description_tooltip": null,
            "layout": "IPY_MODEL_766c1a1b8c1248e79dfa03ec89dbc4dd",
            "placeholder": "​",
            "style": "IPY_MODEL_15e62f4a65104bdea233a96c4dbb6db8",
            "value": " 598/598 [00:00&lt;00:00, 16.1kB/s]"
          }
        },
        "36c91974947c4bf7aef8585de061a5a7": {
          "model_module": "@jupyter-widgets/controls",
          "model_module_version": "1.5.0",
          "model_name": "HBoxModel",
          "state": {
            "_dom_classes": [],
            "_model_module": "@jupyter-widgets/controls",
            "_model_module_version": "1.5.0",
            "_model_name": "HBoxModel",
            "_view_count": null,
            "_view_module": "@jupyter-widgets/controls",
            "_view_module_version": "1.5.0",
            "_view_name": "HBoxView",
            "box_style": "",
            "children": [
              "IPY_MODEL_a7d1f042f6124c51aa69ac6985e7c83c",
              "IPY_MODEL_3fbcb6d197ab4c44930a2e15e439459b",
              "IPY_MODEL_6b7194d233cd47428f58bf987f9712fe"
            ],
            "layout": "IPY_MODEL_135ef8a71e4041ad80129cc5dbc51354"
          }
        },
        "36ecee3e086a4a34bd6f6fe435b20a6e": {
          "model_module": "@jupyter-widgets/controls",
          "model_module_version": "1.5.0",
          "model_name": "HBoxModel",
          "state": {
            "_dom_classes": [],
            "_model_module": "@jupyter-widgets/controls",
            "_model_module_version": "1.5.0",
            "_model_name": "HBoxModel",
            "_view_count": null,
            "_view_module": "@jupyter-widgets/controls",
            "_view_module_version": "1.5.0",
            "_view_name": "HBoxView",
            "box_style": "",
            "children": [
              "IPY_MODEL_f638d0f51ac548e8a36a0b8858082e29",
              "IPY_MODEL_41359dbbceea458b9137b8cb8fb2e7e1",
              "IPY_MODEL_a9b8f75e82274a4e8cfa1026fe8408de"
            ],
            "layout": "IPY_MODEL_b71b33109b124e30b0004634467e64dc"
          }
        },
        "3a1c92eec125401ca3184d713b27f4a5": {
          "model_module": "@jupyter-widgets/controls",
          "model_module_version": "1.5.0",
          "model_name": "HTMLModel",
          "state": {
            "_dom_classes": [],
            "_model_module": "@jupyter-widgets/controls",
            "_model_module_version": "1.5.0",
            "_model_name": "HTMLModel",
            "_view_count": null,
            "_view_module": "@jupyter-widgets/controls",
            "_view_module_version": "1.5.0",
            "_view_name": "HTMLView",
            "description": "",
            "description_tooltip": null,
            "layout": "IPY_MODEL_55d89d284453466c8013f2a884d55426",
            "placeholder": "​",
            "style": "IPY_MODEL_47506b0858534c6ebc53e8e500ef56b6",
            "value": "Downloading: 100%"
          }
        },
        "3a648dda02c9485e8e975e7a1ad2c27e": {
          "model_module": "@jupyter-widgets/controls",
          "model_module_version": "1.5.0",
          "model_name": "HTMLModel",
          "state": {
            "_dom_classes": [],
            "_model_module": "@jupyter-widgets/controls",
            "_model_module_version": "1.5.0",
            "_model_name": "HTMLModel",
            "_view_count": null,
            "_view_module": "@jupyter-widgets/controls",
            "_view_module_version": "1.5.0",
            "_view_name": "HTMLView",
            "description": "",
            "description_tooltip": null,
            "layout": "IPY_MODEL_4a1e581661b84dc6b9c52c1c6efa006b",
            "placeholder": "​",
            "style": "IPY_MODEL_3d1b76d21f6349ccbeefd795974321f7",
            "value": " 1.92k/1.92k [00:00&lt;00:00, 60.7kB/s]"
          }
        },
        "3d1b76d21f6349ccbeefd795974321f7": {
          "model_module": "@jupyter-widgets/controls",
          "model_module_version": "1.5.0",
          "model_name": "DescriptionStyleModel",
          "state": {
            "_model_module": "@jupyter-widgets/controls",
            "_model_module_version": "1.5.0",
            "_model_name": "DescriptionStyleModel",
            "_view_count": null,
            "_view_module": "@jupyter-widgets/base",
            "_view_module_version": "1.2.0",
            "_view_name": "StyleView",
            "description_width": ""
          }
        },
        "3fbcb6d197ab4c44930a2e15e439459b": {
          "model_module": "@jupyter-widgets/controls",
          "model_module_version": "1.5.0",
          "model_name": "FloatProgressModel",
          "state": {
            "_dom_classes": [],
            "_model_module": "@jupyter-widgets/controls",
            "_model_module_version": "1.5.0",
            "_model_name": "FloatProgressModel",
            "_view_count": null,
            "_view_module": "@jupyter-widgets/controls",
            "_view_module_version": "1.5.0",
            "_view_name": "ProgressView",
            "bar_style": "success",
            "description": "",
            "description_tooltip": null,
            "layout": "IPY_MODEL_e73e393e01f4487d86dfbe5e401b4c09",
            "max": 128619,
            "min": 0,
            "orientation": "horizontal",
            "style": "IPY_MODEL_a93270536a094ed694b825ea38aa36a2",
            "value": 128619
          }
        },
        "40efa9c5b79e40cab21dcdcf98533caa": {
          "model_module": "@jupyter-widgets/controls",
          "model_module_version": "1.5.0",
          "model_name": "ProgressStyleModel",
          "state": {
            "_model_module": "@jupyter-widgets/controls",
            "_model_module_version": "1.5.0",
            "_model_name": "ProgressStyleModel",
            "_view_count": null,
            "_view_module": "@jupyter-widgets/base",
            "_view_module_version": "1.2.0",
            "_view_name": "StyleView",
            "bar_color": null,
            "description_width": ""
          }
        },
        "41359dbbceea458b9137b8cb8fb2e7e1": {
          "model_module": "@jupyter-widgets/controls",
          "model_module_version": "1.5.0",
          "model_name": "FloatProgressModel",
          "state": {
            "_dom_classes": [],
            "_model_module": "@jupyter-widgets/controls",
            "_model_module_version": "1.5.0",
            "_model_name": "FloatProgressModel",
            "_view_count": null,
            "_view_module": "@jupyter-widgets/controls",
            "_view_module_version": "1.5.0",
            "_view_name": "ProgressView",
            "bar_style": "success",
            "description": "",
            "description_tooltip": null,
            "layout": "IPY_MODEL_5d5fa4a478844c798c91a274361cda2b",
            "max": 1921,
            "min": 0,
            "orientation": "horizontal",
            "style": "IPY_MODEL_323bd202a5a540b4b8805b88138468ad",
            "value": 1921
          }
        },
        "41aa0f5eaddd4907802992b380e85ded": {
          "model_module": "@jupyter-widgets/controls",
          "model_module_version": "1.5.0",
          "model_name": "HTMLModel",
          "state": {
            "_dom_classes": [],
            "_model_module": "@jupyter-widgets/controls",
            "_model_module_version": "1.5.0",
            "_model_name": "HTMLModel",
            "_view_count": null,
            "_view_module": "@jupyter-widgets/controls",
            "_view_module_version": "1.5.0",
            "_view_name": "HTMLView",
            "description": "",
            "description_tooltip": null,
            "layout": "IPY_MODEL_b8cdfacd7bee4c398fc513ed2a3311e3",
            "placeholder": "​",
            "style": "IPY_MODEL_85c433e956794588b166c9ed6fa68c20",
            "value": " 5.53M/5.53M [00:00&lt;00:00, 14.8MB/s]"
          }
        },
        "458d4d31cd87402c97c4038553c06574": {
          "model_module": "@jupyter-widgets/base",
          "model_module_version": "1.2.0",
          "model_name": "LayoutModel",
          "state": {
            "_model_module": "@jupyter-widgets/base",
            "_model_module_version": "1.2.0",
            "_model_name": "LayoutModel",
            "_view_count": null,
            "_view_module": "@jupyter-widgets/base",
            "_view_module_version": "1.2.0",
            "_view_name": "LayoutView",
            "align_content": null,
            "align_items": null,
            "align_self": null,
            "border": null,
            "bottom": null,
            "display": null,
            "flex": null,
            "flex_flow": null,
            "grid_area": null,
            "grid_auto_columns": null,
            "grid_auto_flow": null,
            "grid_auto_rows": null,
            "grid_column": null,
            "grid_gap": null,
            "grid_row": null,
            "grid_template_areas": null,
            "grid_template_columns": null,
            "grid_template_rows": null,
            "height": null,
            "justify_content": null,
            "justify_items": null,
            "left": null,
            "margin": null,
            "max_height": null,
            "max_width": null,
            "min_height": null,
            "min_width": null,
            "object_fit": null,
            "object_position": null,
            "order": null,
            "overflow": null,
            "overflow_x": null,
            "overflow_y": null,
            "padding": null,
            "right": null,
            "top": null,
            "visibility": null,
            "width": null
          }
        },
        "47506b0858534c6ebc53e8e500ef56b6": {
          "model_module": "@jupyter-widgets/controls",
          "model_module_version": "1.5.0",
          "model_name": "DescriptionStyleModel",
          "state": {
            "_model_module": "@jupyter-widgets/controls",
            "_model_module_version": "1.5.0",
            "_model_name": "DescriptionStyleModel",
            "_view_count": null,
            "_view_module": "@jupyter-widgets/base",
            "_view_module_version": "1.2.0",
            "_view_name": "StyleView",
            "description_width": ""
          }
        },
        "4a1e581661b84dc6b9c52c1c6efa006b": {
          "model_module": "@jupyter-widgets/base",
          "model_module_version": "1.2.0",
          "model_name": "LayoutModel",
          "state": {
            "_model_module": "@jupyter-widgets/base",
            "_model_module_version": "1.2.0",
            "_model_name": "LayoutModel",
            "_view_count": null,
            "_view_module": "@jupyter-widgets/base",
            "_view_module_version": "1.2.0",
            "_view_name": "LayoutView",
            "align_content": null,
            "align_items": null,
            "align_self": null,
            "border": null,
            "bottom": null,
            "display": null,
            "flex": null,
            "flex_flow": null,
            "grid_area": null,
            "grid_auto_columns": null,
            "grid_auto_flow": null,
            "grid_auto_rows": null,
            "grid_column": null,
            "grid_gap": null,
            "grid_row": null,
            "grid_template_areas": null,
            "grid_template_columns": null,
            "grid_template_rows": null,
            "height": null,
            "justify_content": null,
            "justify_items": null,
            "left": null,
            "margin": null,
            "max_height": null,
            "max_width": null,
            "min_height": null,
            "min_width": null,
            "object_fit": null,
            "object_position": null,
            "order": null,
            "overflow": null,
            "overflow_x": null,
            "overflow_y": null,
            "padding": null,
            "right": null,
            "top": null,
            "visibility": null,
            "width": null
          }
        },
        "500472e00812437390d5caf9bc0ee67b": {
          "model_module": "@jupyter-widgets/controls",
          "model_module_version": "1.5.0",
          "model_name": "FloatProgressModel",
          "state": {
            "_dom_classes": [],
            "_model_module": "@jupyter-widgets/controls",
            "_model_module_version": "1.5.0",
            "_model_name": "FloatProgressModel",
            "_view_count": null,
            "_view_module": "@jupyter-widgets/controls",
            "_view_module_version": "1.5.0",
            "_view_name": "ProgressView",
            "bar_style": "success",
            "description": "",
            "description_tooltip": null,
            "layout": "IPY_MODEL_feaf363bb8c548fcae1cd13fd1074581",
            "max": 5534328,
            "min": 0,
            "orientation": "horizontal",
            "style": "IPY_MODEL_fc80e8542e34422b86874eee0b20b3f8",
            "value": 5534328
          }
        },
        "51422049fa5846bb9e009b530f0a7526": {
          "model_module": "@jupyter-widgets/controls",
          "model_module_version": "1.5.0",
          "model_name": "ProgressStyleModel",
          "state": {
            "_model_module": "@jupyter-widgets/controls",
            "_model_module_version": "1.5.0",
            "_model_name": "ProgressStyleModel",
            "_view_count": null,
            "_view_module": "@jupyter-widgets/base",
            "_view_module_version": "1.2.0",
            "_view_name": "StyleView",
            "bar_color": null,
            "description_width": ""
          }
        },
        "546a16efa53e462f88890ebe3977a3bc": {
          "model_module": "@jupyter-widgets/controls",
          "model_module_version": "1.5.0",
          "model_name": "HBoxModel",
          "state": {
            "_dom_classes": [],
            "_model_module": "@jupyter-widgets/controls",
            "_model_module_version": "1.5.0",
            "_model_name": "HBoxModel",
            "_view_count": null,
            "_view_module": "@jupyter-widgets/controls",
            "_view_module_version": "1.5.0",
            "_view_name": "HBoxView",
            "box_style": "",
            "children": [
              "IPY_MODEL_1f7c6499be4846e1bc674761f3b875f2",
              "IPY_MODEL_268c730678bb4af6baf7bb4f185ddb1e",
              "IPY_MODEL_350678a2f548480b9d6acceda5d78949"
            ],
            "layout": "IPY_MODEL_8f9cafa27efc43c4bb3f566f87df523c"
          }
        },
        "55d89d284453466c8013f2a884d55426": {
          "model_module": "@jupyter-widgets/base",
          "model_module_version": "1.2.0",
          "model_name": "LayoutModel",
          "state": {
            "_model_module": "@jupyter-widgets/base",
            "_model_module_version": "1.2.0",
            "_model_name": "LayoutModel",
            "_view_count": null,
            "_view_module": "@jupyter-widgets/base",
            "_view_module_version": "1.2.0",
            "_view_name": "LayoutView",
            "align_content": null,
            "align_items": null,
            "align_self": null,
            "border": null,
            "bottom": null,
            "display": null,
            "flex": null,
            "flex_flow": null,
            "grid_area": null,
            "grid_auto_columns": null,
            "grid_auto_flow": null,
            "grid_auto_rows": null,
            "grid_column": null,
            "grid_gap": null,
            "grid_row": null,
            "grid_template_areas": null,
            "grid_template_columns": null,
            "grid_template_rows": null,
            "height": null,
            "justify_content": null,
            "justify_items": null,
            "left": null,
            "margin": null,
            "max_height": null,
            "max_width": null,
            "min_height": null,
            "min_width": null,
            "object_fit": null,
            "object_position": null,
            "order": null,
            "overflow": null,
            "overflow_x": null,
            "overflow_y": null,
            "padding": null,
            "right": null,
            "top": null,
            "visibility": null,
            "width": null
          }
        },
        "5a1b7cd142e94f22a9abc9e64b11d633": {
          "model_module": "@jupyter-widgets/controls",
          "model_module_version": "1.5.0",
          "model_name": "HTMLModel",
          "state": {
            "_dom_classes": [],
            "_model_module": "@jupyter-widgets/controls",
            "_model_module_version": "1.5.0",
            "_model_name": "HTMLModel",
            "_view_count": null,
            "_view_module": "@jupyter-widgets/controls",
            "_view_module_version": "1.5.0",
            "_view_name": "HTMLView",
            "description": "",
            "description_tooltip": null,
            "layout": "IPY_MODEL_7c74e70870304e83826f2a322341a000",
            "placeholder": "​",
            "style": "IPY_MODEL_5a98ade616cd441da36ed51b85f4b61c",
            "value": " 83.3M/83.3M [00:01&lt;00:00, 54.3MB/s]"
          }
        },
        "5a98ade616cd441da36ed51b85f4b61c": {
          "model_module": "@jupyter-widgets/controls",
          "model_module_version": "1.5.0",
          "model_name": "DescriptionStyleModel",
          "state": {
            "_model_module": "@jupyter-widgets/controls",
            "_model_module_version": "1.5.0",
            "_model_name": "DescriptionStyleModel",
            "_view_count": null,
            "_view_module": "@jupyter-widgets/base",
            "_view_module_version": "1.2.0",
            "_view_name": "StyleView",
            "description_width": ""
          }
        },
        "5d46ef19e68c4974a5001a48121047f3": {
          "model_module": "@jupyter-widgets/base",
          "model_module_version": "1.2.0",
          "model_name": "LayoutModel",
          "state": {
            "_model_module": "@jupyter-widgets/base",
            "_model_module_version": "1.2.0",
            "_model_name": "LayoutModel",
            "_view_count": null,
            "_view_module": "@jupyter-widgets/base",
            "_view_module_version": "1.2.0",
            "_view_name": "LayoutView",
            "align_content": null,
            "align_items": null,
            "align_self": null,
            "border": null,
            "bottom": null,
            "display": null,
            "flex": null,
            "flex_flow": null,
            "grid_area": null,
            "grid_auto_columns": null,
            "grid_auto_flow": null,
            "grid_auto_rows": null,
            "grid_column": null,
            "grid_gap": null,
            "grid_row": null,
            "grid_template_areas": null,
            "grid_template_columns": null,
            "grid_template_rows": null,
            "height": null,
            "justify_content": null,
            "justify_items": null,
            "left": null,
            "margin": null,
            "max_height": null,
            "max_width": null,
            "min_height": null,
            "min_width": null,
            "object_fit": null,
            "object_position": null,
            "order": null,
            "overflow": null,
            "overflow_x": null,
            "overflow_y": null,
            "padding": null,
            "right": null,
            "top": null,
            "visibility": null,
            "width": null
          }
        },
        "5d5fa4a478844c798c91a274361cda2b": {
          "model_module": "@jupyter-widgets/base",
          "model_module_version": "1.2.0",
          "model_name": "LayoutModel",
          "state": {
            "_model_module": "@jupyter-widgets/base",
            "_model_module_version": "1.2.0",
            "_model_name": "LayoutModel",
            "_view_count": null,
            "_view_module": "@jupyter-widgets/base",
            "_view_module_version": "1.2.0",
            "_view_name": "LayoutView",
            "align_content": null,
            "align_items": null,
            "align_self": null,
            "border": null,
            "bottom": null,
            "display": null,
            "flex": null,
            "flex_flow": null,
            "grid_area": null,
            "grid_auto_columns": null,
            "grid_auto_flow": null,
            "grid_auto_rows": null,
            "grid_column": null,
            "grid_gap": null,
            "grid_row": null,
            "grid_template_areas": null,
            "grid_template_columns": null,
            "grid_template_rows": null,
            "height": null,
            "justify_content": null,
            "justify_items": null,
            "left": null,
            "margin": null,
            "max_height": null,
            "max_width": null,
            "min_height": null,
            "min_width": null,
            "object_fit": null,
            "object_position": null,
            "order": null,
            "overflow": null,
            "overflow_x": null,
            "overflow_y": null,
            "padding": null,
            "right": null,
            "top": null,
            "visibility": null,
            "width": null
          }
        },
        "5fb9f7acb4c7491a986f6d674f467028": {
          "model_module": "@jupyter-widgets/base",
          "model_module_version": "1.2.0",
          "model_name": "LayoutModel",
          "state": {
            "_model_module": "@jupyter-widgets/base",
            "_model_module_version": "1.2.0",
            "_model_name": "LayoutModel",
            "_view_count": null,
            "_view_module": "@jupyter-widgets/base",
            "_view_module_version": "1.2.0",
            "_view_name": "LayoutView",
            "align_content": null,
            "align_items": null,
            "align_self": null,
            "border": null,
            "bottom": null,
            "display": null,
            "flex": null,
            "flex_flow": null,
            "grid_area": null,
            "grid_auto_columns": null,
            "grid_auto_flow": null,
            "grid_auto_rows": null,
            "grid_column": null,
            "grid_gap": null,
            "grid_row": null,
            "grid_template_areas": null,
            "grid_template_columns": null,
            "grid_template_rows": null,
            "height": null,
            "justify_content": null,
            "justify_items": null,
            "left": null,
            "margin": null,
            "max_height": null,
            "max_width": null,
            "min_height": null,
            "min_width": null,
            "object_fit": null,
            "object_position": null,
            "order": null,
            "overflow": null,
            "overflow_x": null,
            "overflow_y": null,
            "padding": null,
            "right": null,
            "top": null,
            "visibility": null,
            "width": null
          }
        },
        "65b31b2e94b04dd39298f004f9493e29": {
          "model_module": "@jupyter-widgets/controls",
          "model_module_version": "1.5.0",
          "model_name": "DescriptionStyleModel",
          "state": {
            "_model_module": "@jupyter-widgets/controls",
            "_model_module_version": "1.5.0",
            "_model_name": "DescriptionStyleModel",
            "_view_count": null,
            "_view_module": "@jupyter-widgets/base",
            "_view_module_version": "1.2.0",
            "_view_name": "StyleView",
            "description_width": ""
          }
        },
        "68eb916bf9494da6a1740e404da1c602": {
          "model_module": "@jupyter-widgets/base",
          "model_module_version": "1.2.0",
          "model_name": "LayoutModel",
          "state": {
            "_model_module": "@jupyter-widgets/base",
            "_model_module_version": "1.2.0",
            "_model_name": "LayoutModel",
            "_view_count": null,
            "_view_module": "@jupyter-widgets/base",
            "_view_module_version": "1.2.0",
            "_view_name": "LayoutView",
            "align_content": null,
            "align_items": null,
            "align_self": null,
            "border": null,
            "bottom": null,
            "display": null,
            "flex": null,
            "flex_flow": null,
            "grid_area": null,
            "grid_auto_columns": null,
            "grid_auto_flow": null,
            "grid_auto_rows": null,
            "grid_column": null,
            "grid_gap": null,
            "grid_row": null,
            "grid_template_areas": null,
            "grid_template_columns": null,
            "grid_template_rows": null,
            "height": null,
            "justify_content": null,
            "justify_items": null,
            "left": null,
            "margin": null,
            "max_height": null,
            "max_width": null,
            "min_height": null,
            "min_width": null,
            "object_fit": null,
            "object_position": null,
            "order": null,
            "overflow": null,
            "overflow_x": null,
            "overflow_y": null,
            "padding": null,
            "right": null,
            "top": null,
            "visibility": null,
            "width": null
          }
        },
        "6b7194d233cd47428f58bf987f9712fe": {
          "model_module": "@jupyter-widgets/controls",
          "model_module_version": "1.5.0",
          "model_name": "HTMLModel",
          "state": {
            "_dom_classes": [],
            "_model_module": "@jupyter-widgets/controls",
            "_model_module_version": "1.5.0",
            "_model_name": "HTMLModel",
            "_view_count": null,
            "_view_module": "@jupyter-widgets/controls",
            "_view_module_version": "1.5.0",
            "_view_name": "HTMLView",
            "description": "",
            "description_tooltip": null,
            "layout": "IPY_MODEL_dbbb60965fb24cd9b2dc1ea510e7e480",
            "placeholder": "​",
            "style": "IPY_MODEL_d06a71fe937b4ee1a44764f020bf3d57",
            "value": " 129k/129k [00:00&lt;00:00, 234kB/s]"
          }
        },
        "71d0b4b532e649829bc813d0f09b2c3b": {
          "model_module": "@jupyter-widgets/controls",
          "model_module_version": "1.5.0",
          "model_name": "DescriptionStyleModel",
          "state": {
            "_model_module": "@jupyter-widgets/controls",
            "_model_module_version": "1.5.0",
            "_model_name": "DescriptionStyleModel",
            "_view_count": null,
            "_view_module": "@jupyter-widgets/base",
            "_view_module_version": "1.2.0",
            "_view_name": "StyleView",
            "description_width": ""
          }
        },
        "766c1a1b8c1248e79dfa03ec89dbc4dd": {
          "model_module": "@jupyter-widgets/base",
          "model_module_version": "1.2.0",
          "model_name": "LayoutModel",
          "state": {
            "_model_module": "@jupyter-widgets/base",
            "_model_module_version": "1.2.0",
            "_model_name": "LayoutModel",
            "_view_count": null,
            "_view_module": "@jupyter-widgets/base",
            "_view_module_version": "1.2.0",
            "_view_name": "LayoutView",
            "align_content": null,
            "align_items": null,
            "align_self": null,
            "border": null,
            "bottom": null,
            "display": null,
            "flex": null,
            "flex_flow": null,
            "grid_area": null,
            "grid_auto_columns": null,
            "grid_auto_flow": null,
            "grid_auto_rows": null,
            "grid_column": null,
            "grid_gap": null,
            "grid_row": null,
            "grid_template_areas": null,
            "grid_template_columns": null,
            "grid_template_rows": null,
            "height": null,
            "justify_content": null,
            "justify_items": null,
            "left": null,
            "margin": null,
            "max_height": null,
            "max_width": null,
            "min_height": null,
            "min_width": null,
            "object_fit": null,
            "object_position": null,
            "order": null,
            "overflow": null,
            "overflow_x": null,
            "overflow_y": null,
            "padding": null,
            "right": null,
            "top": null,
            "visibility": null,
            "width": null
          }
        },
        "7c74e70870304e83826f2a322341a000": {
          "model_module": "@jupyter-widgets/base",
          "model_module_version": "1.2.0",
          "model_name": "LayoutModel",
          "state": {
            "_model_module": "@jupyter-widgets/base",
            "_model_module_version": "1.2.0",
            "_model_name": "LayoutModel",
            "_view_count": null,
            "_view_module": "@jupyter-widgets/base",
            "_view_module_version": "1.2.0",
            "_view_name": "LayoutView",
            "align_content": null,
            "align_items": null,
            "align_self": null,
            "border": null,
            "bottom": null,
            "display": null,
            "flex": null,
            "flex_flow": null,
            "grid_area": null,
            "grid_auto_columns": null,
            "grid_auto_flow": null,
            "grid_auto_rows": null,
            "grid_column": null,
            "grid_gap": null,
            "grid_row": null,
            "grid_template_areas": null,
            "grid_template_columns": null,
            "grid_template_rows": null,
            "height": null,
            "justify_content": null,
            "justify_items": null,
            "left": null,
            "margin": null,
            "max_height": null,
            "max_width": null,
            "min_height": null,
            "min_width": null,
            "object_fit": null,
            "object_position": null,
            "order": null,
            "overflow": null,
            "overflow_x": null,
            "overflow_y": null,
            "padding": null,
            "right": null,
            "top": null,
            "visibility": null,
            "width": null
          }
        },
        "7e8227f2dac34d83a3c670e4d4e0a249": {
          "model_module": "@jupyter-widgets/controls",
          "model_module_version": "1.5.0",
          "model_name": "DescriptionStyleModel",
          "state": {
            "_model_module": "@jupyter-widgets/controls",
            "_model_module_version": "1.5.0",
            "_model_name": "DescriptionStyleModel",
            "_view_count": null,
            "_view_module": "@jupyter-widgets/base",
            "_view_module_version": "1.2.0",
            "_view_name": "StyleView",
            "description_width": ""
          }
        },
        "85c433e956794588b166c9ed6fa68c20": {
          "model_module": "@jupyter-widgets/controls",
          "model_module_version": "1.5.0",
          "model_name": "DescriptionStyleModel",
          "state": {
            "_model_module": "@jupyter-widgets/controls",
            "_model_module_version": "1.5.0",
            "_model_name": "DescriptionStyleModel",
            "_view_count": null,
            "_view_module": "@jupyter-widgets/base",
            "_view_module_version": "1.2.0",
            "_view_name": "StyleView",
            "description_width": ""
          }
        },
        "88186bbd5a1c4425b254d608ca85cd8a": {
          "model_module": "@jupyter-widgets/base",
          "model_module_version": "1.2.0",
          "model_name": "LayoutModel",
          "state": {
            "_model_module": "@jupyter-widgets/base",
            "_model_module_version": "1.2.0",
            "_model_name": "LayoutModel",
            "_view_count": null,
            "_view_module": "@jupyter-widgets/base",
            "_view_module_version": "1.2.0",
            "_view_name": "LayoutView",
            "align_content": null,
            "align_items": null,
            "align_self": null,
            "border": null,
            "bottom": null,
            "display": null,
            "flex": null,
            "flex_flow": null,
            "grid_area": null,
            "grid_auto_columns": null,
            "grid_auto_flow": null,
            "grid_auto_rows": null,
            "grid_column": null,
            "grid_gap": null,
            "grid_row": null,
            "grid_template_areas": null,
            "grid_template_columns": null,
            "grid_template_rows": null,
            "height": null,
            "justify_content": null,
            "justify_items": null,
            "left": null,
            "margin": null,
            "max_height": null,
            "max_width": null,
            "min_height": null,
            "min_width": null,
            "object_fit": null,
            "object_position": null,
            "order": null,
            "overflow": null,
            "overflow_x": null,
            "overflow_y": null,
            "padding": null,
            "right": null,
            "top": null,
            "visibility": null,
            "width": null
          }
        },
        "8f9cafa27efc43c4bb3f566f87df523c": {
          "model_module": "@jupyter-widgets/base",
          "model_module_version": "1.2.0",
          "model_name": "LayoutModel",
          "state": {
            "_model_module": "@jupyter-widgets/base",
            "_model_module_version": "1.2.0",
            "_model_name": "LayoutModel",
            "_view_count": null,
            "_view_module": "@jupyter-widgets/base",
            "_view_module_version": "1.2.0",
            "_view_name": "LayoutView",
            "align_content": null,
            "align_items": null,
            "align_self": null,
            "border": null,
            "bottom": null,
            "display": null,
            "flex": null,
            "flex_flow": null,
            "grid_area": null,
            "grid_auto_columns": null,
            "grid_auto_flow": null,
            "grid_auto_rows": null,
            "grid_column": null,
            "grid_gap": null,
            "grid_row": null,
            "grid_template_areas": null,
            "grid_template_columns": null,
            "grid_template_rows": null,
            "height": null,
            "justify_content": null,
            "justify_items": null,
            "left": null,
            "margin": null,
            "max_height": null,
            "max_width": null,
            "min_height": null,
            "min_width": null,
            "object_fit": null,
            "object_position": null,
            "order": null,
            "overflow": null,
            "overflow_x": null,
            "overflow_y": null,
            "padding": null,
            "right": null,
            "top": null,
            "visibility": null,
            "width": null
          }
        },
        "9403474d6e774f4dbb36c843620ba666": {
          "model_module": "@jupyter-widgets/base",
          "model_module_version": "1.2.0",
          "model_name": "LayoutModel",
          "state": {
            "_model_module": "@jupyter-widgets/base",
            "_model_module_version": "1.2.0",
            "_model_name": "LayoutModel",
            "_view_count": null,
            "_view_module": "@jupyter-widgets/base",
            "_view_module_version": "1.2.0",
            "_view_name": "LayoutView",
            "align_content": null,
            "align_items": null,
            "align_self": null,
            "border": null,
            "bottom": null,
            "display": null,
            "flex": null,
            "flex_flow": null,
            "grid_area": null,
            "grid_auto_columns": null,
            "grid_auto_flow": null,
            "grid_auto_rows": null,
            "grid_column": null,
            "grid_gap": null,
            "grid_row": null,
            "grid_template_areas": null,
            "grid_template_columns": null,
            "grid_template_rows": null,
            "height": null,
            "justify_content": null,
            "justify_items": null,
            "left": null,
            "margin": null,
            "max_height": null,
            "max_width": null,
            "min_height": null,
            "min_width": null,
            "object_fit": null,
            "object_position": null,
            "order": null,
            "overflow": null,
            "overflow_x": null,
            "overflow_y": null,
            "padding": null,
            "right": null,
            "top": null,
            "visibility": null,
            "width": null
          }
        },
        "9652595d01cc478c952a368a1f86940d": {
          "model_module": "@jupyter-widgets/controls",
          "model_module_version": "1.5.0",
          "model_name": "FloatProgressModel",
          "state": {
            "_dom_classes": [],
            "_model_module": "@jupyter-widgets/controls",
            "_model_module_version": "1.5.0",
            "_model_name": "FloatProgressModel",
            "_view_count": null,
            "_view_module": "@jupyter-widgets/controls",
            "_view_module_version": "1.5.0",
            "_view_name": "ProgressView",
            "bar_style": "success",
            "description": "",
            "description_tooltip": null,
            "layout": "IPY_MODEL_c9389e064ac54435a3fd356b13b86f4e",
            "max": 1920,
            "min": 0,
            "orientation": "horizontal",
            "style": "IPY_MODEL_098d718a941542b99b772068e442e9fa",
            "value": 1920
          }
        },
        "a0b10ced5ddc47b5867d864bcc786e0e": {
          "model_module": "@jupyter-widgets/controls",
          "model_module_version": "1.5.0",
          "model_name": "ProgressStyleModel",
          "state": {
            "_model_module": "@jupyter-widgets/controls",
            "_model_module_version": "1.5.0",
            "_model_name": "ProgressStyleModel",
            "_view_count": null,
            "_view_module": "@jupyter-widgets/base",
            "_view_module_version": "1.2.0",
            "_view_name": "StyleView",
            "bar_color": null,
            "description_width": ""
          }
        },
        "a6919e4b1e2c4510958bf343ef2524a8": {
          "model_module": "@jupyter-widgets/controls",
          "model_module_version": "1.5.0",
          "model_name": "HTMLModel",
          "state": {
            "_dom_classes": [],
            "_model_module": "@jupyter-widgets/controls",
            "_model_module_version": "1.5.0",
            "_model_name": "HTMLModel",
            "_view_count": null,
            "_view_module": "@jupyter-widgets/controls",
            "_view_module_version": "1.5.0",
            "_view_name": "HTMLView",
            "description": "",
            "description_tooltip": null,
            "layout": "IPY_MODEL_458d4d31cd87402c97c4038553c06574",
            "placeholder": "​",
            "style": "IPY_MODEL_d6d8814501a34ef391c565ba4748e365",
            "value": "Downloading: 100%"
          }
        },
        "a6df649cf752475c9540bf1ba2fc7199": {
          "model_module": "@jupyter-widgets/base",
          "model_module_version": "1.2.0",
          "model_name": "LayoutModel",
          "state": {
            "_model_module": "@jupyter-widgets/base",
            "_model_module_version": "1.2.0",
            "_model_name": "LayoutModel",
            "_view_count": null,
            "_view_module": "@jupyter-widgets/base",
            "_view_module_version": "1.2.0",
            "_view_name": "LayoutView",
            "align_content": null,
            "align_items": null,
            "align_self": null,
            "border": null,
            "bottom": null,
            "display": null,
            "flex": null,
            "flex_flow": null,
            "grid_area": null,
            "grid_auto_columns": null,
            "grid_auto_flow": null,
            "grid_auto_rows": null,
            "grid_column": null,
            "grid_gap": null,
            "grid_row": null,
            "grid_template_areas": null,
            "grid_template_columns": null,
            "grid_template_rows": null,
            "height": null,
            "justify_content": null,
            "justify_items": null,
            "left": null,
            "margin": null,
            "max_height": null,
            "max_width": null,
            "min_height": null,
            "min_width": null,
            "object_fit": null,
            "object_position": null,
            "order": null,
            "overflow": null,
            "overflow_x": null,
            "overflow_y": null,
            "padding": null,
            "right": null,
            "top": null,
            "visibility": null,
            "width": null
          }
        },
        "a730cdaad4e24736b872723240a094dd": {
          "model_module": "@jupyter-widgets/base",
          "model_module_version": "1.2.0",
          "model_name": "LayoutModel",
          "state": {
            "_model_module": "@jupyter-widgets/base",
            "_model_module_version": "1.2.0",
            "_model_name": "LayoutModel",
            "_view_count": null,
            "_view_module": "@jupyter-widgets/base",
            "_view_module_version": "1.2.0",
            "_view_name": "LayoutView",
            "align_content": null,
            "align_items": null,
            "align_self": null,
            "border": null,
            "bottom": null,
            "display": null,
            "flex": null,
            "flex_flow": null,
            "grid_area": null,
            "grid_auto_columns": null,
            "grid_auto_flow": null,
            "grid_auto_rows": null,
            "grid_column": null,
            "grid_gap": null,
            "grid_row": null,
            "grid_template_areas": null,
            "grid_template_columns": null,
            "grid_template_rows": null,
            "height": null,
            "justify_content": null,
            "justify_items": null,
            "left": null,
            "margin": null,
            "max_height": null,
            "max_width": null,
            "min_height": null,
            "min_width": null,
            "object_fit": null,
            "object_position": null,
            "order": null,
            "overflow": null,
            "overflow_x": null,
            "overflow_y": null,
            "padding": null,
            "right": null,
            "top": null,
            "visibility": null,
            "width": null
          }
        },
        "a7d1f042f6124c51aa69ac6985e7c83c": {
          "model_module": "@jupyter-widgets/controls",
          "model_module_version": "1.5.0",
          "model_name": "HTMLModel",
          "state": {
            "_dom_classes": [],
            "_model_module": "@jupyter-widgets/controls",
            "_model_module_version": "1.5.0",
            "_model_name": "HTMLModel",
            "_view_count": null,
            "_view_module": "@jupyter-widgets/controls",
            "_view_module_version": "1.5.0",
            "_view_name": "HTMLView",
            "description": "",
            "description_tooltip": null,
            "layout": "IPY_MODEL_5d46ef19e68c4974a5001a48121047f3",
            "placeholder": "​",
            "style": "IPY_MODEL_65b31b2e94b04dd39298f004f9493e29",
            "value": "Downloading: 100%"
          }
        },
        "a93270536a094ed694b825ea38aa36a2": {
          "model_module": "@jupyter-widgets/controls",
          "model_module_version": "1.5.0",
          "model_name": "ProgressStyleModel",
          "state": {
            "_model_module": "@jupyter-widgets/controls",
            "_model_module_version": "1.5.0",
            "_model_name": "ProgressStyleModel",
            "_view_count": null,
            "_view_module": "@jupyter-widgets/base",
            "_view_module_version": "1.2.0",
            "_view_name": "StyleView",
            "bar_color": null,
            "description_width": ""
          }
        },
        "a9a5de2de75643048ba821d73a00d5c7": {
          "model_module": "@jupyter-widgets/base",
          "model_module_version": "1.2.0",
          "model_name": "LayoutModel",
          "state": {
            "_model_module": "@jupyter-widgets/base",
            "_model_module_version": "1.2.0",
            "_model_name": "LayoutModel",
            "_view_count": null,
            "_view_module": "@jupyter-widgets/base",
            "_view_module_version": "1.2.0",
            "_view_name": "LayoutView",
            "align_content": null,
            "align_items": null,
            "align_self": null,
            "border": null,
            "bottom": null,
            "display": null,
            "flex": null,
            "flex_flow": null,
            "grid_area": null,
            "grid_auto_columns": null,
            "grid_auto_flow": null,
            "grid_auto_rows": null,
            "grid_column": null,
            "grid_gap": null,
            "grid_row": null,
            "grid_template_areas": null,
            "grid_template_columns": null,
            "grid_template_rows": null,
            "height": null,
            "justify_content": null,
            "justify_items": null,
            "left": null,
            "margin": null,
            "max_height": null,
            "max_width": null,
            "min_height": null,
            "min_width": null,
            "object_fit": null,
            "object_position": null,
            "order": null,
            "overflow": null,
            "overflow_x": null,
            "overflow_y": null,
            "padding": null,
            "right": null,
            "top": null,
            "visibility": null,
            "width": null
          }
        },
        "a9b8f75e82274a4e8cfa1026fe8408de": {
          "model_module": "@jupyter-widgets/controls",
          "model_module_version": "1.5.0",
          "model_name": "HTMLModel",
          "state": {
            "_dom_classes": [],
            "_model_module": "@jupyter-widgets/controls",
            "_model_module_version": "1.5.0",
            "_model_name": "HTMLModel",
            "_view_count": null,
            "_view_module": "@jupyter-widgets/controls",
            "_view_module_version": "1.5.0",
            "_view_name": "HTMLView",
            "description": "",
            "description_tooltip": null,
            "layout": "IPY_MODEL_0831e94760fa421384e2b33c97532d09",
            "placeholder": "​",
            "style": "IPY_MODEL_b7073c903e1e4701b68516dc8a867fc1",
            "value": " 1.92k/1.92k [00:00&lt;00:00, 63.8kB/s]"
          }
        },
        "ade8c72f0eb64de58c4a1351c0b5cdbd": {
          "model_module": "@jupyter-widgets/controls",
          "model_module_version": "1.5.0",
          "model_name": "HTMLModel",
          "state": {
            "_dom_classes": [],
            "_model_module": "@jupyter-widgets/controls",
            "_model_module_version": "1.5.0",
            "_model_name": "HTMLModel",
            "_view_count": null,
            "_view_module": "@jupyter-widgets/controls",
            "_view_module_version": "1.5.0",
            "_view_name": "HTMLView",
            "description": "",
            "description_tooltip": null,
            "layout": "IPY_MODEL_68eb916bf9494da6a1740e404da1c602",
            "placeholder": "​",
            "style": "IPY_MODEL_1c72713c82fa4ab89cb8fbe84089828f",
            "value": "Downloading: 100%"
          }
        },
        "ae3785b55e8c4b7e963dc357fb255f05": {
          "model_module": "@jupyter-widgets/base",
          "model_module_version": "1.2.0",
          "model_name": "LayoutModel",
          "state": {
            "_model_module": "@jupyter-widgets/base",
            "_model_module_version": "1.2.0",
            "_model_name": "LayoutModel",
            "_view_count": null,
            "_view_module": "@jupyter-widgets/base",
            "_view_module_version": "1.2.0",
            "_view_name": "LayoutView",
            "align_content": null,
            "align_items": null,
            "align_self": null,
            "border": null,
            "bottom": null,
            "display": null,
            "flex": null,
            "flex_flow": null,
            "grid_area": null,
            "grid_auto_columns": null,
            "grid_auto_flow": null,
            "grid_auto_rows": null,
            "grid_column": null,
            "grid_gap": null,
            "grid_row": null,
            "grid_template_areas": null,
            "grid_template_columns": null,
            "grid_template_rows": null,
            "height": null,
            "justify_content": null,
            "justify_items": null,
            "left": null,
            "margin": null,
            "max_height": null,
            "max_width": null,
            "min_height": null,
            "min_width": null,
            "object_fit": null,
            "object_position": null,
            "order": null,
            "overflow": null,
            "overflow_x": null,
            "overflow_y": null,
            "padding": null,
            "right": null,
            "top": null,
            "visibility": null,
            "width": null
          }
        },
        "b2791832f51f4794acfdbded875bc9b5": {
          "model_module": "@jupyter-widgets/base",
          "model_module_version": "1.2.0",
          "model_name": "LayoutModel",
          "state": {
            "_model_module": "@jupyter-widgets/base",
            "_model_module_version": "1.2.0",
            "_model_name": "LayoutModel",
            "_view_count": null,
            "_view_module": "@jupyter-widgets/base",
            "_view_module_version": "1.2.0",
            "_view_name": "LayoutView",
            "align_content": null,
            "align_items": null,
            "align_self": null,
            "border": null,
            "bottom": null,
            "display": null,
            "flex": null,
            "flex_flow": null,
            "grid_area": null,
            "grid_auto_columns": null,
            "grid_auto_flow": null,
            "grid_auto_rows": null,
            "grid_column": null,
            "grid_gap": null,
            "grid_row": null,
            "grid_template_areas": null,
            "grid_template_columns": null,
            "grid_template_rows": null,
            "height": null,
            "justify_content": null,
            "justify_items": null,
            "left": null,
            "margin": null,
            "max_height": null,
            "max_width": null,
            "min_height": null,
            "min_width": null,
            "object_fit": null,
            "object_position": null,
            "order": null,
            "overflow": null,
            "overflow_x": null,
            "overflow_y": null,
            "padding": null,
            "right": null,
            "top": null,
            "visibility": null,
            "width": null
          }
        },
        "b67a926cc4904c2f84efd509098e103c": {
          "model_module": "@jupyter-widgets/controls",
          "model_module_version": "1.5.0",
          "model_name": "HTMLModel",
          "state": {
            "_dom_classes": [],
            "_model_module": "@jupyter-widgets/controls",
            "_model_module_version": "1.5.0",
            "_model_name": "HTMLModel",
            "_view_count": null,
            "_view_module": "@jupyter-widgets/controls",
            "_view_module_version": "1.5.0",
            "_view_name": "HTMLView",
            "description": "",
            "description_tooltip": null,
            "layout": "IPY_MODEL_0c4de4008c2e45e5a31d21cdb954f0f2",
            "placeholder": "​",
            "style": "IPY_MODEL_28ef8f3ac2e44445ac9e40d140e513d3",
            "value": "Downloading: 100%"
          }
        },
        "b7073c903e1e4701b68516dc8a867fc1": {
          "model_module": "@jupyter-widgets/controls",
          "model_module_version": "1.5.0",
          "model_name": "DescriptionStyleModel",
          "state": {
            "_model_module": "@jupyter-widgets/controls",
            "_model_module_version": "1.5.0",
            "_model_name": "DescriptionStyleModel",
            "_view_count": null,
            "_view_module": "@jupyter-widgets/base",
            "_view_module_version": "1.2.0",
            "_view_name": "StyleView",
            "description_width": ""
          }
        },
        "b71b33109b124e30b0004634467e64dc": {
          "model_module": "@jupyter-widgets/base",
          "model_module_version": "1.2.0",
          "model_name": "LayoutModel",
          "state": {
            "_model_module": "@jupyter-widgets/base",
            "_model_module_version": "1.2.0",
            "_model_name": "LayoutModel",
            "_view_count": null,
            "_view_module": "@jupyter-widgets/base",
            "_view_module_version": "1.2.0",
            "_view_name": "LayoutView",
            "align_content": null,
            "align_items": null,
            "align_self": null,
            "border": null,
            "bottom": null,
            "display": null,
            "flex": null,
            "flex_flow": null,
            "grid_area": null,
            "grid_auto_columns": null,
            "grid_auto_flow": null,
            "grid_auto_rows": null,
            "grid_column": null,
            "grid_gap": null,
            "grid_row": null,
            "grid_template_areas": null,
            "grid_template_columns": null,
            "grid_template_rows": null,
            "height": null,
            "justify_content": null,
            "justify_items": null,
            "left": null,
            "margin": null,
            "max_height": null,
            "max_width": null,
            "min_height": null,
            "min_width": null,
            "object_fit": null,
            "object_position": null,
            "order": null,
            "overflow": null,
            "overflow_x": null,
            "overflow_y": null,
            "padding": null,
            "right": null,
            "top": null,
            "visibility": null,
            "width": null
          }
        },
        "b8cdfacd7bee4c398fc513ed2a3311e3": {
          "model_module": "@jupyter-widgets/base",
          "model_module_version": "1.2.0",
          "model_name": "LayoutModel",
          "state": {
            "_model_module": "@jupyter-widgets/base",
            "_model_module_version": "1.2.0",
            "_model_name": "LayoutModel",
            "_view_count": null,
            "_view_module": "@jupyter-widgets/base",
            "_view_module_version": "1.2.0",
            "_view_name": "LayoutView",
            "align_content": null,
            "align_items": null,
            "align_self": null,
            "border": null,
            "bottom": null,
            "display": null,
            "flex": null,
            "flex_flow": null,
            "grid_area": null,
            "grid_auto_columns": null,
            "grid_auto_flow": null,
            "grid_auto_rows": null,
            "grid_column": null,
            "grid_gap": null,
            "grid_row": null,
            "grid_template_areas": null,
            "grid_template_columns": null,
            "grid_template_rows": null,
            "height": null,
            "justify_content": null,
            "justify_items": null,
            "left": null,
            "margin": null,
            "max_height": null,
            "max_width": null,
            "min_height": null,
            "min_width": null,
            "object_fit": null,
            "object_position": null,
            "order": null,
            "overflow": null,
            "overflow_x": null,
            "overflow_y": null,
            "padding": null,
            "right": null,
            "top": null,
            "visibility": null,
            "width": null
          }
        },
        "bbacac6c5aff4686a31130560e9cf86b": {
          "model_module": "@jupyter-widgets/controls",
          "model_module_version": "1.5.0",
          "model_name": "HBoxModel",
          "state": {
            "_dom_classes": [],
            "_model_module": "@jupyter-widgets/controls",
            "_model_module_version": "1.5.0",
            "_model_name": "HBoxModel",
            "_view_count": null,
            "_view_module": "@jupyter-widgets/controls",
            "_view_module_version": "1.5.0",
            "_view_name": "HBoxView",
            "box_style": "",
            "children": [
              "IPY_MODEL_ade8c72f0eb64de58c4a1351c0b5cdbd",
              "IPY_MODEL_ea54cd59edc64f95958f62a9b6e182c9",
              "IPY_MODEL_5a1b7cd142e94f22a9abc9e64b11d633"
            ],
            "layout": "IPY_MODEL_9403474d6e774f4dbb36c843620ba666"
          }
        },
        "bf18adc120174a8bb6cd6f09d853911f": {
          "model_module": "@jupyter-widgets/base",
          "model_module_version": "1.2.0",
          "model_name": "LayoutModel",
          "state": {
            "_model_module": "@jupyter-widgets/base",
            "_model_module_version": "1.2.0",
            "_model_name": "LayoutModel",
            "_view_count": null,
            "_view_module": "@jupyter-widgets/base",
            "_view_module_version": "1.2.0",
            "_view_name": "LayoutView",
            "align_content": null,
            "align_items": null,
            "align_self": null,
            "border": null,
            "bottom": null,
            "display": null,
            "flex": null,
            "flex_flow": null,
            "grid_area": null,
            "grid_auto_columns": null,
            "grid_auto_flow": null,
            "grid_auto_rows": null,
            "grid_column": null,
            "grid_gap": null,
            "grid_row": null,
            "grid_template_areas": null,
            "grid_template_columns": null,
            "grid_template_rows": null,
            "height": null,
            "justify_content": null,
            "justify_items": null,
            "left": null,
            "margin": null,
            "max_height": null,
            "max_width": null,
            "min_height": null,
            "min_width": null,
            "object_fit": null,
            "object_position": null,
            "order": null,
            "overflow": null,
            "overflow_x": null,
            "overflow_y": null,
            "padding": null,
            "right": null,
            "top": null,
            "visibility": null,
            "width": null
          }
        },
        "c9389e064ac54435a3fd356b13b86f4e": {
          "model_module": "@jupyter-widgets/base",
          "model_module_version": "1.2.0",
          "model_name": "LayoutModel",
          "state": {
            "_model_module": "@jupyter-widgets/base",
            "_model_module_version": "1.2.0",
            "_model_name": "LayoutModel",
            "_view_count": null,
            "_view_module": "@jupyter-widgets/base",
            "_view_module_version": "1.2.0",
            "_view_name": "LayoutView",
            "align_content": null,
            "align_items": null,
            "align_self": null,
            "border": null,
            "bottom": null,
            "display": null,
            "flex": null,
            "flex_flow": null,
            "grid_area": null,
            "grid_auto_columns": null,
            "grid_auto_flow": null,
            "grid_auto_rows": null,
            "grid_column": null,
            "grid_gap": null,
            "grid_row": null,
            "grid_template_areas": null,
            "grid_template_columns": null,
            "grid_template_rows": null,
            "height": null,
            "justify_content": null,
            "justify_items": null,
            "left": null,
            "margin": null,
            "max_height": null,
            "max_width": null,
            "min_height": null,
            "min_width": null,
            "object_fit": null,
            "object_position": null,
            "order": null,
            "overflow": null,
            "overflow_x": null,
            "overflow_y": null,
            "padding": null,
            "right": null,
            "top": null,
            "visibility": null,
            "width": null
          }
        },
        "d06a71fe937b4ee1a44764f020bf3d57": {
          "model_module": "@jupyter-widgets/controls",
          "model_module_version": "1.5.0",
          "model_name": "DescriptionStyleModel",
          "state": {
            "_model_module": "@jupyter-widgets/controls",
            "_model_module_version": "1.5.0",
            "_model_name": "DescriptionStyleModel",
            "_view_count": null,
            "_view_module": "@jupyter-widgets/base",
            "_view_module_version": "1.2.0",
            "_view_name": "StyleView",
            "description_width": ""
          }
        },
        "d137a72df0a849a8913fd62924c1848a": {
          "model_module": "@jupyter-widgets/base",
          "model_module_version": "1.2.0",
          "model_name": "LayoutModel",
          "state": {
            "_model_module": "@jupyter-widgets/base",
            "_model_module_version": "1.2.0",
            "_model_name": "LayoutModel",
            "_view_count": null,
            "_view_module": "@jupyter-widgets/base",
            "_view_module_version": "1.2.0",
            "_view_name": "LayoutView",
            "align_content": null,
            "align_items": null,
            "align_self": null,
            "border": null,
            "bottom": null,
            "display": null,
            "flex": null,
            "flex_flow": null,
            "grid_area": null,
            "grid_auto_columns": null,
            "grid_auto_flow": null,
            "grid_auto_rows": null,
            "grid_column": null,
            "grid_gap": null,
            "grid_row": null,
            "grid_template_areas": null,
            "grid_template_columns": null,
            "grid_template_rows": null,
            "height": null,
            "justify_content": null,
            "justify_items": null,
            "left": null,
            "margin": null,
            "max_height": null,
            "max_width": null,
            "min_height": null,
            "min_width": null,
            "object_fit": null,
            "object_position": null,
            "order": null,
            "overflow": null,
            "overflow_x": null,
            "overflow_y": null,
            "padding": null,
            "right": null,
            "top": null,
            "visibility": null,
            "width": null
          }
        },
        "d6d8814501a34ef391c565ba4748e365": {
          "model_module": "@jupyter-widgets/controls",
          "model_module_version": "1.5.0",
          "model_name": "DescriptionStyleModel",
          "state": {
            "_model_module": "@jupyter-widgets/controls",
            "_model_module_version": "1.5.0",
            "_model_name": "DescriptionStyleModel",
            "_view_count": null,
            "_view_module": "@jupyter-widgets/base",
            "_view_module_version": "1.2.0",
            "_view_name": "StyleView",
            "description_width": ""
          }
        },
        "dbbb60965fb24cd9b2dc1ea510e7e480": {
          "model_module": "@jupyter-widgets/base",
          "model_module_version": "1.2.0",
          "model_name": "LayoutModel",
          "state": {
            "_model_module": "@jupyter-widgets/base",
            "_model_module_version": "1.2.0",
            "_model_name": "LayoutModel",
            "_view_count": null,
            "_view_module": "@jupyter-widgets/base",
            "_view_module_version": "1.2.0",
            "_view_name": "LayoutView",
            "align_content": null,
            "align_items": null,
            "align_self": null,
            "border": null,
            "bottom": null,
            "display": null,
            "flex": null,
            "flex_flow": null,
            "grid_area": null,
            "grid_auto_columns": null,
            "grid_auto_flow": null,
            "grid_auto_rows": null,
            "grid_column": null,
            "grid_gap": null,
            "grid_row": null,
            "grid_template_areas": null,
            "grid_template_columns": null,
            "grid_template_rows": null,
            "height": null,
            "justify_content": null,
            "justify_items": null,
            "left": null,
            "margin": null,
            "max_height": null,
            "max_width": null,
            "min_height": null,
            "min_width": null,
            "object_fit": null,
            "object_position": null,
            "order": null,
            "overflow": null,
            "overflow_x": null,
            "overflow_y": null,
            "padding": null,
            "right": null,
            "top": null,
            "visibility": null,
            "width": null
          }
        },
        "e4802c94ccaf404180f3760e3b859a3a": {
          "model_module": "@jupyter-widgets/base",
          "model_module_version": "1.2.0",
          "model_name": "LayoutModel",
          "state": {
            "_model_module": "@jupyter-widgets/base",
            "_model_module_version": "1.2.0",
            "_model_name": "LayoutModel",
            "_view_count": null,
            "_view_module": "@jupyter-widgets/base",
            "_view_module_version": "1.2.0",
            "_view_name": "LayoutView",
            "align_content": null,
            "align_items": null,
            "align_self": null,
            "border": null,
            "bottom": null,
            "display": null,
            "flex": null,
            "flex_flow": null,
            "grid_area": null,
            "grid_auto_columns": null,
            "grid_auto_flow": null,
            "grid_auto_rows": null,
            "grid_column": null,
            "grid_gap": null,
            "grid_row": null,
            "grid_template_areas": null,
            "grid_template_columns": null,
            "grid_template_rows": null,
            "height": null,
            "justify_content": null,
            "justify_items": null,
            "left": null,
            "margin": null,
            "max_height": null,
            "max_width": null,
            "min_height": null,
            "min_width": null,
            "object_fit": null,
            "object_position": null,
            "order": null,
            "overflow": null,
            "overflow_x": null,
            "overflow_y": null,
            "padding": null,
            "right": null,
            "top": null,
            "visibility": null,
            "width": null
          }
        },
        "e491634079f44e65a6edb5d799a2b74e": {
          "model_module": "@jupyter-widgets/controls",
          "model_module_version": "1.5.0",
          "model_name": "DescriptionStyleModel",
          "state": {
            "_model_module": "@jupyter-widgets/controls",
            "_model_module_version": "1.5.0",
            "_model_name": "DescriptionStyleModel",
            "_view_count": null,
            "_view_module": "@jupyter-widgets/base",
            "_view_module_version": "1.2.0",
            "_view_name": "StyleView",
            "description_width": ""
          }
        },
        "e73e393e01f4487d86dfbe5e401b4c09": {
          "model_module": "@jupyter-widgets/base",
          "model_module_version": "1.2.0",
          "model_name": "LayoutModel",
          "state": {
            "_model_module": "@jupyter-widgets/base",
            "_model_module_version": "1.2.0",
            "_model_name": "LayoutModel",
            "_view_count": null,
            "_view_module": "@jupyter-widgets/base",
            "_view_module_version": "1.2.0",
            "_view_name": "LayoutView",
            "align_content": null,
            "align_items": null,
            "align_self": null,
            "border": null,
            "bottom": null,
            "display": null,
            "flex": null,
            "flex_flow": null,
            "grid_area": null,
            "grid_auto_columns": null,
            "grid_auto_flow": null,
            "grid_auto_rows": null,
            "grid_column": null,
            "grid_gap": null,
            "grid_row": null,
            "grid_template_areas": null,
            "grid_template_columns": null,
            "grid_template_rows": null,
            "height": null,
            "justify_content": null,
            "justify_items": null,
            "left": null,
            "margin": null,
            "max_height": null,
            "max_width": null,
            "min_height": null,
            "min_width": null,
            "object_fit": null,
            "object_position": null,
            "order": null,
            "overflow": null,
            "overflow_x": null,
            "overflow_y": null,
            "padding": null,
            "right": null,
            "top": null,
            "visibility": null,
            "width": null
          }
        },
        "e9b04004efb944c6ad7d53763d426626": {
          "model_module": "@jupyter-widgets/controls",
          "model_module_version": "1.5.0",
          "model_name": "DescriptionStyleModel",
          "state": {
            "_model_module": "@jupyter-widgets/controls",
            "_model_module_version": "1.5.0",
            "_model_name": "DescriptionStyleModel",
            "_view_count": null,
            "_view_module": "@jupyter-widgets/base",
            "_view_module_version": "1.2.0",
            "_view_name": "StyleView",
            "description_width": ""
          }
        },
        "ea54cd59edc64f95958f62a9b6e182c9": {
          "model_module": "@jupyter-widgets/controls",
          "model_module_version": "1.5.0",
          "model_name": "FloatProgressModel",
          "state": {
            "_dom_classes": [],
            "_model_module": "@jupyter-widgets/controls",
            "_model_module_version": "1.5.0",
            "_model_name": "FloatProgressModel",
            "_view_count": null,
            "_view_module": "@jupyter-widgets/controls",
            "_view_module_version": "1.5.0",
            "_view_name": "ProgressView",
            "bar_style": "success",
            "description": "",
            "description_tooltip": null,
            "layout": "IPY_MODEL_a730cdaad4e24736b872723240a094dd",
            "max": 83316686,
            "min": 0,
            "orientation": "horizontal",
            "style": "IPY_MODEL_a0b10ced5ddc47b5867d864bcc786e0e",
            "value": 83316686
          }
        },
        "eb2e878c6f0d413b9e82b93b6057e66f": {
          "model_module": "@jupyter-widgets/base",
          "model_module_version": "1.2.0",
          "model_name": "LayoutModel",
          "state": {
            "_model_module": "@jupyter-widgets/base",
            "_model_module_version": "1.2.0",
            "_model_name": "LayoutModel",
            "_view_count": null,
            "_view_module": "@jupyter-widgets/base",
            "_view_module_version": "1.2.0",
            "_view_name": "LayoutView",
            "align_content": null,
            "align_items": null,
            "align_self": null,
            "border": null,
            "bottom": null,
            "display": null,
            "flex": null,
            "flex_flow": null,
            "grid_area": null,
            "grid_auto_columns": null,
            "grid_auto_flow": null,
            "grid_auto_rows": null,
            "grid_column": null,
            "grid_gap": null,
            "grid_row": null,
            "grid_template_areas": null,
            "grid_template_columns": null,
            "grid_template_rows": null,
            "height": null,
            "justify_content": null,
            "justify_items": null,
            "left": null,
            "margin": null,
            "max_height": null,
            "max_width": null,
            "min_height": null,
            "min_width": null,
            "object_fit": null,
            "object_position": null,
            "order": null,
            "overflow": null,
            "overflow_x": null,
            "overflow_y": null,
            "padding": null,
            "right": null,
            "top": null,
            "visibility": null,
            "width": null
          }
        },
        "ec474373198046d299e09b4823a2766d": {
          "model_module": "@jupyter-widgets/controls",
          "model_module_version": "1.5.0",
          "model_name": "HTMLModel",
          "state": {
            "_dom_classes": [],
            "_model_module": "@jupyter-widgets/controls",
            "_model_module_version": "1.5.0",
            "_model_name": "HTMLModel",
            "_view_count": null,
            "_view_module": "@jupyter-widgets/controls",
            "_view_module_version": "1.5.0",
            "_view_name": "HTMLView",
            "description": "",
            "description_tooltip": null,
            "layout": "IPY_MODEL_ae3785b55e8c4b7e963dc357fb255f05",
            "placeholder": "​",
            "style": "IPY_MODEL_7e8227f2dac34d83a3c670e4d4e0a249",
            "value": " 17.7M/17.7M [00:01&lt;00:00, 33.8MB/s]"
          }
        },
        "f638d0f51ac548e8a36a0b8858082e29": {
          "model_module": "@jupyter-widgets/controls",
          "model_module_version": "1.5.0",
          "model_name": "HTMLModel",
          "state": {
            "_dom_classes": [],
            "_model_module": "@jupyter-widgets/controls",
            "_model_module_version": "1.5.0",
            "_model_name": "HTMLModel",
            "_view_count": null,
            "_view_module": "@jupyter-widgets/controls",
            "_view_module_version": "1.5.0",
            "_view_name": "HTMLView",
            "description": "",
            "description_tooltip": null,
            "layout": "IPY_MODEL_32792ea893a140dab321565df126e461",
            "placeholder": "​",
            "style": "IPY_MODEL_e9b04004efb944c6ad7d53763d426626",
            "value": "Downloading: 100%"
          }
        },
        "fc80e8542e34422b86874eee0b20b3f8": {
          "model_module": "@jupyter-widgets/controls",
          "model_module_version": "1.5.0",
          "model_name": "ProgressStyleModel",
          "state": {
            "_model_module": "@jupyter-widgets/controls",
            "_model_module_version": "1.5.0",
            "_model_name": "ProgressStyleModel",
            "_view_count": null,
            "_view_module": "@jupyter-widgets/base",
            "_view_module_version": "1.2.0",
            "_view_name": "StyleView",
            "bar_color": null,
            "description_width": ""
          }
        },
        "fd8fd5f045414ab199d3f37c9397ad54": {
          "model_module": "@jupyter-widgets/controls",
          "model_module_version": "1.5.0",
          "model_name": "HTMLModel",
          "state": {
            "_dom_classes": [],
            "_model_module": "@jupyter-widgets/controls",
            "_model_module_version": "1.5.0",
            "_model_name": "HTMLModel",
            "_view_count": null,
            "_view_module": "@jupyter-widgets/controls",
            "_view_module_version": "1.5.0",
            "_view_name": "HTMLView",
            "description": "",
            "description_tooltip": null,
            "layout": "IPY_MODEL_a6df649cf752475c9540bf1ba2fc7199",
            "placeholder": "​",
            "style": "IPY_MODEL_e491634079f44e65a6edb5d799a2b74e",
            "value": "Downloading: 100%"
          }
        },
        "fd98d75dc2424c2faecfb4b5f6a94aa2": {
          "model_module": "@jupyter-widgets/controls",
          "model_module_version": "1.5.0",
          "model_name": "FloatProgressModel",
          "state": {
            "_dom_classes": [],
            "_model_module": "@jupyter-widgets/controls",
            "_model_module_version": "1.5.0",
            "_model_name": "FloatProgressModel",
            "_view_count": null,
            "_view_module": "@jupyter-widgets/controls",
            "_view_module_version": "1.5.0",
            "_view_name": "ProgressView",
            "bar_style": "success",
            "description": "",
            "description_tooltip": null,
            "layout": "IPY_MODEL_d137a72df0a849a8913fd62924c1848a",
            "max": 318,
            "min": 0,
            "orientation": "horizontal",
            "style": "IPY_MODEL_105cf78a882a4cc3bbdaaa2b80217110",
            "value": 318
          }
        },
        "fe9e7728c09946c5908d7502c3f77432": {
          "model_module": "@jupyter-widgets/controls",
          "model_module_version": "1.5.0",
          "model_name": "HBoxModel",
          "state": {
            "_dom_classes": [],
            "_model_module": "@jupyter-widgets/controls",
            "_model_module_version": "1.5.0",
            "_model_name": "HBoxModel",
            "_view_count": null,
            "_view_module": "@jupyter-widgets/controls",
            "_view_module_version": "1.5.0",
            "_view_name": "HBoxView",
            "box_style": "",
            "children": [
              "IPY_MODEL_b67a926cc4904c2f84efd509098e103c",
              "IPY_MODEL_fd98d75dc2424c2faecfb4b5f6a94aa2",
              "IPY_MODEL_187e2d909bfc4a41b2502b964a03fcad"
            ],
            "layout": "IPY_MODEL_bf18adc120174a8bb6cd6f09d853911f"
          }
        },
        "feaf363bb8c548fcae1cd13fd1074581": {
          "model_module": "@jupyter-widgets/base",
          "model_module_version": "1.2.0",
          "model_name": "LayoutModel",
          "state": {
            "_model_module": "@jupyter-widgets/base",
            "_model_module_version": "1.2.0",
            "_model_name": "LayoutModel",
            "_view_count": null,
            "_view_module": "@jupyter-widgets/base",
            "_view_module_version": "1.2.0",
            "_view_name": "LayoutView",
            "align_content": null,
            "align_items": null,
            "align_self": null,
            "border": null,
            "bottom": null,
            "display": null,
            "flex": null,
            "flex_flow": null,
            "grid_area": null,
            "grid_auto_columns": null,
            "grid_auto_flow": null,
            "grid_auto_rows": null,
            "grid_column": null,
            "grid_gap": null,
            "grid_row": null,
            "grid_template_areas": null,
            "grid_template_columns": null,
            "grid_template_rows": null,
            "height": null,
            "justify_content": null,
            "justify_items": null,
            "left": null,
            "margin": null,
            "max_height": null,
            "max_width": null,
            "min_height": null,
            "min_width": null,
            "object_fit": null,
            "object_position": null,
            "order": null,
            "overflow": null,
            "overflow_x": null,
            "overflow_y": null,
            "padding": null,
            "right": null,
            "top": null,
            "visibility": null,
            "width": null
          }
        }
      }
    }
  },
  "nbformat": 4,
  "nbformat_minor": 0
}
